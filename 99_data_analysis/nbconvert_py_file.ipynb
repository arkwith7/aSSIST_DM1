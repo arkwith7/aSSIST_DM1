{
 "cells": [
  {
   "cell_type": "code",
   "execution_count": 1,
   "metadata": {},
   "outputs": [],
   "source": [
    "import os\n",
    "import nbformat\n",
    "from nbconvert.exporters.script import ScriptExporter"
   ]
  },
  {
   "cell_type": "code",
   "execution_count": 2,
   "metadata": {},
   "outputs": [
    {
     "name": "stdout",
     "output_type": "stream",
     "text": [
      "노트북 제목: 제목 없음\n",
      "총 셀 개수: 36\n",
      "셀 유형 분포:\n",
      "  - markdown: 2\n",
      "  - code: 34\n",
      "파일이 성공적으로 로드되었습니다.\n"
     ]
    }
   ],
   "source": [
    "# 사용자로부터 파일명 입력 받기\n",
    "notebook_filename = input(\"Jupyter Notebook 파일명을 입력하세요: \")\n",
    "\n",
    "# 입력받은 파일명으로 노트북 열기\n",
    "try:\n",
    "    with open(notebook_filename) as f:\n",
    "        nb = nbformat.read(f, as_version=4)\n",
    "    \n",
    "    # 노트북 정보 확인\n",
    "    print(f\"노트북 제목: {nb.metadata.get('title', '제목 없음')}\")\n",
    "    print(f\"총 셀 개수: {len(nb.cells)}\")\n",
    "    print(\"셀 유형 분포:\")\n",
    "    cell_types = {}\n",
    "    for cell in nb.cells:\n",
    "        cell_type = cell['cell_type']\n",
    "        cell_types[cell_type] = cell_types.get(cell_type, 0) + 1\n",
    "    for cell_type, count in cell_types.items():\n",
    "        print(f\"  - {cell_type}: {count}\")\n",
    "    \n",
    "    print(\"파일이 성공적으로 로드되었습니다.\")\n",
    "except FileNotFoundError:\n",
    "    print(f\"오류: '{notebook_filename}' 파일을 찾을 수 없습니다.\")\n",
    "except Exception as e:\n",
    "    print(f\"오류 발생: {str(e)}\")"
   ]
  },
  {
   "cell_type": "code",
   "execution_count": 3,
   "metadata": {},
   "outputs": [
    {
     "name": "stdout",
     "output_type": "stream",
     "text": [
      "\n",
      "생성된 파일 확인:\n",
      "  - module_0.py: 생성됨 (크기: 1126 바이트)\n",
      "  - module_1.py: 생성됨 (크기: 19107 바이트)\n",
      "  - module_2.py: 생성됨 (크기: 8793 바이트)\n",
      "\n",
      "총 3개의 파일이 생성되었습니다.\n"
     ]
    }
   ],
   "source": [
    "exporter = ScriptExporter()\n",
    "output, resources = exporter.from_notebook_node(nb)\n",
    "\n",
    "created_files = []\n",
    "for i, module in enumerate(output.split(\"\\n\\n\\n\\n\")):\n",
    "    filename = f\"module_{i}.py\"\n",
    "    with open(filename, \"w\") as f:\n",
    "        f.write(module)\n",
    "    created_files.append(filename)\n",
    "\n",
    "# 생성된 파일 확인\n",
    "print(\"\\n생성된 파일 확인:\")\n",
    "for filename in created_files:\n",
    "    if os.path.exists(filename):\n",
    "        file_size = os.path.getsize(filename)\n",
    "        print(f\"  - {filename}: 생성됨 (크기: {file_size} 바이트)\")\n",
    "    else:\n",
    "        print(f\"  - {filename}: 생성 실패\")\n",
    "\n",
    "print(f\"\\n총 {len(created_files)}개의 파일이 생성되었습니다.\")"
   ]
  }
 ],
 "metadata": {
  "kernelspec": {
   "display_name": "venv",
   "language": "python",
   "name": "python3"
  },
  "language_info": {
   "codemirror_mode": {
    "name": "ipython",
    "version": 3
   },
   "file_extension": ".py",
   "mimetype": "text/x-python",
   "name": "python",
   "nbconvert_exporter": "python",
   "pygments_lexer": "ipython3",
   "version": "3.11.1"
  }
 },
 "nbformat": 4,
 "nbformat_minor": 2
}
