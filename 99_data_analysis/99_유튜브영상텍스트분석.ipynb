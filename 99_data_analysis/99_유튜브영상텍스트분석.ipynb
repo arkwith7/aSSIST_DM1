{
 "cells": [
  {
   "cell_type": "code",
   "execution_count": 10,
   "metadata": {},
   "outputs": [
    {
     "name": "stdout",
     "output_type": "stream",
     "text": [
      "Downloaded Video file path: ./downloads/공동체 성경읽기_24년 6월 25일_177일차 (욥 14-16 시 22).mp4\n"
     ]
    }
   ],
   "source": [
    "from pytube import YouTube\n",
    "import os\n",
    "\n",
    "def download_youtube_video(video_url, output_path):\n",
    "\n",
    "    yt = YouTube(video_url)\n",
    "    yt = yt.streams.filter(progressive=True, file_extension='mp4').order_by('resolution').desc().first()\n",
    "    if not os.path.exists(output_path):\n",
    "        os.makedirs(output_path)\n",
    "\n",
    "    # 파일을 다운로드하고 파일 이름을 가져옵니다.\n",
    "    file_name = yt.download(output_path)\n",
    "    filename = os.path.basename(file_name)\n",
    "\n",
    "    # 마지막 \"/\" 이전의 문자열을 반환합니다.\n",
    "    last_slash_idx = filename.rfind(\"/\")\n",
    "\n",
    "    # 파일 이름을 반환합니다.  \n",
    "    return filename[last_slash_idx + 1:]\n",
    "\n",
    "video_url = 'https://www.youtube.com/watch?v=9Bk55IR2nbk'\n",
    "output_path = './downloads'\n",
    "Video_filename = download_youtube_video(video_url, output_path)\n",
    "\n",
    "# 전체 파일 경로를 구성합니다.\n",
    "Video_file_path = os.path.join(output_path, Video_filename)\n",
    "\n",
    "print(\"Downloaded Video file path:\", Video_file_path)"
   ]
  },
  {
   "cell_type": "code",
   "execution_count": 11,
   "metadata": {},
   "outputs": [
    {
     "name": "stderr",
     "output_type": "stream",
     "text": [
      "ffmpeg version 6.1.1-3ubuntu5 Copyright (c) 2000-2023 the FFmpeg developers\n",
      "  built with gcc 13 (Ubuntu 13.2.0-23ubuntu3)\n",
      "  configuration: --prefix=/usr --extra-version=3ubuntu5 --toolchain=hardened --libdir=/usr/lib/x86_64-linux-gnu --incdir=/usr/include/x86_64-linux-gnu --arch=amd64 --enable-gpl --disable-stripping --disable-omx --enable-gnutls --enable-libaom --enable-libass --enable-libbs2b --enable-libcaca --enable-libcdio --enable-libcodec2 --enable-libdav1d --enable-libflite --enable-libfontconfig --enable-libfreetype --enable-libfribidi --enable-libglslang --enable-libgme --enable-libgsm --enable-libharfbuzz --enable-libmp3lame --enable-libmysofa --enable-libopenjpeg --enable-libopenmpt --enable-libopus --enable-librubberband --enable-libshine --enable-libsnappy --enable-libsoxr --enable-libspeex --enable-libtheora --enable-libtwolame --enable-libvidstab --enable-libvorbis --enable-libvpx --enable-libwebp --enable-libx265 --enable-libxml2 --enable-libxvid --enable-libzimg --enable-openal --enable-opencl --enable-opengl --disable-sndio --enable-libvpl --disable-libmfx --enable-libdc1394 --enable-libdrm --enable-libiec61883 --enable-chromaprint --enable-frei0r --enable-ladspa --enable-libbluray --enable-libjack --enable-libpulse --enable-librabbitmq --enable-librist --enable-libsrt --enable-libssh --enable-libsvtav1 --enable-libx264 --enable-libzmq --enable-libzvbi --enable-lv2 --enable-sdl2 --enable-libplacebo --enable-librav1e --enable-pocketsphinx --enable-librsvg --enable-libjxl --enable-shared\n",
      "  libavutil      58. 29.100 / 58. 29.100\n",
      "  libavcodec     60. 31.102 / 60. 31.102\n",
      "  libavformat    60. 16.100 / 60. 16.100\n",
      "  libavdevice    60.  3.100 / 60.  3.100\n",
      "  libavfilter     9. 12.100 /  9. 12.100\n",
      "  libswscale      7.  5.100 /  7.  5.100\n",
      "  libswresample   4. 12.100 /  4. 12.100\n",
      "  libpostproc    57.  3.100 / 57.  3.100\n",
      "Input #0, mov,mp4,m4a,3gp,3g2,mj2, from './downloads/공동체 성경읽기_24년 6월 25일_177일차 (욥 14-16 시 22).mp4':\n",
      "  Metadata:\n",
      "    major_brand     : mp42\n",
      "    minor_version   : 0\n",
      "    compatible_brands: isommp42\n",
      "    encoder         : Google\n",
      "  Duration: 00:14:30.07, start: 0.000000, bitrate: 196 kb/s\n",
      "  Stream #0:0[0x1](und): Video: h264 (Main) (avc1 / 0x31637661), yuv420p(tv, bt709, progressive), 640x360 [SAR 1:1 DAR 16:9], 96 kb/s, 29.97 fps, 29.97 tbr, 30k tbn (default)\n",
      "    Metadata:\n",
      "      handler_name    : ISO Media file produced by Google Inc.\n",
      "      vendor_id       : [0][0][0][0]\n",
      "  Stream #0:1[0x2](eng): Audio: aac (LC) (mp4a / 0x6134706D), 44100 Hz, stereo, fltp, 96 kb/s (default)\n",
      "    Metadata:\n",
      "      handler_name    : ISO Media file produced by Google Inc.\n",
      "      vendor_id       : [0][0][0][0]\n",
      "Stream mapping:\n",
      "  Stream #0:1 -> #0:0 (aac (native) -> pcm_s16le (native))\n",
      "Press [q] to stop, [?] for help\n",
      "Output #0, wav, to './downloads/video_audio.wav':\n",
      "  Metadata:\n",
      "    major_brand     : mp42\n",
      "    minor_version   : 0\n",
      "    compatible_brands: isommp42\n",
      "    ISFT            : Lavf60.16.100\n",
      "  Stream #0:0(eng): Audio: pcm_s16le ([1][0][0][0] / 0x0001), 44100 Hz, stereo, s16, 1411 kb/s (default)\n",
      "    Metadata:\n",
      "      handler_name    : ISO Media file produced by Google Inc.\n",
      "      vendor_id       : [0][0][0][0]\n",
      "      encoder         : Lavc60.31.102 pcm_s16le\n",
      "size=  133632kB time=00:12:55.84 bitrate=1411.0kbits/s speed= 388x    \r"
     ]
    },
    {
     "name": "stdout",
     "output_type": "stream",
     "text": [
      "Extracted audio file path: ./downloads/video_audio.wav\n"
     ]
    },
    {
     "name": "stderr",
     "output_type": "stream",
     "text": [
      "[out#0/wav @ 0x5605d67b9f00] video:0kB audio:149884kB subtitle:0kB other streams:0kB global headers:0kB muxing overhead: 0.000051%\n",
      "size=  149884kB time=00:14:30.05 bitrate=1411.2kbits/s speed= 387x    \n"
     ]
    }
   ],
   "source": [
    "import subprocess\n",
    "import shlex\n",
    "\n",
    "def extract_audio(input_file, output_file):\n",
    "    # 입력 파일과 출력 파일 경로를 안전하게 인용합니다.\n",
    "    safe_input_file = shlex.quote(input_file)\n",
    "    safe_output_file = shlex.quote(output_file)\n",
    "    \n",
    "    command = f\"ffmpeg -i {safe_input_file} -q:a 0 -map a {safe_output_file}\"\n",
    "    subprocess.call(command, shell=True)\n",
    "    return output_file\n",
    "\n",
    "# audio_mp4_path = './downloads/공동체 성경읽기_24년 6월 25일_177일차 (욥 14-16 시 22).mp4'\n",
    "audio_wav_path = './downloads/video_audio.wav'\n",
    "extract_audio(Video_file_path, audio_wav_path)\n",
    "print(\"Extracted audio file path:\", audio_wav_path)\n"
   ]
  },
  {
   "cell_type": "code",
   "execution_count": 12,
   "metadata": {},
   "outputs": [
    {
     "name": "stderr",
     "output_type": "stream",
     "text": [
      "100%|███████████████████████████████████████| 139M/139M [00:15<00:00, 9.10MiB/s]\n"
     ]
    },
    {
     "name": "stdout",
     "output_type": "stream",
     "text": [
      "Transcript:  제 14장. 영인에게서 태어난 사람은 생해가 짧고 왜 고정이 가득하면 그는 well 것 같이 자라놔서 시들�� 그림자가 치지나가며 멈짓 아니야 조연인데 이 와 같은 자를 죽게서 눈여겨보시나이까 나를 추와프로 이끌어서 재판하시나이까 누가 깨끗한 것을 더러운 것 가운데에서 낼 수 있을이까 하나도 없나이다 그의 나를 청하셨고 그의 다시 또 죽게 있으므로 그의 규리를 청하여 넘어가지 못하게 하셨어 온 적 그의에게서 눈을 두리켜 그가 품꿈같이 그의 나를 마칠 때까지 그를 홀로 있게 하우셨어 나무는 희망이 있나니 이제 길지라도 다시 오미 나서 연한 가질을 끊이지 않으며 그 뿌리가 당해서 늘리고 줄기가 흙에서 죽을지라도 물개운의 오미도 없고 가질을 뻗어서 새로 시문 것과 각거리와 장정이라도 죽으면 소멸된 하니 인생이 수음을 꺼드면 그가 어디 있는요 물이 바다에서 주노들고 강물이 찾아서 마름같이 사람이 놓으면 다시 일어나지 못하고 한월이 없어지기까지 눈을 뜨지 못하며 잠을 깨지 못하니다 저는 나를 소울에 감주시며 주의에 찐 놀을 돌이키실 때까지 나를 숨기시고 나를 위하여 그대를 정하시고 나를 기억하셨소 장정이라도 죽으면 어쩌다실 살리니까 나는 나의 모든 고난의 날 동안을 참으면서 풀려나기를 기다리겠나이다 죽에서는 나를 부르시겠고 나는 대답하겠나이다 죽에서는 주의 손으로 지으신 것을 기다리시겠나이다 그러운데 이제 죽기선 나의 걸음을 세시오니 나의 죄를 감찰하지 않으신 아이가 주는 내 험을 주머니에 뽕하시고 내 조약을 쌓는 신아이다 무너지는 사는 반드시 터지고 바위는 그 자래에 쏨겨가고 물은 도울을 닫게 하고 넘치는 물은 땅에 뒷그럴 시서번인 하다 이 와같이 죽기선은 사람이 흰망을 끊으신 아이다 죽기선 사람을 영원히 이기셔서 떠나기 하시며 그의 얼굴 빛을 피어나기 하시고 쫓아 보내시오니 그 아들들이 존기하게 되어도 그가 알지 못하며 그들이 비천하게 되어도 그가 깨닫지 못하나이다 다만 그의 살이 아프고 그의 영원이 애곡할 분이 있다 제 15장 대만 사람 엘리버스가 대답하여 이루 돼 지혜로 온자가 어찌 헛된 지식으로 대답하겠네요 어찌 동풍을 그의 복부에 채우겠느냐 어찌 도움이 되지 않냐는 이야기 무익한 말로 별로는 하겠느냐 참으로 내가 하나님 경계하는 일을 그만두 하나님 앞에 묵도하기를 그치게 하는 거라 내 취향이 내 입을 가르치는 아니 내가 간산자의 혈을 좋아하는 거라 너를 정지한 것은 내가니오 내 입이라 내 입술이 내게 불의하게 증언하는 일 내가 지혈 먼저 난 사람이냐 사람들이 있기 전에 내가 출생하였느냐 하나님의 오묘하심을 내가 들었느냐 지혜를 홀로 가지 않느냐 내가 아는 것을 우리가 알지 못하는 것이 무엇이냐 내가 깨달은 것을 우리가 소위하지 못한 것이 무엇이냐 우리 중에는 머리가 흰 사람도 있고 연로한 사람도 있고 내 아버지보다 나이가 많은 사람도 있는 일에 하나님의 위로와 은밀하게 아시는 말씀이 내게 작은 것이냐 어찌 아이예 내 마음의 불만스로 하면 내 눈을 반득거리며 내 영의 하나님께 분노를 터뜨리며 내 입을 논리느냐 사람이 어찌 깨끗하게느냐 여인에게서 난 자가 어찌 의이롭겠느냐 하나님은 걸크한 자들을 믿지 않게 하시나니 하늘이라도 그가 보시기에 부정하거든 하월며 악을 찾으르기를 물 마신 같지 않은 가징하고 부피한 사람을 용납하시겠느냐 내가 내게 보일인이 내게서 들을 내가 본 것을 설명하리래 이는 곳 지이로운자들이 전화여 준 곳이니 그들의 초상에게서 숨기지 않니 하얀 일 이 땅은 그들에게만 주시옵으로 외인은 그들 중에 왕리하지 못하얀 일 그 말의 이르기를 아기는 그의 일평생의 고통을 당하며 포학자의 헬수는 정해젯음으로 그의 귀에는 무서운 소리가 들리고 그가 평안할 때 멸망시키는 자가 그의이게 이르니 그가 어두운데서 나오기를 바라지 못하고 칼날이 숨어서 기다리는 일 그는 헤멤여 음식을 구하여 이르기를 어디 있느냐 하며 그 감에 날이 가까운 줄을 스스로 하는 일을 반난과 역정의 글을 두렵게 하며 싸움을 준비한 왕처럼 그를 쳐서 이길이래 이는 그의 손을 들어 하나님을 대작하며 겨만하여 전등자에게 힘을 과시하였으민일에 그는 목을 세우고 방패를 들고 하나님께 달려들이 그의 얼굴에는 살이 찌고 허리에는 기름이 옮기였고 그는 황폐한 성우 사람이 살지 않으는지 돌 무덩이가 들 것에 거주하였으민일에 그는 부유하지 못하고 재산이 보전되지 못하고 그의 소위가 땅에서 증식되지 못할 것이라 어두운 것을 떠나지 못할이니 불꽃이 그의 가지를 말릴 것이라 하나님의 있기므로 그가 불려가리를 그가 스스로서가 험한 것을 믿지 않게 할 것은 험한 것이 그의 보호니 들 것입니다 그의 날이 이르기 전에 그 일이 이루어질 것인지 그의 가지가 풀지 못할이니 포도 열매가 있기 전에 떨어진 같고 간낮꽃이고 떨어진 같으리를 경근하지 못한 무리는 자식을 나치 못할 것이며 내 물을 받는 자에 장막은 불탈 것이라 그들은 재난을 잉테하고 조약을 나음이 그들이 패스 속에 소김을 준비하는 일에 제 16장 요비 대답하여 이르대 이런 말은 내가 많이 들었나니 너희는 다 재난을 주는 위로자들 위로구나 헛된 말이오직 끝이 쓰려 니가 모새 자극을 받아 이같이 대답하는가 나도 너희처럼 말할 수 있는 가량 더히 마음이 내 마음 자리 있다 하자 나도 그럴 듯한 말로 너희를 치면 너희를 향하여 머리를 흔들 수 있는 일아 그래도 이그로 너희를 강하게 하며 입술에 위로로 너희의 큰심을 풀었으리라 내가 말하여도 내 큰심이 풀리지 않니 하고 잠잠하여도 내 아픔이 줄어들지 않는다 이제 죽게서 나를 필요하기 하시고 나의 온 집안을 폐망하게 하셨나이다 죽게서 나를 시들기 하셨으니 이를 나를 야가여 증거를 사모십니다 나의 파리한 모습이 일어나서 대면하여 내 앞에서 증언할이 있다 그는 진우하사 나를 찍고 적대시하시며 나를 향하여 이를 알고 원수가 되어 날커로 눈출이로 나를 보시고 우리들은 나를 향하여 입을 크게 벌리며 나를 모여가여 삶을 치며 함께 모여 나를 대적하는구나 하나님이 나를 아기에게 넘기시며 행학자의 손에 던지셨구나 내가 평안하더니 그가 나를 꺾으시면 내 목을 잡아 나를 부선드리시며 나를 세고 권역을 사모시고 그의 화살들이 사방에서 나라와 사장없이 나를 쏘모로 그는 내 콩파트를 뺏둘고 그는 내 슬개가 당에 흘러 나오게 하시는 거나 그가 나를 지고 다시 치며 용사가 지내게 달려두시미 내가 굵은 뱉을 꿰매한 내 피부에 덮고 내 뿌를 틧글에 덜어 펴구나 내 얼굴은 울음으로 불고 내 눈꺼풀에는 죽음의 금들이 있구나 그러나 내 손에는 포하기 없고 나의 기도는 정결하니다 당하 내 피를 가리지 말라 나의 부루지즘이 쉴 자리를 잡지 못하게 알아 지금 나의 증인이 하늘이 계시고 나의 중보자나 높은 대기 계신이다 나의 친구는 나를 졸어 가고 내 눈은 하나님을 향하여 눈물을 흘리니 사랑과 하나님 사이에 와 인자와 그 이 웃아이에 중자시기를 원하는 언니 순연히 지나면 나는 돌아오지 못할 길로 갈 것이민이잉 제 22편 다위세 씨 인도자를 따라 아일레 샤알에 맞춘 노래 내 하나님이요 내 하나님이요 어찌나를 버리셨나니까 어찌나를 멀려요 돕지 않으시오며 내 신음소리를 듣지 않으시 나니까 내 하나님이요 내가 나제도 부루지고 밤에도 참자마지 않나 응답하지 않나이다 이 슬라엘의 찬송중이 계시는 주요 주는 거룩하신 이에다 우리 조상들이 죽게 의뢰 그 의뢰 하였으면 그들을 컨디셨나이다 그들이 죽게 부르지 저 구원으로 죽게 의뢰 하여 수치를 당하지 않나이다 나는 벌레어 사람이 아니라 사람의 비받거리고 백성의 졸원거리니이다 나를 보는자는 다 나를 피우시며 입술을 빛을 꺼리고 머리를 흔들며 말하대 그가 여와께 의탁하니 구원하실걸 그를 기뻐하신이 건지일걸 하나이다 우직 죽게서 나를 못해서 나오게 하시고 내 어머니의 저질먹을 때 의지하게 하셨나이다 내가 날 때부터 죽게 맡긴 것이었고 못해서 나을 때부터 주는 나의 하나님이 되셨나이다 나를 멀리 하지 마 없어서 환단이 가까우나 도울지 없는 나이다 많은 항소가 나를 내웠으며 바산의 신센 소들이 나를 둘러 싸시며 내게 그 입을 벌림이 찌지면 부르지는 사자 같은 이다 나는 물같이 쏟아졌으며 내 모든 뼈는 억울어졌으며 내 마음은 밀락 같아서 내 속에서 녹았으며 내 힘이 말라 질그릇조각 같고 내 혀가 입천장에 붙었나이다 죽게서 또 나를 죽음해 친또수게 두셨나이다 개들이 나를 애웠었으며 아침물이 나를 둘러 내 수족을 찔렀나이다 내가 내 모든 뼈를 쓸 수 있나이다 그들이 나를 주목하여보고 내 거더술 나누며 속옷을 재비 뽑나이다 여워요 멀리 하지 마우소서 나의 힘이시여 속히 나를 도우소서 내 생명을 칼해서 건디시면 내 유일한 것을 개의 세력에서 구하소서 나를 사자 입에서 구하소서 죽게서 내게 응답하시고 들수의 뿌래서 구원하셨나이다 내가 주의 이름을 형제에게 선포하고 회중 가운데서 주를 찬송하니다 여와를 들여하는 너희어 그를 찬송할 지어다 야고밤 모든 자손이오 그에게 영광을 돌릴 지어다 너희 이스라엘 모든 자손이오 그를 경회할 지어다 그는 공구한자의 공구를 몇시 하거나 치러하지 않게 하시며 그의 얼굴을 그에게서 숨기지 않게 하시고 그가 울부지질 때 들으셨다다 큰 회중 가운데에서 나의 찬송은 죽게로부터 온 것이니 주를 경회하는 자 앞에서 나의 서운을 갚을이다 겸손한자는 먹고 배부를 꺼시며 여와를 찾는자는 그를 찬송할 것이라 너희 마음은 영원이 살지어다 땅에 모든 끝이 여와를 기억하고 돌아오며 모든 날의 모든 쪽속이 주의 앞에 예배하리니 나라는 여와의 것이오 여와는 모든 날의 주제심이로다 세상에 모든 풍성한자가 먹고 경배할 것이오 진토속으로 내려가는자 끝 자기 영혼을 살리지 못할자도 다 그 앞에 절할이로다 후손이 그를 섬길 것이오 대대의 주를 전할 것이며 와서 그의 공위를 태어날 백성에게 전함이오 죽게서 일을 행하셨다 할 것이로다\n"
     ]
    }
   ],
   "source": [
    "import whisper\n",
    "\n",
    "def transcribe_audio_with_whisper(audio_file_path):\n",
    "    model = whisper.load_model(\"base\")\n",
    "    result = model.transcribe(audio_file_path)\n",
    "    return result['text']\n",
    "\n",
    "transcript = transcribe_audio_with_whisper(audio_wav_path)\n",
    "print(\"Transcript:\", transcript)\n"
   ]
  }
 ],
 "metadata": {
  "kernelspec": {
   "display_name": "venv",
   "language": "python",
   "name": "python3"
  },
  "language_info": {
   "codemirror_mode": {
    "name": "ipython",
    "version": 3
   },
   "file_extension": ".py",
   "mimetype": "text/x-python",
   "name": "python",
   "nbconvert_exporter": "python",
   "pygments_lexer": "ipython3",
   "version": "3.11.7"
  }
 },
 "nbformat": 4,
 "nbformat_minor": 2
}
