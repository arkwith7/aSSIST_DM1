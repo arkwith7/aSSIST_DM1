{
 "cells": [
  {
   "cell_type": "code",
   "execution_count": 1,
   "metadata": {},
   "outputs": [],
   "source": [
    "from pytube import YouTube\n",
    "import os\n",
    "\n",
    "def download_youtube_video(video_url, output_path):\n",
    "\n",
    "    yt = YouTube(video_url)\n",
    "    yt = yt.streams.filter(progressive=True, file_extension='mp4').order_by('resolution').desc().first()\n",
    "    if not os.path.exists(output_path):\n",
    "        os.makedirs(output_path)\n",
    "\n",
    "    # 파일을 다운로드하고 파일 이름을 가져옵니다.\n",
    "    file_name = yt.download(output_path)\n",
    "    filename = os.path.basename(file_name)\n",
    "\n",
    "    # 마지막 \"/\" 이전의 문자열을 반환합니다.\n",
    "    last_slash_idx = filename.rfind(\"/\")\n",
    "\n",
    "    # 파일 이름을 반환합니다.  \n",
    "    return filename[last_slash_idx + 1:]\n",
    "\n"
   ]
  },
  {
   "cell_type": "code",
   "execution_count": 38,
   "metadata": {},
   "outputs": [
    {
     "name": "stdout",
     "output_type": "stream",
     "text": [
      "Downloaded Video file path: ./downloads/관절염 퇴행성관절염 엔 이것 3가지만 기억해주세요! shorts.mp4\n"
     ]
    }
   ],
   "source": [
    "# 약사가 들려주는 약 이야기\n",
    "# video_url = 'https://www.youtube.com/watch?v=1a6s-lpMxdc'\n",
    "# # 리틀약사\n",
    "# video_url = 'https://www.youtube.com/watch?v=wMXfBHfVyj4'\n",
    "# # 영양과학자 양과자\n",
    "# video_url = 'https://www.youtube.com/watch?v=IdtkAro0EGk'\n",
    "# # 친한미국약사 PharmacistPal\n",
    "# video_url = 'https://www.youtube.com/watch?v=S0kerJZIIOw'\n",
    "# # 이지약사tv\n",
    "video_url = 'https://www.youtube.com/watch?v=Kks8A0BiOfw'\n",
    "\n",
    "output_path = './downloads'\n",
    "Video_filename = download_youtube_video(video_url, output_path)\n",
    "\n",
    "# 전체 파일 경로를 구성합니다.\n",
    "Video_file_path = os.path.join(output_path, Video_filename)\n",
    "\n",
    "print(\"Downloaded Video file path:\", Video_file_path)"
   ]
  },
  {
   "cell_type": "code",
   "execution_count": 39,
   "metadata": {},
   "outputs": [
    {
     "name": "stdout",
     "output_type": "stream",
     "text": [
      "Extracted audio file path: ./downloads/video_audio_20240629_110052.wav\n"
     ]
    },
    {
     "name": "stderr",
     "output_type": "stream",
     "text": [
      "ffmpeg version 4.4.2-0ubuntu0.22.04.1 Copyright (c) 2000-2021 the FFmpeg developers\n",
      "  built with gcc 11 (Ubuntu 11.2.0-19ubuntu1)\n",
      "  configuration: --prefix=/usr --extra-version=0ubuntu0.22.04.1 --toolchain=hardened --libdir=/usr/lib/x86_64-linux-gnu --incdir=/usr/include/x86_64-linux-gnu --arch=amd64 --enable-gpl --disable-stripping --enable-gnutls --enable-ladspa --enable-libaom --enable-libass --enable-libbluray --enable-libbs2b --enable-libcaca --enable-libcdio --enable-libcodec2 --enable-libdav1d --enable-libflite --enable-libfontconfig --enable-libfreetype --enable-libfribidi --enable-libgme --enable-libgsm --enable-libjack --enable-libmp3lame --enable-libmysofa --enable-libopenjpeg --enable-libopenmpt --enable-libopus --enable-libpulse --enable-librabbitmq --enable-librubberband --enable-libshine --enable-libsnappy --enable-libsoxr --enable-libspeex --enable-libsrt --enable-libssh --enable-libtheora --enable-libtwolame --enable-libvidstab --enable-libvorbis --enable-libvpx --enable-libwebp --enable-libx265 --enable-libxml2 --enable-libxvid --enable-libzimg --enable-libzmq --enable-libzvbi --enable-lv2 --enable-omx --enable-openal --enable-opencl --enable-opengl --enable-sdl2 --enable-pocketsphinx --enable-librsvg --enable-libmfx --enable-libdc1394 --enable-libdrm --enable-libiec61883 --enable-chromaprint --enable-frei0r --enable-libx264 --enable-shared\n",
      "  libavutil      56. 70.100 / 56. 70.100\n",
      "  libavcodec     58.134.100 / 58.134.100\n",
      "  libavformat    58. 76.100 / 58. 76.100\n",
      "  libavdevice    58. 13.100 / 58. 13.100\n",
      "  libavfilter     7.110.100 /  7.110.100\n",
      "  libswscale      5.  9.100 /  5.  9.100\n",
      "  libswresample   3.  9.100 /  3.  9.100\n",
      "  libpostproc    55.  9.100 / 55.  9.100\n",
      "Input #0, mov,mp4,m4a,3gp,3g2,mj2, from './downloads/관절염 퇴행성관절염 엔 이것 3가지만 기억해주세요! shorts.mp4':\n",
      "  Metadata:\n",
      "    major_brand     : mp42\n",
      "    minor_version   : 0\n",
      "    compatible_brands: isommp42\n",
      "    encoder         : Google\n",
      "  Duration: 00:00:59.22, start: 0.000000, bitrate: 426 kb/s\n",
      "  Stream #0:0(und): Video: h264 (Main) (avc1 / 0x31637661), yuv420p(tv, bt709), 360x640 [SAR 1:1 DAR 9:16], 231 kb/s, 30 fps, 30 tbr, 15360 tbn, 60 tbc (default)\n",
      "    Metadata:\n",
      "      handler_name    : ISO Media file produced by Google Inc.\n",
      "      vendor_id       : [0][0][0][0]\n",
      "  Stream #0:1(eng): Audio: aac (LC) (mp4a / 0x6134706D), 48000 Hz, stereo, fltp, 192 kb/s (default)\n",
      "    Metadata:\n",
      "      handler_name    : ISO Media file produced by Google Inc.\n",
      "      vendor_id       : [0][0][0][0]\n",
      "Stream mapping:\n",
      "  Stream #0:1 -> #0:0 (aac (native) -> pcm_s16le (native))\n",
      "Press [q] to stop, [?] for help\n",
      "Output #0, wav, to './downloads/video_audio_20240629_110052.wav':\n",
      "  Metadata:\n",
      "    major_brand     : mp42\n",
      "    minor_version   : 0\n",
      "    compatible_brands: isommp42\n",
      "    ISFT            : Lavf58.76.100\n",
      "  Stream #0:0(eng): Audio: pcm_s16le ([1][0][0][0] / 0x0001), 48000 Hz, stereo, s16, 1536 kb/s (default)\n",
      "    Metadata:\n",
      "      handler_name    : ISO Media file produced by Google Inc.\n",
      "      vendor_id       : [0][0][0][0]\n",
      "      encoder         : Lavc58.134.100 pcm_s16le\n",
      "size=   11104kB time=00:00:59.20 bitrate=1536.6kbits/s speed= 943x    \n",
      "video:0kB audio:11104kB subtitle:0kB other streams:0kB global headers:0kB muxing overhead: 0.000686%\n"
     ]
    }
   ],
   "source": [
    "import subprocess\n",
    "import shlex\n",
    "from datetime import datetime\n",
    "\n",
    "def extract_audio(input_file):\n",
    "    # 파일 경로에 타임스탬프 추가\n",
    "    timestamp = datetime.now().strftime(\"%Y%m%d_%H%M%S\")\n",
    "    output_file = f\"./downloads/video_audio_{timestamp}.wav\"\n",
    "    \n",
    "    # 입력 파일과 출력 파일 경로를 안전하게 인용합니다.\n",
    "    safe_input_file = shlex.quote(input_file)\n",
    "    safe_output_file = shlex.quote(output_file)\n",
    "    \n",
    "    command = f\"ffmpeg -i {safe_input_file} -q:a 0 -map a {safe_output_file}\"\n",
    "    subprocess.call(command, shell=True)\n",
    "    return output_file\n",
    "\n",
    "# Example usage\n",
    "# video_file_path = './downloads/공동체 성경읽기_24년 6월 25일_177일차 (욥 14-16 시 22).mp4'\n",
    "audio_wav_path = extract_audio(Video_file_path)\n",
    "print(\"Extracted audio file path:\", audio_wav_path)"
   ]
  },
  {
   "cell_type": "code",
   "execution_count": 40,
   "metadata": {},
   "outputs": [
    {
     "name": "stdout",
     "output_type": "stream",
     "text": [
      "Transcript:  혹시 무릎이 아프신가요? 손가락 건조리나 병아리의 통증이 느껴지시나요? 한 번 손상된 건조령고를 다시 재승되지 않기 때문에 반드시 인식, 운동, 영양제 등으로 소개 관리를 잘 해주셔야 돼요. 식단! 보통 관절음 있는 분들은 염증을 증가시키는 사이토카인이라는 물질의 수치가 챈에 높게 나타나 있어요. 그럴 때 이런 염증을 갈아앉혀주는 오메가스리가 많이 들어가 있는 열치, 청어, 정어리 등을 자주 드시면 좋습니다. 운동! 적당한 운동으로 근육을 강화해주고 관절 운동 범위를 유지해주면 근육들이 인대를 짙행해 줘서 관절이 약해지는 것을 방제하거든요. 영양제입니다. 관절염의 좋은 영양제 성분으로 대표적인 게 로스엘리아 그리고 뼈에 좋은 성분으로 엣담인 디이가 있습니다. 영양제, 스타를 제품도 그런 류에 관절, 뼈, 건강 영양제인데요. 이 두 가지 핵심 성분이 다 들어가 있고 한 양도 진짜 좋아요. 관절, 뼈, 뼈, 뼈까지 같이 케어가 가능하죠. 미리미리 관리하셔서 틴트란 관절 가야지 시계를 바랄게요.\n"
     ]
    }
   ],
   "source": [
    "import whisper\n",
    "\n",
    "def transcribe_audio_with_whisper(audio_file_path):\n",
    "    model = whisper.load_model(\"base\")\n",
    "    result = model.transcribe(audio_file_path)\n",
    "    return result['text']\n",
    "\n",
    "transcript = transcribe_audio_with_whisper(audio_wav_path)\n",
    "print(\"Transcript:\", transcript)\n",
    "# 텍스트로 내용을 저장합니다.\n",
    "\n"
   ]
  },
  {
   "cell_type": "code",
   "execution_count": 41,
   "metadata": {},
   "outputs": [
    {
     "name": "stdout",
     "output_type": "stream",
     "text": [
      "Transcript saved to ./downloads/video_audio_20240629_110052.wav_transcript_20240629_110106.txt\n"
     ]
    }
   ],
   "source": [
    "from datetime import datetime\n",
    "\n",
    "# 텍스트로 내용을 저장합니다.\n",
    "def save_transcript_to_file(audio_file_path, transcript):\n",
    "    timestamp = datetime.now().strftime(\"%Y%m%d_%H%M%S\")\n",
    "    transcript_file_path = f\"{audio_file_path}_transcript_{timestamp}.txt\"\n",
    "    with open(transcript_file_path, 'w', encoding='utf-8') as file:\n",
    "        file.write(transcript)\n",
    "    print(f\"Transcript saved to {transcript_file_path}\")\n",
    "\n",
    "# Example usage\n",
    "save_transcript_to_file(audio_wav_path, transcript)\n",
    "\n"
   ]
  }
 ],
 "metadata": {
  "kernelspec": {
   "display_name": "venv",
   "language": "python",
   "name": "python3"
  },
  "language_info": {
   "codemirror_mode": {
    "name": "ipython",
    "version": 3
   },
   "file_extension": ".py",
   "mimetype": "text/x-python",
   "name": "python",
   "nbconvert_exporter": "python",
   "pygments_lexer": "ipython3",
   "version": "3.10.12"
  }
 },
 "nbformat": 4,
 "nbformat_minor": 2
}
