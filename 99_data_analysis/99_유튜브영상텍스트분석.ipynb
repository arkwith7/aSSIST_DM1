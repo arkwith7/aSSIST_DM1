{
 "cells": [
  {
   "cell_type": "code",
   "execution_count": 1,
   "metadata": {},
   "outputs": [],
   "source": [
    "from pytube import YouTube\n",
    "import os\n",
    "\n",
    "def download_youtube_video(video_url, output_path):\n",
    "\n",
    "    yt = YouTube(video_url)\n",
    "    yt = yt.streams.filter(progressive=True, file_extension='mp4').order_by('resolution').desc().first()\n",
    "    if not os.path.exists(output_path):\n",
    "        os.makedirs(output_path)\n",
    "\n",
    "    # 파일을 다운로드하고 파일 이름을 가져옵니다.\n",
    "    file_name = yt.download(output_path)\n",
    "    filename = os.path.basename(file_name)\n",
    "\n",
    "    # 마지막 \"/\" 이전의 문자열을 반환합니다.\n",
    "    last_slash_idx = filename.rfind(\"/\")\n",
    "\n",
    "    # 파일 이름을 반환합니다.  \n",
    "    return filename[last_slash_idx + 1:]\n",
    "\n"
   ]
  },
  {
   "cell_type": "code",
   "execution_count": 2,
   "metadata": {},
   "outputs": [
    {
     "name": "stdout",
     "output_type": "stream",
     "text": [
      "Downloaded Video file path: ./downloads/콜레스테롤 영양제는 꼭 먹어야할까 도대체 뭘 먹어야할까 콜레스테롤 고지혈증 콜레스테롤영양제 고지혈증영양제 약사 shorts.mp4\n"
     ]
    }
   ],
   "source": [
    "# 약사가 들려주는 약 이야기\n",
    "# video_url = 'https://www.youtube.com/watch?v=rFzEHqZTt8w'\n",
    "# # 리틀약사\n",
    "# video_url = 'https://www.youtube.com/watch?v=rDIFXZD6TN8'\n",
    "# # 영양과학자 양과자\n",
    "# video_url = 'https://www.youtube.com/watch?v=yUBz-7A3r50'\n",
    "# # 친한미국약사 PharmacistPal\n",
    "# video_url = 'https://www.youtube.com/watch?v=8DA4svBBagU'\n",
    "# # 이지약사tv\n",
    "video_url = 'https://www.youtube.com/watch?v=yH2Qafeiq7s'\n",
    "\n",
    "output_path = './downloads'\n",
    "Video_filename = download_youtube_video(video_url, output_path)\n",
    "\n",
    "# 전체 파일 경로를 구성합니다.\n",
    "Video_file_path = os.path.join(output_path, Video_filename)\n",
    "\n",
    "print(\"Downloaded Video file path:\", Video_file_path)"
   ]
  },
  {
   "cell_type": "code",
   "execution_count": 3,
   "metadata": {},
   "outputs": [
    {
     "name": "stdout",
     "output_type": "stream",
     "text": [
      "Extracted audio file path: ./downloads/video_audio_20240628_152638.wav\n"
     ]
    },
    {
     "name": "stderr",
     "output_type": "stream",
     "text": [
      "ffmpeg version 6.1.1-3ubuntu5 Copyright (c) 2000-2023 the FFmpeg developers\n",
      "  built with gcc 13 (Ubuntu 13.2.0-23ubuntu3)\n",
      "  configuration: --prefix=/usr --extra-version=3ubuntu5 --toolchain=hardened --libdir=/usr/lib/x86_64-linux-gnu --incdir=/usr/include/x86_64-linux-gnu --arch=amd64 --enable-gpl --disable-stripping --disable-omx --enable-gnutls --enable-libaom --enable-libass --enable-libbs2b --enable-libcaca --enable-libcdio --enable-libcodec2 --enable-libdav1d --enable-libflite --enable-libfontconfig --enable-libfreetype --enable-libfribidi --enable-libglslang --enable-libgme --enable-libgsm --enable-libharfbuzz --enable-libmp3lame --enable-libmysofa --enable-libopenjpeg --enable-libopenmpt --enable-libopus --enable-librubberband --enable-libshine --enable-libsnappy --enable-libsoxr --enable-libspeex --enable-libtheora --enable-libtwolame --enable-libvidstab --enable-libvorbis --enable-libvpx --enable-libwebp --enable-libx265 --enable-libxml2 --enable-libxvid --enable-libzimg --enable-openal --enable-opencl --enable-opengl --disable-sndio --enable-libvpl --disable-libmfx --enable-libdc1394 --enable-libdrm --enable-libiec61883 --enable-chromaprint --enable-frei0r --enable-ladspa --enable-libbluray --enable-libjack --enable-libpulse --enable-librabbitmq --enable-librist --enable-libsrt --enable-libssh --enable-libsvtav1 --enable-libx264 --enable-libzmq --enable-libzvbi --enable-lv2 --enable-sdl2 --enable-libplacebo --enable-librav1e --enable-pocketsphinx --enable-librsvg --enable-libjxl --enable-shared\n",
      "  libavutil      58. 29.100 / 58. 29.100\n",
      "  libavcodec     60. 31.102 / 60. 31.102\n",
      "  libavformat    60. 16.100 / 60. 16.100\n",
      "  libavdevice    60.  3.100 / 60.  3.100\n",
      "  libavfilter     9. 12.100 /  9. 12.100\n",
      "  libswscale      7.  5.100 /  7.  5.100\n",
      "  libswresample   4. 12.100 /  4. 12.100\n",
      "  libpostproc    57.  3.100 / 57.  3.100\n",
      "Input #0, mov,mp4,m4a,3gp,3g2,mj2, from './downloads/콜레스테롤 영양제는 꼭 먹어야할까 도대체 뭘 먹어야할까 콜레스테롤 고지혈증 콜레스테롤영양제 고지혈증영양제 약사 shorts.mp4':\n",
      "  Metadata:\n",
      "    major_brand     : mp42\n",
      "    minor_version   : 0\n",
      "    compatible_brands: isommp42\n",
      "    encoder         : Google\n",
      "  Duration: 00:00:57.05, start: 0.000000, bitrate: 309 kb/s\n",
      "  Stream #0:0[0x1](und): Video: h264 (Constrained Baseline) (avc1 / 0x31637661), yuv420p(tv, bt709, progressive), 360x640 [SAR 1:1 DAR 9:16], 115 kb/s, 29.97 fps, 29.97 tbr, 30k tbn (default)\n",
      "    Metadata:\n",
      "      handler_name    : ISO Media file produced by Google Inc.\n",
      "      vendor_id       : [0][0][0][0]\n",
      "  Stream #0:1[0x2](und): Audio: aac (LC) (mp4a / 0x6134706D), 48000 Hz, stereo, fltp, 192 kb/s (default)\n",
      "    Metadata:\n",
      "      handler_name    : ISO Media file produced by Google Inc.\n",
      "      vendor_id       : [0][0][0][0]\n",
      "Stream mapping:\n",
      "  Stream #0:1 -> #0:0 (aac (native) -> pcm_s16le (native))\n",
      "Press [q] to stop, [?] for help\n",
      "Output #0, wav, to './downloads/video_audio_20240628_152638.wav':\n",
      "  Metadata:\n",
      "    major_brand     : mp42\n",
      "    minor_version   : 0\n",
      "    compatible_brands: isommp42\n",
      "    ISFT            : Lavf60.16.100\n",
      "  Stream #0:0(und): Audio: pcm_s16le ([1][0][0][0] / 0x0001), 48000 Hz, stereo, s16, 1536 kb/s (default)\n",
      "    Metadata:\n",
      "      handler_name    : ISO Media file produced by Google Inc.\n",
      "      vendor_id       : [0][0][0][0]\n",
      "      encoder         : Lavc60.31.102 pcm_s16le\n",
      "[out#0/wav @ 0x558a6dbe1680] video:0kB audio:10696kB subtitle:0kB other streams:0kB global headers:0kB muxing overhead: 0.000712%\n",
      "size=   10696kB time=00:00:57.02 bitrate=1536.6kbits/s speed= 374x    \n"
     ]
    }
   ],
   "source": [
    "import subprocess\n",
    "import shlex\n",
    "from datetime import datetime\n",
    "\n",
    "def extract_audio(input_file):\n",
    "    # 파일 경로에 타임스탬프 추가\n",
    "    timestamp = datetime.now().strftime(\"%Y%m%d_%H%M%S\")\n",
    "    output_file = f\"./downloads/video_audio_{timestamp}.wav\"\n",
    "    \n",
    "    # 입력 파일과 출력 파일 경로를 안전하게 인용합니다.\n",
    "    safe_input_file = shlex.quote(input_file)\n",
    "    safe_output_file = shlex.quote(output_file)\n",
    "    \n",
    "    command = f\"ffmpeg -i {safe_input_file} -q:a 0 -map a {safe_output_file}\"\n",
    "    subprocess.call(command, shell=True)\n",
    "    return output_file\n",
    "\n",
    "# Example usage\n",
    "# video_file_path = './downloads/공동체 성경읽기_24년 6월 25일_177일차 (욥 14-16 시 22).mp4'\n",
    "audio_wav_path = extract_audio(Video_file_path)\n",
    "print(\"Extracted audio file path:\", audio_wav_path)"
   ]
  },
  {
   "cell_type": "code",
   "execution_count": 4,
   "metadata": {},
   "outputs": [
    {
     "name": "stdout",
     "output_type": "stream",
     "text": [
      "Transcript:  고시얼증 약도 호럼약처럼 한 번 먹으면 계속 먹어야 된다 이렇게 알고 계신 분들이 많죠 그런데 바로 약을 먹지 않으니 좀 그렇고 그렇다고 식담과 운동으로 콜레스테로를 낮추지 않니 또 너무 힘듣 것 같고 다 이런 분들을 위해 오늘 영상을 준비했습니다 콜레스테로 영어제로 고르지 때 주의해야 할 점 딱 두 가지가 있어요 첫 번째 완료의 한 양을 비교할까? 콜레스테로 개선 완료로 가장 많이 쓰이는 게 맞아? 바로 그런 곡! 몸라콜린 K라고 불리는 성분이죠? 우리나라 기준으로는 지기학처에서 건강 기능 식품으로써 인정하는 한국의 1위 최소한량은 4위를 그려 최대한량은 8위를 그려는데요 즉, 최소 4위를 그려는 먹어야 효과를 볼 수 있다는 뜻이기도 합니다 그리고 두 번째 콜레스테로 펄아 혈당의 기능성을 전부 포함할 것 사실 이런 데까지 한 양도 높게 배합된 제품이 정말 들물거든요 한 양면에서, 원룸을 해서 가성비가 아주 좋은 제품으로 볼 수 있습니다\n"
     ]
    }
   ],
   "source": [
    "import whisper\n",
    "\n",
    "def transcribe_audio_with_whisper(audio_file_path):\n",
    "    model = whisper.load_model(\"base\")\n",
    "    result = model.transcribe(audio_file_path)\n",
    "    return result['text']\n",
    "\n",
    "transcript = transcribe_audio_with_whisper(audio_wav_path)\n",
    "print(\"Transcript:\", transcript)\n",
    "# 텍스트로 내용을 저장합니다.\n",
    "\n"
   ]
  },
  {
   "cell_type": "code",
   "execution_count": 5,
   "metadata": {},
   "outputs": [
    {
     "name": "stdout",
     "output_type": "stream",
     "text": [
      "Transcript saved to ./downloads/video_audio_20240628_152638.wav_transcript_20240628_152713.txt\n"
     ]
    }
   ],
   "source": [
    "from datetime import datetime\n",
    "\n",
    "# 텍스트로 내용을 저장합니다.\n",
    "def save_transcript_to_file(audio_file_path, transcript):\n",
    "    timestamp = datetime.now().strftime(\"%Y%m%d_%H%M%S\")\n",
    "    transcript_file_path = f\"{audio_file_path}_transcript_{timestamp}.txt\"\n",
    "    with open(transcript_file_path, 'w', encoding='utf-8') as file:\n",
    "        file.write(transcript)\n",
    "    print(f\"Transcript saved to {transcript_file_path}\")\n",
    "\n",
    "# Example usage\n",
    "save_transcript_to_file(audio_wav_path, transcript)\n",
    "\n"
   ]
  }
 ],
 "metadata": {
  "kernelspec": {
   "display_name": "venv",
   "language": "python",
   "name": "python3"
  },
  "language_info": {
   "codemirror_mode": {
    "name": "ipython",
    "version": 3
   },
   "file_extension": ".py",
   "mimetype": "text/x-python",
   "name": "python",
   "nbconvert_exporter": "python",
   "pygments_lexer": "ipython3",
   "version": "3.11.7"
  }
 },
 "nbformat": 4,
 "nbformat_minor": 2
}
