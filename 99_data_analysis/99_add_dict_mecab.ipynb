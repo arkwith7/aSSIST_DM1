{
 "cells": [
  {
   "cell_type": "code",
   "execution_count": 1,
   "metadata": {},
   "outputs": [],
   "source": [
    "from konlpy.tag import Mecab\n",
    "# 종성 추가\n",
    "from jamo import h2j, j2hcj"
   ]
  },
  {
   "cell_type": "code",
   "execution_count": 2,
   "metadata": {},
   "outputs": [
    {
     "name": "stdout",
     "output_type": "stream",
     "text": [
      "[('순', 'MM'), ('대국', 'NNG'), ('먹', 'VV'), ('고', 'EC'), ('싶', 'VX'), ('다', 'EF'), ('.', 'SF')]\n",
      "[('순댓국', 'NNG'), ('먹', 'VV'), ('고', 'EC'), ('싶', 'VX'), ('다', 'EF'), ('.', 'SF')]\n",
      "[('패스트', 'NNP'), ('파이브', 'NNP'), ('에서', 'JKB'), ('일', 'NNG'), ('을', 'JKO'), ('합니다', 'VV+EF'), ('.', 'SF')]\n",
      "[('아이오', 'NNG'), ('아이', 'NNG'), ('는', 'JX'), ('정말', 'MAG'), ('이뻐요', 'VA+EF'), ('.', 'SF')]\n"
     ]
    }
   ],
   "source": [
    "m = Mecab()\n",
    "\n",
    "print(m.pos(\"순대국 먹고 싶다.\"))\n",
    "print(m.pos(\"순댓국 먹고 싶다.\"))\n",
    "print(m.pos(\"패스트파이브에서 일을 합니다.\"))\n",
    "print(m.pos(\"아이오아이는 정말 이뻐요.\"))"
   ]
  },
  {
   "cell_type": "code",
   "execution_count": 3,
   "metadata": {},
   "outputs": [],
   "source": [
    "def get_jongsung_TF(sample_text):\n",
    "    sample_text_list = list(sample_text)\n",
    "    last_word = sample_text_list[-1]\n",
    "    last_word_jamo_list = list(j2hcj(h2j(last_word)))\n",
    "    last_jamo = last_word_jamo_list[-1]\n",
    "\n",
    "    jongsung_TF = \"T\"\n",
    "\n",
    "    if last_jamo in ['ㅏ', 'ㅑ', 'ㅓ', 'ㅕ', 'ㅗ', 'ㅛ', 'ㅜ', 'ㅠ', 'ㅡ', 'ㅣ', 'ㅘ', 'ㅚ', 'ㅙ', 'ㅝ', 'ㅞ', 'ㅢ', 'ㅐ,ㅔ', 'ㅟ', 'ㅖ', 'ㅒ']:\n",
    "        jongsung_TF = \"F\"\n",
    "\n",
    "    return jongsung_TF\n",
    "\n"
   ]
  },
  {
   "cell_type": "code",
   "execution_count": 4,
   "metadata": {},
   "outputs": [
    {
     "name": "stdout",
     "output_type": "stream",
     "text": [
      "['대우,,,,NNP,*,F,대우,*,*,*,*,*\\n', '구글,,,,NNP,*,T,구글,*,*,*,*,*\\n', '순댓국,*,*,*,NNP,*,T,순댓국,*,*,*,*,*\\n', '순대국,*,*,*,NNP,*,T,순대국,*,*,*,*,*\\n', '아이오아이,*,*,*,NNP,*,F,아이오아이,*,*,*,*,*\\n', '패스트파이브,*,*,*,NNP,*,F,패스트파이브,*,*,*,*,*\\n']\n"
     ]
    }
   ],
   "source": [
    "# tmp 경로에 저장된 사용자 사전 명사에 새로운 단어 추가\n",
    "with open('/home/samuel/mecab-ko-dic-2.1.1-20180720/user-dic/nnp.csv', \"r\", encoding='utf-8') as f:\n",
    "  user_dict = f.readlines()\n",
    "\n",
    "# 단어 추가\n",
    "add_list = ['순댓국', '순대국', '아이오아이', '패스트파이브']\n",
    "\n",
    "for word in add_list:\n",
    "  jongsung_TF = get_jongsung_TF(word)\n",
    "  line = '{},*,*,*,NNP,*,{},{},*,*,*,*,*\\n'.format(word, jongsung_TF, word)\n",
    "\n",
    "  user_dict.append(line)\n",
    "  \n",
    "print(user_dict[-10:])"
   ]
  },
  {
   "cell_type": "code",
   "execution_count": 5,
   "metadata": {},
   "outputs": [
    {
     "name": "stdout",
     "output_type": "stream",
     "text": [
      "[('순대국', 'NNP'), ('먹', 'VV'), ('고', 'EC'), ('싶', 'VX'), ('다', 'EF'), ('.', 'SF')]\n",
      "[('순댓국', 'NNG'), ('먹', 'VV'), ('고', 'EC'), ('싶', 'VX'), ('다', 'EF'), ('.', 'SF')]\n",
      "[('패스트파이브', 'NNP'), ('에서', 'JKB'), ('일', 'NNG'), ('을', 'JKO'), ('합니다', 'VV+EF'), ('.', 'SF')]\n",
      "[('아이오아이', 'NNP'), ('는', 'JX'), ('정말', 'MAG'), ('이뻐요', 'VA+EF'), ('.', 'SF')]\n"
     ]
    }
   ],
   "source": [
    "# 재저장\n",
    "with open('/home/samuel/mecab-ko-dic-2.1.1-20180720/user-dic/nnp.csv', 'w', encoding='utf-8') as f:\n",
    "  for line in user_dict:\n",
    "    f.write(line)\n",
    "    \n",
    "# # test\n",
    "# from konlpy.tag import Mecab\n",
    "\n",
    "m = Mecab(dicpath='/home/samuel/mecab-ko-dic-2.1.1-20180720')\n",
    "\n",
    "print(m.pos(\"순대국 먹고 싶다.\"))\n",
    "print(m.pos(\"순댓국 먹고 싶다.\"))\n",
    "print(m.pos(\"패스트파이브에서 일을 합니다.\"))\n",
    "print(m.pos(\"아이오아이는 정말 이뻐요.\"))"
   ]
  }
 ],
 "metadata": {
  "kernelspec": {
   "display_name": "venv",
   "language": "python",
   "name": "python3"
  },
  "language_info": {
   "codemirror_mode": {
    "name": "ipython",
    "version": 3
   },
   "file_extension": ".py",
   "mimetype": "text/x-python",
   "name": "python",
   "nbconvert_exporter": "python",
   "pygments_lexer": "ipython3",
   "version": "3.11.7"
  }
 },
 "nbformat": 4,
 "nbformat_minor": 2
}
