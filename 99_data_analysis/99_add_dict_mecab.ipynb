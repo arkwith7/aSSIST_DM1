{
 "cells": [
  {
   "cell_type": "code",
   "execution_count": 1,
   "metadata": {},
   "outputs": [],
   "source": [
    "from konlpy.tag import Mecab\n",
    "# 종성 추가\n",
    "from jamo import h2j, j2hcj"
   ]
  },
  {
   "cell_type": "code",
   "execution_count": 2,
   "metadata": {},
   "outputs": [
    {
     "name": "stdout",
     "output_type": "stream",
     "text": [
      "[('순', 'MM'), ('대국', 'NNG'), ('먹', 'VV'), ('고', 'EC'), ('싶', 'VX'), ('다', 'EF'), ('.', 'SF')]\n",
      "[('순댓국', 'NNG'), ('먹', 'VV'), ('고', 'EC'), ('싶', 'VX'), ('다', 'EF'), ('.', 'SF')]\n",
      "[('패스트', 'NNP'), ('파이브', 'NNP'), ('에서', 'JKB'), ('일', 'NNG'), ('을', 'JKO'), ('합니다', 'VV+EF'), ('.', 'SF')]\n",
      "[('아이오', 'NNG'), ('아이', 'NNG'), ('는', 'JX'), ('정말', 'MAG'), ('이뻐요', 'VA+EF'), ('.', 'SF')]\n"
     ]
    }
   ],
   "source": [
    "m = Mecab()\n",
    "\n",
    "print(m.pos(\"순대국 먹고 싶다.\"))\n",
    "print(m.pos(\"순댓국 먹고 싶다.\"))\n",
    "print(m.pos(\"패스트파이브에서 일을 합니다.\"))\n",
    "print(m.pos(\"아이오아이는 정말 이뻐요.\"))"
   ]
  },
  {
   "cell_type": "code",
   "execution_count": 3,
   "metadata": {},
   "outputs": [],
   "source": [
    "def get_jongsung_TF(sample_text):\n",
    "    sample_text_list = list(sample_text)\n",
    "    last_word = sample_text_list[-1]\n",
    "    last_word_jamo_list = list(j2hcj(h2j(last_word)))\n",
    "    last_jamo = last_word_jamo_list[-1]\n",
    "\n",
    "    jongsung_TF = \"T\"\n",
    "\n",
    "    if last_jamo in ['ㅏ', 'ㅑ', 'ㅓ', 'ㅕ', 'ㅗ', 'ㅛ', 'ㅜ', 'ㅠ', 'ㅡ', 'ㅣ', 'ㅘ', 'ㅚ', 'ㅙ', 'ㅝ', 'ㅞ', 'ㅢ', 'ㅐ,ㅔ', 'ㅟ', 'ㅖ', 'ㅒ']:\n",
    "        jongsung_TF = \"F\"\n",
    "\n",
    "    return jongsung_TF\n",
    "\n"
   ]
  },
  {
   "cell_type": "code",
   "execution_count": 4,
   "metadata": {},
   "outputs": [
    {
     "name": "stdout",
     "output_type": "stream",
     "text": [
      "['유니시티 바이오스 라이프 프리바이오틱스,*,*,*,NNP,*,F,유니시티 바이오스 라이프 프리바이오틱스,*,*,*,*,*\\n', '내츄럴 팩토스 소화효소,*,*,*,NNP,*,F,내츄럴 팩토스 소화효소,*,*,*,*,*\\n', '라이프 익스텐션 아밀라아제,*,*,*,NNP,*,T,라이프 익스텐션 아밀라아제,*,*,*,*,*\\n', '푸드사이언스 프로테아제,*,*,*,NNP,*,T,푸드사이언스 프로테아제,*,*,*,*,*\\n', '슈퍼 스마트 판크레아틴,*,*,*,NNP,*,T,슈퍼 스마트 판크레아틴,*,*,*,*,*\\n', '헤어바드 보티카 감초 추출물,*,*,*,NNP,*,T,헤어바드 보티카 감초 추출물,*,*,*,*,*\\n', '감초 추출물,*,*,*,NNP,*,T,감초 추출물,*,*,*,*,*\\n', '솔가 글루타민,*,*,*,NNP,*,T,솔가 글루타민,*,*,*,*,*\\n', '가든 오브 라이프 생강 추출물,*,*,*,NNP,*,T,가든 오브 라이프 생강 추출물,*,*,*,*,*\\n', '아워 밸류 카모마일,*,*,*,NNP,*,T,아워 밸류 카모마일,*,*,*,*,*\\n']\n"
     ]
    }
   ],
   "source": [
    "# tmp 경로에 저장된 사용자 사전 명사에 새로운 단어 추가\n",
    "with open('/home/samuel/mecab-ko-dic-2.1.1-20180720/user-dic/nnp.csv', \"r\", encoding='utf-8') as f:\n",
    "    user_dict = f.readlines()\n",
    "\n",
    "# 기존 단어들을 set으로 변환하여 중복을 방지\n",
    "existing_words = set(line.split(',')[0] for line in user_dict)\n",
    "\n",
    "# 눈, 피부, 수면과 관련된 건강보조식품 성분과 제품명 새로운 단어 추가\n",
    "new_entries = [\n",
    "    '루테인', '제아잔틴', '오메가-3 지방산', '비타민A', '비타민B', '비타민C', '비타민D', '비타민E', '아연', '구리', '베타카로틴', '빌베리',\n",
    "    '구스베리', '레스베라트롤', '타우린', '카로티노이드', '콜라겐', '히알루론산', '비타민B3', '비오틴', '알로에 베라',\n",
    "    '녹차 추출물', '코엔자임 Q10', '아르간 오일', '로즈힙 오일', '석류 추출물', '판테놀', '세라마이드', '피부 장벽 보충제',\n",
    "    '멜라토닌', 'L-테아닌', '발레리안 뿌리', '패션플라워', '카모마일', '마그네슘', 'GABA', '트립토판', '5-HTP', '레몬',\n",
    "    '프로바이오틱스', '프리바이오틱스', '유산균', '비피더스균', '소화효소', '파파인', '브로멜라인', '베타인 HCL', '펩신',\n",
    "    '락타아제', '아밀라아제', '프로테아제', '셀룰라아제', '글루코아밀라아제', '판크레아틴', '글루타민', '알로에 베라', '차전자',\n",
    "    '민트', '생강', '감초', '카모마일', '양배추 추출물', '락토바실러스 람노서스', '락토바실러스 애시도필러스', '나우푸드 프로바이오틱스 10억',\n",
    "    '가든 오브 라이프 프리바이오틱스', '솔가 유산균', '네이쳐스 바운티 유산균 10억', '닥터스 베스트 소화효소', '자로우 포뮬라스 자로-도필러스 EPS',\n",
    "    '스와슨 파파인 소화효소', '네이쳐스 웨이 브로멜라인', '소스 내추럴즈 베타인 HCL', '가이아 허브스 글루타민', '노르딕 내추럴스 유산균',\n",
    "    '레인보우 라이트 소화효소', '옵티멈 뉴트리션 알로에 베라', '제이미슨 프로바이오틱스', '뉴챕터 소화효소', '카프리 크랩 소화효소',\n",
    "    '유니시티 바이오스 라이프 프리바이오틱스', '내츄럴 팩토스 소화효소', '라이프 익스텐션 아밀라아제', '푸드사이언스 프로테아제',\n",
    "    '슈퍼 스마트 판크레아틴', '헤어바드 보티카 감초 추출물', '솔가 글루타민', '가든 오브 라이프 생강 추출물', '아워 밸류 카모마일'\n",
    "]\n",
    "\n",
    "for entry in new_entries:\n",
    "    if entry not in existing_words:\n",
    "        jongsung_TF = get_jongsung_TF(entry)\n",
    "        line = '{},*,*,*,NNP,*,{},{},*,*,*,*,*\\n'.format(entry, jongsung_TF, entry)\n",
    "        user_dict.append(line)\n",
    "\n",
    "# 두뇌 및 인지 관련 건강보조식품의 성분과 제품명 새로운 단어 추가\n",
    "add_list1 = [\n",
    "    '오메가-3 지방산', 'EPA', 'DHA', '레시틴', '포스파티딜세린', 'DMAE', '알파 GPC', '바콜로사이드', '호두 오일', '석류 추출물',\n",
    "    '피크노제놀', '비타민 E', '비타민 B6', '비타민 B9', '비타민 B12', '아세틸-L-카르니틴', 'L-테아닌', '커큐민', '레스베라트롤',\n",
    "    '징코 빌로바', '콜린', '니코틴아미드 리보사이드', '애쉬와간다', '로디올라 로세아', '파나크스 진생', '호박씨 오일', '비사카민',\n",
    "    '네이처 메이드 피쉬 오일', '뉴트리코스트 알파 GPC', '닥터스 베스트 포스파티딜세린', '네이쳐스 바운티 레시틴', '솔가 DMAE',\n",
    "    '네이쳐스 트루스 L-테아닌', '옵티멈 뉴트리션 아세틸-L-카르니틴', '자로우 포뮬라스 커큐민 95', '수퍼 스마트 피크노제놀',\n",
    "    '스와슨 비타민 B12', '소스 내추럴즈 비타민E', '내츄럴스테이 이노트로픽스', '카우보이 지니 포커스', '피프틴데이 애드마인드',\n",
    "    '노드릭 내추럴즈 우먼스 오메가', '브레인즈트', '피나클 네츄럴스 뉴로 클리어', '더 브레인 소스', '스마트 리커버리 피닉스',\n",
    "    '비바 뉴트리션 두뇌 포뮬라'\n",
    "]\n",
    "\n",
    "for entry in add_list1:\n",
    "    if entry not in existing_words:\n",
    "        jongsung_TF = get_jongsung_TF(entry)\n",
    "        line = '{},*,*,*,NNP,*,{},{},*,*,*,*,*\\n'.format(entry, jongsung_TF, entry)\n",
    "        user_dict.append(line)\n",
    "\n",
    "# 위 건강, 소화 및 장 건강과 관련된 건강보조식품 성분과 제품명 새로운 단어 추가\n",
    "add_list2 = [\n",
    "    '프로바이오틱스', '프리바이오틱스', '유산균', '비피더스균', '소화효소', '파파인', '브로멜라인', '베타인 HCL', '펩신', '락타아제',\n",
    "    '아밀라아제', '프로테아제', '셀룰라아제', '글루코아밀라아제', '판크레아틴', '글루타민', '알로에 베라', '차전자', '민트', '생강',\n",
    "    '감초', '카모마일', '양배추 추출물', '락토바실러스 람노서스', '락토바실러스 애시도필러스',\n",
    "    '나우푸드 프로바이오틱스 10억', '가든 오브 라이프 프리바이오틱스', '솔가 유산균', '네이쳐스 바운티 유산균 10억', '닥터스 베스트 소화효소',\n",
    "    '자로우 포뮬라스 자로-도필러스 EPS', '스와슨 파파인 소화효소', '네이쳐스 웨이 브로멜라인', '소스 내추럴즈 베타인 HCL', '가이아 허브스 글루타민',\n",
    "    '노르딕 내추럴스 유산균', '레인보우 라이트 소화효소', '옵티멈 뉴트리션 알로에 베라', '제이미슨 프로바이오틱스', '뉴챕터 소화효소',\n",
    "    '카프리 크랩 소화효소', '유니시티 바이오스 라이프 프리바이오틱스', '내츄럴 팩토스 소화효소', '라이프 익스텐션 아밀라아제', '푸드사이언스 프로테아제',\n",
    "    '슈퍼 스마트 판크레아틴', '헤어바드 보티카 감초 추출물', '감초 추출물', '솔가 글루타민', '가든 오브 라이프 생강 추출물', '아워 밸류 카모마일'\n",
    "]\n",
    "\n",
    "for entry in add_list2:\n",
    "    if entry not in existing_words:\n",
    "        jongsung_TF = get_jongsung_TF(entry)\n",
    "        line = '{},*,*,*,NNP,*,{},{},*,*,*,*,*\\n'.format(entry, jongsung_TF, entry)\n",
    "        user_dict.append(line)\n",
    "\n",
    "\n",
    "\n",
    "# 변경된 사전 내용 확인\n",
    "print(user_dict[-10:])  # 마지막 10개 항목 출력\n",
    "\n",
    "# 변경된 사전을 파일에 다시 쓰기\n",
    "with open('/home/samuel/mecab-ko-dic-2.1.1-20180720/user-dic/nnp.csv', 'w', encoding='utf-8') as f:\n",
    "    f.writelines(user_dict)"
   ]
  },
  {
   "cell_type": "code",
   "execution_count": 7,
   "metadata": {},
   "outputs": [
    {
     "name": "stdout",
     "output_type": "stream",
     "text": [
      "[('프로', 'NNG'), ('바이오', 'NNP'), ('틱', 'XSN'), ('스', 'XSN'), ('먹', 'VV'), ('고', 'EC'), ('싶', 'VX'), ('다', 'EF'), ('.', 'SF')]\n",
      "[('비피', 'NNG'), ('더', 'MAG'), ('스', 'IC'), ('균', 'NNG'), ('먹', 'VV'), ('고', 'EC'), ('싶', 'VX'), ('다', 'EF'), ('.', 'SF')]\n",
      "[('포스파티딜', 'NNG'), ('세린', 'NNG'), ('에서', 'JKB'), ('일', 'NNG'), ('을', 'JKO'), ('합니다', 'VV+EF'), ('.', 'SF')]\n",
      "[('추출물', 'NNG'), ('이', 'JKS'), ('정말', 'MAG'), ('이뻐요', 'VA+EF'), ('.', 'SF')]\n"
     ]
    }
   ],
   "source": [
    "# 재저장\n",
    "with open('/home/samuel/mecab-ko-dic-2.1.1-20180720/user-dic/nnp.csv', 'w', encoding='utf-8') as f:\n",
    "  for line in user_dict:\n",
    "    f.write(line)\n",
    "    \n",
    "# # test\n",
    "# from konlpy.tag import Mecab\n",
    "\n",
    "m = Mecab(dicpath='/home/samuel/mecab-ko-dic-2.1.1-20180720')\n",
    "\n",
    "print(m.pos(\"프로바이오틱스 먹고 싶다.\"))\n",
    "print(m.pos(\"비피더스균 먹고 싶다.\"))\n",
    "print(m.pos(\"포스파티딜세린에서 일을 합니다.\"))\n",
    "print(m.pos(\"추출물이 정말 이뻐요.\"))"
   ]
  }
 ],
 "metadata": {
  "kernelspec": {
   "display_name": "venv",
   "language": "python",
   "name": "python3"
  },
  "language_info": {
   "codemirror_mode": {
    "name": "ipython",
    "version": 3
   },
   "file_extension": ".py",
   "mimetype": "text/x-python",
   "name": "python",
   "nbconvert_exporter": "python",
   "pygments_lexer": "ipython3",
   "version": "3.11.7"
  }
 },
 "nbformat": 4,
 "nbformat_minor": 2
}
