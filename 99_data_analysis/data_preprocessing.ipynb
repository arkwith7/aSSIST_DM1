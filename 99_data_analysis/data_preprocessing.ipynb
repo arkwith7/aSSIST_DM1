{
 "cells": [
  {
   "cell_type": "code",
   "execution_count": 1,
   "metadata": {},
   "outputs": [],
   "source": [
    "# 데이터 전처리 및 한글 데이터 형대소 분석 패키지\n",
    "import pandas as pd\n",
    "import numpy as np\n",
    "import matplotlib.pyplot as plt\n",
    "import seaborn as sns\n",
    "import re\n",
    "import konlpy"
   ]
  },
  {
   "cell_type": "code",
   "execution_count": 2,
   "metadata": {},
   "outputs": [],
   "source": [
    "# Matplotlib 그래프를 위한 설정\n",
    "plt.rcParams['figure.figsize'] = [10, 6]\n",
    "plt.rcParams['font.size'] = 12\n",
    "plt.rcParams['font.family'] = 'NanumGothic'\n",
    "plt.rcParams['axes.unicode_minus'] = False"
   ]
  },
  {
   "cell_type": "code",
   "execution_count": 3,
   "metadata": {},
   "outputs": [
    {
     "name": "stdout",
     "output_type": "stream",
     "text": [
      "Okt :  오늘날 씨 가 정말 좋네요\n",
      "Spacing :  오늘 날씨가 정말 좋네요\n",
      "['아름다운', '날씨', '가', '너무', '좋아요', '.', '내일', '은', '더울', '것', '같아요', '.']\n",
      "[('아름다운', 'Adjective'), ('날씨', 'Noun'), ('가', 'Josa'), ('너무', 'Adverb'), ('좋아요', 'Adjective'), ('.', 'Punctuation'), ('내일', 'Noun'), ('은', 'Josa'), ('더울', 'Adjective'), ('것', 'Noun'), ('같아요', 'Adjective'), ('.', 'Punctuation'), ('그러나', 'Conjunction'), ('토익', 'Noun'), ('공부', 'Noun'), ('한다', 'Verb')]\n",
      "['날씨', '내일', '것']\n",
      "['아름다운', '날씨', '너무', '좋다', '내일', '더울', '것', '같아요']\n"
     ]
    }
   ],
   "source": [
    "# 한국어 띄어쓰기를 교정해주는 라이브러리\n",
    "from pykospacing import Spacing\n",
    "# 한글 형태소 분석기 okt\n",
    "from konlpy.tag import Okt\n",
    "okt = Okt()\n",
    "\n",
    "def correct_spacing(text):\n",
    "    return ' '.join(okt.morphs(text))\n",
    "\n",
    "# 예제 문장\n",
    "text = \"오늘날씨가정말좋네요\"\n",
    "corrected_text = correct_spacing(text)\n",
    "print(\"Okt : \",corrected_text)\n",
    "\n",
    "spacing = Spacing()\n",
    "text = \"오늘날씨가정말좋네요\"\n",
    "corrected_text = spacing(text)\n",
    "print(\"Spacing : \",corrected_text)\n",
    "\n",
    "# Okt 형태소 분석기 테스트\n",
    "print(okt.morphs('아름다운 날씨가 너무 좋아요. 내일은 더울 것 같아요.'))\n",
    "print(okt.pos('아름다운 날씨가 너무 좋아요. 내일은 더울 것 같아요. 그러나 토익 공부한다'))\n",
    "# 명사, 형용사, 동사와 같이 특정 품사만 추출\n",
    "print(okt.nouns('아름다운 날씨가 너무 좋아요. 내일은 더울 것 같아요.'))\n",
    "# 명사, 형용사, 부사, 동사 만 남기는 함수\n",
    "def extract_nouns_and_verbs(text):\n",
    "    return [word for word, pos in okt.pos(text) if pos in ['Noun', 'Adjective', 'Verb', 'Adverb']]\n",
    "print(extract_nouns_and_verbs('아름다운 날씨가 너무 좋다. 내일은 더울 것 같아요.'))\n"
   ]
  },
  {
   "cell_type": "code",
   "execution_count": 4,
   "metadata": {},
   "outputs": [
    {
     "name": "stdout",
     "output_type": "stream",
     "text": [
      "['아이허브 보니 이 제품에듀 실라짓 들어간 듯한 데 그럼 이것도 통관 불가 아닐지요', '약사님 지금 병원 처방 유산균 과 민성 대장 증후군 약과 갑상선 암 반절제 수술 작년 후 갑자기 혈압이 높아져서 약을 복용 중이며 2년 전 약사님 영상에서도 봤고 약국에서 아로나민골드 프리미엄 추천해 주셔서 먹는데 셀레늄이나 아연 비타민 D 등이 추가적으로 필요할까요 혹시 더 필요한 것들은 무엇이 있을까요 혈압에 아직도 암 환자 같고 영양제 너무 어렵네요 30살 입니다', '닥터스 베스트는 하루에 3 알 먹어야 되는 종비인 거죠', '안녕하세 요저는 부산에 사는 60대 여성입니다문의 드릴께 있어서 요샤 프란이라는 건강식품은 어떤 효능이 있']\n"
     ]
    }
   ],
   "source": [
    "# 한글 댓글의 특수문자, 불용어 제거 및 공백, 줄바꿈 처리\n",
    "def clean_comments(text):\n",
    "    # 여러줄로 되있는 것을 한줄로 변환\n",
    "    text = ' '.join(text.splitlines())\n",
    "    # 시간 표현 제거\n",
    "    text = re.sub(r'\\b\\d+:\\d+\\b', '', text)\n",
    "    # 특수 문자 및 한글이 아닌 문자 제거, 영어와 숫자는 남김\n",
    "    text = re.sub(r'[^가-힣a-zA-Z0-9\\s]', '', text)  # 한글, 영어, 숫자, 공백을 제외한 모든 문자 제거\n",
    "    text = re.sub(r'\\s+', ' ', text)  # 공백과 줄바꿈을 하나의 공백으로 변환\n",
    "    text = spacing(text) # 한글 뛰어쓰기 안된 문장 뛰어쓰기로 변환\n",
    "\n",
    "    return text.strip()  # 앞뒤 공백 제거\n",
    "\n",
    "# 댓글 데이터 예시\n",
    "text1 = \"\"\"\n",
    "약사님 ~??지금 병원 처방 유산균, 과민성 대장 증후군 약과 갑상선 암 반절제 수술(작년) 후\n",
    "갑자기 혈압이 높아져서 약을 복용 중이며 2년전? 약사님 영상에서도 봤고 약국에서 아로나민골드 프리미엄 추천해 주셔서 먹는데 셀레늄이나 아연 비타민 D 등이 추가적으로 필요할까요?\n",
    "혹시 더 필요한 것들은 무엇이 있을까요? 혈압에 ..아직도 암환자같고 영양제 너무 어렵네요??30살입니다!\n",
    "\"\"\"\n",
    "example_comments = [\n",
    "    \"3:59 아이허브 보니 이제품에듀 실라짓 들어간듯한데 그럼 이것도 통관불가 아닐지요?\",\n",
    "    text1,\n",
    "    \"닥터스 베스트는 하루에 3알 먹어야 되는 종비인거죠?\",\n",
    "    \"안녕하세요저는부산에사는60대여성입니다문의드릴께있어서요샤프란이라는건강식품은어떤효능이있...\"\n",
    "]\n",
    "\n",
    "# 댓글 데이터 클리닝\n",
    "cleaned_comments = [clean_comments(comment) for comment in example_comments]\n",
    "print(cleaned_comments)\n",
    "# cleaned_comments = [extract_nouns_and_verbs(comment) for comment in cleaned_comments]\n",
    "# print(cleaned_comments)\n",
    "\n"
   ]
  },
  {
   "cell_type": "code",
   "execution_count": 5,
   "metadata": {},
   "outputs": [
    {
     "name": "stdout",
     "output_type": "stream",
     "text": [
      "                  channelId    channelTitle    channelPublishedAt  \\\n",
      "0  UCMFk5S7g5DY-CZNVh_Kyz_A  약사가 들려주는 약 이야기  2017-03-02T02:28:38Z   \n",
      "1  UCMFk5S7g5DY-CZNVh_Kyz_A  약사가 들려주는 약 이야기  2017-03-02T02:28:38Z   \n",
      "2  UCMFk5S7g5DY-CZNVh_Kyz_A  약사가 들려주는 약 이야기  2017-03-02T02:28:38Z   \n",
      "3  UCMFk5S7g5DY-CZNVh_Kyz_A  약사가 들려주는 약 이야기  2017-03-02T02:28:38Z   \n",
      "4  UCMFk5S7g5DY-CZNVh_Kyz_A  약사가 들려주는 약 이야기  2017-03-02T02:28:38Z   \n",
      "\n",
      "   subscriberCount      videoId  \\\n",
      "0          1780000  RAO61ojyDDc   \n",
      "1          1780000  RAO61ojyDDc   \n",
      "2          1780000  RAO61ojyDDc   \n",
      "3          1780000  RAO61ojyDDc   \n",
      "4          1780000  RAO61ojyDDc   \n",
      "\n",
      "                                          videoTitle  \\\n",
      "0  혈당을 뚝 떨어뜨리고 당뇨병을 예방 하는 가성비 좋은 베르베린부터 최고 품질의 베르...   \n",
      "1  혈당을 뚝 떨어뜨리고 당뇨병을 예방 하는 가성비 좋은 베르베린부터 최고 품질의 베르...   \n",
      "2  혈당을 뚝 떨어뜨리고 당뇨병을 예방 하는 가성비 좋은 베르베린부터 최고 품질의 베르...   \n",
      "3  혈당을 뚝 떨어뜨리고 당뇨병을 예방 하는 가성비 좋은 베르베린부터 최고 품질의 베르...   \n",
      "4  혈당을 뚝 떨어뜨리고 당뇨병을 예방 하는 가성비 좋은 베르베린부터 최고 품질의 베르...   \n",
      "\n",
      "              videoAuthorId      videoPublishedAt  viewCount  likeCount  \\\n",
      "0  UCMFk5S7g5DY-CZNVh_Kyz_A  2024-05-31T10:00:18Z      18637       1110   \n",
      "1  UCMFk5S7g5DY-CZNVh_Kyz_A  2024-05-31T10:00:18Z      18637       1110   \n",
      "2  UCMFk5S7g5DY-CZNVh_Kyz_A  2024-05-31T10:00:18Z      18637       1110   \n",
      "3  UCMFk5S7g5DY-CZNVh_Kyz_A  2024-05-31T10:00:18Z      18637       1110   \n",
      "4  UCMFk5S7g5DY-CZNVh_Kyz_A  2024-05-31T10:00:18Z      18637       1110   \n",
      "\n",
      "   dislikeCount                   commentId     commentAuthor  \\\n",
      "0             0  UgyHIKXYAWXA29XlJoB4AaABAg    @asd236678able   \n",
      "1             0  UgzKPXBso10Qu8atexx4AaABAg    @asd236678able   \n",
      "2             0  UgzRawgWkL7l2_dfUYp4AaABAg  @user-kt4kx7nl6g   \n",
      "3             0  Ugzc0BFkbdSHrs8OTIt4AaABAg  @user-kt4kx7nl6g   \n",
      "4             0  UgxHA5mR-FxDzrgDpqd4AaABAg            @icto.   \n",
      "\n",
      "                   authorId  \\\n",
      "0  UCn4W1SwEDohMgiWRQM2PQzQ   \n",
      "1  UCn4W1SwEDohMgiWRQM2PQzQ   \n",
      "2  UCD-WkP7GpgPzB-CvvhsmROA   \n",
      "3  UCD-WkP7GpgPzB-CvvhsmROA   \n",
      "4  UC1sviI9Yhzo5tDrLM7tcGTw   \n",
      "\n",
      "                                         commentText  commentLikeCount  \\\n",
      "0  영상보나까 함량이 다 다른데 어느정도 먹는게 좋을까요? 그리고 베르베린이 흡수율이 ...                 0   \n",
      "1     베르베린 추천보고 먹고있는데 식곤증 사라지고 체지방 감소 효과가 있씁니다! 감사감사                 0   \n",
      "2         저는 심방세동 부정맥약 복용중인데  같이 먹어도  될까요 ..고맙습니다  !                 0   \n",
      "3  약사님.답글주시면 정말 감사하겠습니다  !!!!\\n심근경색 약먹고 있는 남편이 당뇨...                 0   \n",
      "4  베르베린 600mg랑 비타민C 3000mg 같이 먹어도 될까요? 간이나 신장에 무리...                 0   \n",
      "\n",
      "     commentPublishedAt parentCommentId  \n",
      "0  2024-05-31T22:55:20Z             NaN  \n",
      "1  2024-05-31T22:52:07Z             NaN  \n",
      "2  2024-05-31T22:44:07Z             NaN  \n",
      "3  2024-05-31T22:37:16Z             NaN  \n",
      "4  2024-05-31T22:22:13Z             NaN  \n"
     ]
    }
   ],
   "source": [
    "# 댓글 데이터를 전저리하기 위해 데이터 파일 읽기\n",
    "df = pd.read_csv('./youtube_channel_comments_data_20240601_035208.csv')\n",
    "print(df.head())"
   ]
  },
  {
   "cell_type": "code",
   "execution_count": 6,
   "metadata": {},
   "outputs": [
    {
     "name": "stdout",
     "output_type": "stream",
     "text": [
      "channelId             object\n",
      "channelTitle          object\n",
      "channelPublishedAt    object\n",
      "subscriberCount        int64\n",
      "videoId               object\n",
      "videoTitle            object\n",
      "videoAuthorId         object\n",
      "videoPublishedAt      object\n",
      "viewCount              int64\n",
      "likeCount              int64\n",
      "dislikeCount           int64\n",
      "commentId             object\n",
      "commentAuthor         object\n",
      "authorId              object\n",
      "commentText           object\n",
      "commentLikeCount       int64\n",
      "commentPublishedAt    object\n",
      "parentCommentId       object\n",
      "dtype: object\n"
     ]
    }
   ],
   "source": [
    "# 전체 데이터의 각 열의 데이터 타입을 확인\n",
    "print(df.dtypes)"
   ]
  },
  {
   "cell_type": "code",
   "execution_count": 7,
   "metadata": {},
   "outputs": [
    {
     "name": "stdout",
     "output_type": "stream",
     "text": [
      "                  channelId    channelTitle    channelPublishedAt  \\\n",
      "0  UCMFk5S7g5DY-CZNVh_Kyz_A  약사가 들려주는 약 이야기  2017-03-02T02:28:38Z   \n",
      "1  UCMFk5S7g5DY-CZNVh_Kyz_A  약사가 들려주는 약 이야기  2017-03-02T02:28:38Z   \n",
      "2  UCMFk5S7g5DY-CZNVh_Kyz_A  약사가 들려주는 약 이야기  2017-03-02T02:28:38Z   \n",
      "3  UCMFk5S7g5DY-CZNVh_Kyz_A  약사가 들려주는 약 이야기  2017-03-02T02:28:38Z   \n",
      "4  UCMFk5S7g5DY-CZNVh_Kyz_A  약사가 들려주는 약 이야기  2017-03-02T02:28:38Z   \n",
      "\n",
      "   subscriberCount      videoId  \\\n",
      "0          1780000  RAO61ojyDDc   \n",
      "1          1780000  RAO61ojyDDc   \n",
      "2          1780000  RAO61ojyDDc   \n",
      "3          1780000  RAO61ojyDDc   \n",
      "4          1780000  RAO61ojyDDc   \n",
      "\n",
      "                                          videoTitle  \\\n",
      "0  혈당을 뚝 떨어뜨리고 당뇨병을 예방 하는 가성비 좋은 베르베린부터 최고 품질의 베르...   \n",
      "1  혈당을 뚝 떨어뜨리고 당뇨병을 예방 하는 가성비 좋은 베르베린부터 최고 품질의 베르...   \n",
      "2  혈당을 뚝 떨어뜨리고 당뇨병을 예방 하는 가성비 좋은 베르베린부터 최고 품질의 베르...   \n",
      "3  혈당을 뚝 떨어뜨리고 당뇨병을 예방 하는 가성비 좋은 베르베린부터 최고 품질의 베르...   \n",
      "4  혈당을 뚝 떨어뜨리고 당뇨병을 예방 하는 가성비 좋은 베르베린부터 최고 품질의 베르...   \n",
      "\n",
      "              videoAuthorId      videoPublishedAt  viewCount  likeCount  \\\n",
      "0  UCMFk5S7g5DY-CZNVh_Kyz_A  2024-05-31T10:00:18Z      18637       1110   \n",
      "1  UCMFk5S7g5DY-CZNVh_Kyz_A  2024-05-31T10:00:18Z      18637       1110   \n",
      "2  UCMFk5S7g5DY-CZNVh_Kyz_A  2024-05-31T10:00:18Z      18637       1110   \n",
      "3  UCMFk5S7g5DY-CZNVh_Kyz_A  2024-05-31T10:00:18Z      18637       1110   \n",
      "4  UCMFk5S7g5DY-CZNVh_Kyz_A  2024-05-31T10:00:18Z      18637       1110   \n",
      "\n",
      "   dislikeCount                   commentId     commentAuthor  \\\n",
      "0             0  UgyHIKXYAWXA29XlJoB4AaABAg    @asd236678able   \n",
      "1             0  UgzKPXBso10Qu8atexx4AaABAg    @asd236678able   \n",
      "2             0  UgzRawgWkL7l2_dfUYp4AaABAg  @user-kt4kx7nl6g   \n",
      "3             0  Ugzc0BFkbdSHrs8OTIt4AaABAg  @user-kt4kx7nl6g   \n",
      "4             0  UgxHA5mR-FxDzrgDpqd4AaABAg            @icto.   \n",
      "\n",
      "                   authorId  \\\n",
      "0  UCn4W1SwEDohMgiWRQM2PQzQ   \n",
      "1  UCn4W1SwEDohMgiWRQM2PQzQ   \n",
      "2  UCD-WkP7GpgPzB-CvvhsmROA   \n",
      "3  UCD-WkP7GpgPzB-CvvhsmROA   \n",
      "4  UC1sviI9Yhzo5tDrLM7tcGTw   \n",
      "\n",
      "                                         commentText  commentLikeCount  \\\n",
      "0  영상보나까 함량이 다 다른데 어느정도 먹는게 좋을까요? 그리고 베르베린이 흡수율이 ...                 0   \n",
      "1     베르베린 추천보고 먹고있는데 식곤증 사라지고 체지방 감소 효과가 있씁니다! 감사감사                 0   \n",
      "2         저는 심방세동 부정맥약 복용중인데  같이 먹어도  될까요 ..고맙습니다  !                 0   \n",
      "3  약사님.답글주시면 정말 감사하겠습니다  !!!!\\n심근경색 약먹고 있는 남편이 당뇨...                 0   \n",
      "4  베르베린 600mg랑 비타민C 3000mg 같이 먹어도 될까요? 간이나 신장에 무리...                 0   \n",
      "\n",
      "     commentPublishedAt parentCommentId  \\\n",
      "0  2024-05-31T22:55:20Z             NaN   \n",
      "1  2024-05-31T22:52:07Z             NaN   \n",
      "2  2024-05-31T22:44:07Z             NaN   \n",
      "3  2024-05-31T22:37:16Z             NaN   \n",
      "4  2024-05-31T22:22:13Z             NaN   \n",
      "\n",
      "                                     cleaned_comment  \n",
      "0  영상 보나 까 함량이 다 다른데 어느 정도 먹는 게 좋을까요 그리고 베르 베린이 흡...  \n",
      "1    베르베린 추천보고 먹고 있는데 식곤증 사라지고 체지방 감소 효과가 있씁니 다 감사감사  \n",
      "2               저는 심방세동 부정맥약 복용 중인데 같이 먹어도 될까요 고맙습니다  \n",
      "3  약사님 답글 주시면 정말 감사하겠습니다 심근경색 약 먹고 있는 남편이 당뇨가 걱정인...  \n",
      "4  베르베린 600mg 랑 비타민C 3000mg 같이 먹어도 될까요 간이나 신장에 무리...  \n"
     ]
    }
   ],
   "source": [
    "# 데이터 프레임의 commentText 열의 데이터 타입을 변환\n",
    "df['commentText'] = df['commentText'].astype(str)\n",
    "# commentText 열의 데이를 전처리하고 새로운 열을 추가하기 위해 함수 적용\n",
    "df['cleaned_comment'] = df['commentText'].apply(clean_comments)\n",
    "# df['cleaned_comment'] = df['cleaned_comment'].apply(extract_nouns_and_verbs)\n",
    "\n",
    "print(df.head())# 5개의 데이터 보기\n"
   ]
  },
  {
   "cell_type": "code",
   "execution_count": 8,
   "metadata": {},
   "outputs": [
    {
     "name": "stdout",
     "output_type": "stream",
     "text": [
      "channelId             object\n",
      "channelTitle          object\n",
      "channelPublishedAt    object\n",
      "subscriberCount        int64\n",
      "videoId               object\n",
      "videoTitle            object\n",
      "videoAuthorId         object\n",
      "videoPublishedAt      object\n",
      "viewCount              int64\n",
      "likeCount              int64\n",
      "dislikeCount           int64\n",
      "commentId             object\n",
      "commentAuthor         object\n",
      "authorId              object\n",
      "commentText           object\n",
      "commentLikeCount       int64\n",
      "commentPublishedAt    object\n",
      "parentCommentId       object\n",
      "cleaned_comment       object\n",
      "dtype: object\n"
     ]
    }
   ],
   "source": [
    "print(df.dtypes)"
   ]
  },
  {
   "cell_type": "code",
   "execution_count": 9,
   "metadata": {},
   "outputs": [],
   "source": [
    "# 데이터 분석을 위해 날짜 데이터 열(channelPublishedAt, videoPublishedAt, commentPublishedAt)을 \n",
    "# 오브젝트타입에서  datetime으로 변경\n",
    "# 날짜 데이터 열의 데이터 타입을 datetime으로 변경\n",
    "# df['channelPublishedAt'] = pd.to_datetime(df['channelPublishedAt'])\n",
    "# df['videoPublishedAt'] = pd.to_datetime(df['videoPublishedAt'])\n",
    "# df['commentPublishedAt'] = pd.to_datetime(df['commentPublishedAt'])\n",
    "df['channelPublishedAt'] = pd.to_datetime(df['channelPublishedAt'], format='mixed')\n",
    "df['videoPublishedAt'] = pd.to_datetime(df['videoPublishedAt'], format='mixed')\n",
    "df['commentPublishedAt'] = pd.to_datetime(df['commentPublishedAt'], format='mixed')"
   ]
  },
  {
   "cell_type": "code",
   "execution_count": 10,
   "metadata": {},
   "outputs": [
    {
     "name": "stdout",
     "output_type": "stream",
     "text": [
      "channelId                 0\n",
      "channelTitle              0\n",
      "channelPublishedAt        0\n",
      "subscriberCount           0\n",
      "videoId                   0\n",
      "videoTitle                0\n",
      "videoAuthorId             0\n",
      "videoPublishedAt          0\n",
      "viewCount                 0\n",
      "likeCount                 0\n",
      "dislikeCount              0\n",
      "commentId                 0\n",
      "commentAuthor             1\n",
      "authorId                  0\n",
      "commentText               0\n",
      "commentLikeCount          0\n",
      "commentPublishedAt        0\n",
      "parentCommentId       13923\n",
      "cleaned_comment           0\n",
      "dtype: int64\n"
     ]
    }
   ],
   "source": [
    "# 공백이나 N/A 데이터 확인\n",
    "print(df.isnull().sum())\n"
   ]
  },
  {
   "cell_type": "code",
   "execution_count": 11,
   "metadata": {},
   "outputs": [
    {
     "name": "stdout",
     "output_type": "stream",
     "text": [
      "                  channelId    channelTitle        channelPublishedAt  \\\n",
      "0  UCMFk5S7g5DY-CZNVh_Kyz_A  약사가 들려주는 약 이야기 2017-03-02 02:28:38+00:00   \n",
      "1  UCMFk5S7g5DY-CZNVh_Kyz_A  약사가 들려주는 약 이야기 2017-03-02 02:28:38+00:00   \n",
      "2  UCMFk5S7g5DY-CZNVh_Kyz_A  약사가 들려주는 약 이야기 2017-03-02 02:28:38+00:00   \n",
      "3  UCMFk5S7g5DY-CZNVh_Kyz_A  약사가 들려주는 약 이야기 2017-03-02 02:28:38+00:00   \n",
      "4  UCMFk5S7g5DY-CZNVh_Kyz_A  약사가 들려주는 약 이야기 2017-03-02 02:28:38+00:00   \n",
      "\n",
      "   subscriberCount      videoId  \\\n",
      "0          1780000  RAO61ojyDDc   \n",
      "1          1780000  RAO61ojyDDc   \n",
      "2          1780000  RAO61ojyDDc   \n",
      "3          1780000  RAO61ojyDDc   \n",
      "4          1780000  RAO61ojyDDc   \n",
      "\n",
      "                                          videoTitle  \\\n",
      "0  혈당을 뚝 떨어뜨리고 당뇨병을 예방 하는 가성비 좋은 베르베린부터 최고 품질의 베르...   \n",
      "1  혈당을 뚝 떨어뜨리고 당뇨병을 예방 하는 가성비 좋은 베르베린부터 최고 품질의 베르...   \n",
      "2  혈당을 뚝 떨어뜨리고 당뇨병을 예방 하는 가성비 좋은 베르베린부터 최고 품질의 베르...   \n",
      "3  혈당을 뚝 떨어뜨리고 당뇨병을 예방 하는 가성비 좋은 베르베린부터 최고 품질의 베르...   \n",
      "4  혈당을 뚝 떨어뜨리고 당뇨병을 예방 하는 가성비 좋은 베르베린부터 최고 품질의 베르...   \n",
      "\n",
      "              videoAuthorId          videoPublishedAt  viewCount  likeCount  \\\n",
      "0  UCMFk5S7g5DY-CZNVh_Kyz_A 2024-05-31 10:00:18+00:00      18637       1110   \n",
      "1  UCMFk5S7g5DY-CZNVh_Kyz_A 2024-05-31 10:00:18+00:00      18637       1110   \n",
      "2  UCMFk5S7g5DY-CZNVh_Kyz_A 2024-05-31 10:00:18+00:00      18637       1110   \n",
      "3  UCMFk5S7g5DY-CZNVh_Kyz_A 2024-05-31 10:00:18+00:00      18637       1110   \n",
      "4  UCMFk5S7g5DY-CZNVh_Kyz_A 2024-05-31 10:00:18+00:00      18637       1110   \n",
      "\n",
      "   dislikeCount                   commentId     commentAuthor  \\\n",
      "0             0  UgyHIKXYAWXA29XlJoB4AaABAg    @asd236678able   \n",
      "1             0  UgzKPXBso10Qu8atexx4AaABAg    @asd236678able   \n",
      "2             0  UgzRawgWkL7l2_dfUYp4AaABAg  @user-kt4kx7nl6g   \n",
      "3             0  Ugzc0BFkbdSHrs8OTIt4AaABAg  @user-kt4kx7nl6g   \n",
      "4             0  UgxHA5mR-FxDzrgDpqd4AaABAg            @icto.   \n",
      "\n",
      "                   authorId  \\\n",
      "0  UCn4W1SwEDohMgiWRQM2PQzQ   \n",
      "1  UCn4W1SwEDohMgiWRQM2PQzQ   \n",
      "2  UCD-WkP7GpgPzB-CvvhsmROA   \n",
      "3  UCD-WkP7GpgPzB-CvvhsmROA   \n",
      "4  UC1sviI9Yhzo5tDrLM7tcGTw   \n",
      "\n",
      "                                         commentText  commentLikeCount  \\\n",
      "0  영상 보나 까 함량이 다 다른데 어느 정도 먹는 게 좋을까요 그리고 베르 베린이 흡...                 0   \n",
      "1    베르베린 추천보고 먹고 있는데 식곤증 사라지고 체지방 감소 효과가 있씁니 다 감사감사                 0   \n",
      "2               저는 심방세동 부정맥약 복용 중인데 같이 먹어도 될까요 고맙습니다                 0   \n",
      "3  약사님 답글 주시면 정말 감사하겠습니다 심근경색 약 먹고 있는 남편이 당뇨가 걱정인...                 0   \n",
      "4  베르베린 600mg 랑 비타민C 3000mg 같이 먹어도 될까요 간이나 신장에 무리...                 0   \n",
      "\n",
      "         commentPublishedAt parentCommentId  \n",
      "0 2024-05-31 22:55:20+00:00             NaN  \n",
      "1 2024-05-31 22:52:07+00:00             NaN  \n",
      "2 2024-05-31 22:44:07+00:00             NaN  \n",
      "3 2024-05-31 22:37:16+00:00             NaN  \n",
      "4 2024-05-31 22:22:13+00:00             NaN  \n"
     ]
    }
   ],
   "source": [
    "# commentText 를 cleaned_comment 로 바꾸고 cleaned_comment는 삭제\n",
    "df['commentText'] = df['cleaned_comment']\n",
    "df = df.drop(columns=['cleaned_comment'])\n",
    "print(df.head())\n",
    "\n"
   ]
  },
  {
   "cell_type": "code",
   "execution_count": 12,
   "metadata": {},
   "outputs": [],
   "source": [
    "# 변환된 데이터를 csv 파일로 저장\n",
    "df.to_csv('./youtube_channel_comments_cleaneddata.csv', index=False)"
   ]
  }
 ],
 "metadata": {
  "kernelspec": {
   "display_name": "Python 3",
   "language": "python",
   "name": "python3"
  },
  "language_info": {
   "codemirror_mode": {
    "name": "ipython",
    "version": 3
   },
   "file_extension": ".py",
   "mimetype": "text/x-python",
   "name": "python",
   "nbconvert_exporter": "python",
   "pygments_lexer": "ipython3",
   "version": "3.10.12"
  }
 },
 "nbformat": 4,
 "nbformat_minor": 2
}
