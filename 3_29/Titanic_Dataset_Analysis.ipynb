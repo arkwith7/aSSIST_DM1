
# Titanic Dataset Analysis

This Jupyter Notebook guides you through the process of analyzing the Titanic dataset, which includes loading the data, cleaning, exploring, and finally predicting survival rates with a simple model.

## 1. Data Loading and Initial Inspection

```python
import pandas as pd

# Load the dataset
data = pd.read_csv('titanic.csv')

# Display the first few rows of the dataframe
print(data.head())

# Check for missing values
print(data.isnull().sum())
```

## 2. Basic Statistical Analysis

```python
# Describe the dataset to get basic statistical summaries
print(data.describe())

# Check the balance of the target variable (Survived)
print(data['Survived'].value_counts())
```

## 3. Data Cleaning

```python
# Handling missing values - Example: Fill missing age values with the median age
data['Age'].fillna(data['Age'].median(), inplace=True)

# Drop unnecessary columns
data.drop(['Ticket', 'Cabin'], axis=1, inplace=True)
```

## 4. Exploratory Data Analysis (EDA)

```python
import matplotlib.pyplot as plt
import seaborn as sns

# Visualizing the distribution of age
plt.figure(figsize=(10, 6))
sns.histplot(data['Age'], bins=30, kde=True)
plt.title('Age Distribution')
plt.show()

# Relationship between Passenger Class and Survival
sns.barplot(x='Pclass', y='Survived', data=data)
plt.title('Survival Rate by Class')
plt.show()
```

## 5. Preparing Data for Modeling

```python
from sklearn.model_selection import train_test_split

# Convert categorical variables into dummy/indicator variables
data = pd.get_dummies(data, columns=['Sex', 'Embarked'], drop_first=True)

# Define the target variable and features
X = data.drop('Survived', axis=1)
y = data['Survived']

# Splitting the dataset into the Training set and Test set
X_train, X_test, y_train, y_test = train_test_split(X, y, test_size=0.2, random_state=42)
```

## 6. Modeling and Prediction

```python
from sklearn.linear_model import LogisticRegression
from sklearn.metrics import accuracy_score, confusion_matrix

# Initialize the logistic regression model
model = LogisticRegression(max_iter=200)

# Fit the model
model.fit(X_train, y_train)

# Predicting the Test set results
y_pred = model.predict(X_test)

# Evaluating the model
print(f'Accuracy: {accuracy_score(y_test, y_pred)}')
print(confusion_matrix(y_test, y_pred))
```
