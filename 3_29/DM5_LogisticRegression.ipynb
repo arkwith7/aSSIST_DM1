{
 "cells": [
  {
   "cell_type": "code",
   "execution_count": 1,
   "metadata": {},
   "outputs": [],
   "source": [
    "import pandas as pd\n",
    "import numpy as np\n",
    "import matplotlib.pyplot as plt\n",
    "%matplotlib inline"
   ]
  },
  {
   "cell_type": "markdown",
   "metadata": {},
   "source": [
    "# Classification with TItanic dataset\n",
    "- Data from Kaggle's Titanic competition: [data dictionary](https://www.kaggle.com/c/titanic/data)\n",
    "- **Goal**: Predict survival based on passenger characteristics\n",
    "- `titanic.csv` is already in our repo, so there is no need to download the data from the Kaggle website\n",
    "\n",
    "Variable description\n",
    "- survival - Survival (0 = No; 1 = Yes)\n",
    "- class - Passenger Class (1 = 1st; 2 = 2nd; 3 = 3rd)\n",
    "- name - Name\n",
    "- sex - Sex\n",
    "- age - Age\n",
    "- sibsp - Number of Siblings/Spouses Aboard\n",
    "- parch - Number of Parents/Children Aboard\n",
    "- ticket - Ticket Number\n",
    "- fare - Passenger Fare\n",
    "- cabin - Cabin\n",
    "- embarked - Port of Embarkation (C = Cherbourg; Q = Queenstown; S = Southampton)"
   ]
  },
  {
   "cell_type": "code",
   "execution_count": 54,
   "metadata": {
    "scrolled": true
   },
   "outputs": [
    {
     "data": {
      "text/html": [
       "<div>\n",
       "<style scoped>\n",
       "    .dataframe tbody tr th:only-of-type {\n",
       "        vertical-align: middle;\n",
       "    }\n",
       "\n",
       "    .dataframe tbody tr th {\n",
       "        vertical-align: top;\n",
       "    }\n",
       "\n",
       "    .dataframe thead th {\n",
       "        text-align: right;\n",
       "    }\n",
       "</style>\n",
       "<table border=\"1\" class=\"dataframe\">\n",
       "  <thead>\n",
       "    <tr style=\"text-align: right;\">\n",
       "      <th></th>\n",
       "      <th>Survived</th>\n",
       "      <th>Pclass</th>\n",
       "      <th>Name</th>\n",
       "      <th>Sex</th>\n",
       "      <th>Age</th>\n",
       "      <th>SibSp</th>\n",
       "      <th>Parch</th>\n",
       "      <th>Ticket</th>\n",
       "      <th>Fare</th>\n",
       "      <th>Cabin</th>\n",
       "      <th>Embarked</th>\n",
       "    </tr>\n",
       "    <tr>\n",
       "      <th>PassengerId</th>\n",
       "      <th></th>\n",
       "      <th></th>\n",
       "      <th></th>\n",
       "      <th></th>\n",
       "      <th></th>\n",
       "      <th></th>\n",
       "      <th></th>\n",
       "      <th></th>\n",
       "      <th></th>\n",
       "      <th></th>\n",
       "      <th></th>\n",
       "    </tr>\n",
       "  </thead>\n",
       "  <tbody>\n",
       "    <tr>\n",
       "      <th>1</th>\n",
       "      <td>0</td>\n",
       "      <td>3</td>\n",
       "      <td>Braund, Mr. Owen Harris</td>\n",
       "      <td>male</td>\n",
       "      <td>22.0</td>\n",
       "      <td>1</td>\n",
       "      <td>0</td>\n",
       "      <td>A/5 21171</td>\n",
       "      <td>7.2500</td>\n",
       "      <td>NaN</td>\n",
       "      <td>S</td>\n",
       "    </tr>\n",
       "    <tr>\n",
       "      <th>2</th>\n",
       "      <td>1</td>\n",
       "      <td>1</td>\n",
       "      <td>Cumings, Mrs. John Bradley (Florence Briggs Th...</td>\n",
       "      <td>female</td>\n",
       "      <td>38.0</td>\n",
       "      <td>1</td>\n",
       "      <td>0</td>\n",
       "      <td>PC 17599</td>\n",
       "      <td>71.2833</td>\n",
       "      <td>C85</td>\n",
       "      <td>C</td>\n",
       "    </tr>\n",
       "    <tr>\n",
       "      <th>3</th>\n",
       "      <td>1</td>\n",
       "      <td>3</td>\n",
       "      <td>Heikkinen, Miss. Laina</td>\n",
       "      <td>female</td>\n",
       "      <td>26.0</td>\n",
       "      <td>0</td>\n",
       "      <td>0</td>\n",
       "      <td>STON/O2. 3101282</td>\n",
       "      <td>7.9250</td>\n",
       "      <td>NaN</td>\n",
       "      <td>S</td>\n",
       "    </tr>\n",
       "    <tr>\n",
       "      <th>4</th>\n",
       "      <td>1</td>\n",
       "      <td>1</td>\n",
       "      <td>Futrelle, Mrs. Jacques Heath (Lily May Peel)</td>\n",
       "      <td>female</td>\n",
       "      <td>35.0</td>\n",
       "      <td>1</td>\n",
       "      <td>0</td>\n",
       "      <td>113803</td>\n",
       "      <td>53.1000</td>\n",
       "      <td>C123</td>\n",
       "      <td>S</td>\n",
       "    </tr>\n",
       "    <tr>\n",
       "      <th>5</th>\n",
       "      <td>0</td>\n",
       "      <td>3</td>\n",
       "      <td>Allen, Mr. William Henry</td>\n",
       "      <td>male</td>\n",
       "      <td>35.0</td>\n",
       "      <td>0</td>\n",
       "      <td>0</td>\n",
       "      <td>373450</td>\n",
       "      <td>8.0500</td>\n",
       "      <td>NaN</td>\n",
       "      <td>S</td>\n",
       "    </tr>\n",
       "  </tbody>\n",
       "</table>\n",
       "</div>"
      ],
      "text/plain": [
       "             Survived  Pclass  \\\n",
       "PassengerId                     \n",
       "1                   0       3   \n",
       "2                   1       1   \n",
       "3                   1       3   \n",
       "4                   1       1   \n",
       "5                   0       3   \n",
       "\n",
       "                                                          Name     Sex   Age  \\\n",
       "PassengerId                                                                    \n",
       "1                                      Braund, Mr. Owen Harris    male  22.0   \n",
       "2            Cumings, Mrs. John Bradley (Florence Briggs Th...  female  38.0   \n",
       "3                                       Heikkinen, Miss. Laina  female  26.0   \n",
       "4                 Futrelle, Mrs. Jacques Heath (Lily May Peel)  female  35.0   \n",
       "5                                     Allen, Mr. William Henry    male  35.0   \n",
       "\n",
       "             SibSp  Parch            Ticket     Fare Cabin Embarked  \n",
       "PassengerId                                                          \n",
       "1                1      0         A/5 21171   7.2500   NaN        S  \n",
       "2                1      0          PC 17599  71.2833   C85        C  \n",
       "3                0      0  STON/O2. 3101282   7.9250   NaN        S  \n",
       "4                1      0            113803  53.1000  C123        S  \n",
       "5                0      0            373450   8.0500   NaN        S  "
      ]
     },
     "execution_count": 54,
     "metadata": {},
     "output_type": "execute_result"
    }
   ],
   "source": [
    "data_file = 'data/titanic.csv'\n",
    "titanic = pd.read_csv(data_file, index_col='PassengerId')\n",
    "titanic.head()"
   ]
  },
  {
   "cell_type": "code",
   "execution_count": 55,
   "metadata": {},
   "outputs": [
    {
     "name": "stdout",
     "output_type": "stream",
     "text": [
      "<class 'pandas.core.frame.DataFrame'>\n",
      "Int64Index: 891 entries, 1 to 891\n",
      "Data columns (total 11 columns):\n",
      " #   Column    Non-Null Count  Dtype  \n",
      "---  ------    --------------  -----  \n",
      " 0   Survived  891 non-null    int64  \n",
      " 1   Pclass    891 non-null    int64  \n",
      " 2   Name      891 non-null    object \n",
      " 3   Sex       891 non-null    object \n",
      " 4   Age       714 non-null    float64\n",
      " 5   SibSp     891 non-null    int64  \n",
      " 6   Parch     891 non-null    int64  \n",
      " 7   Ticket    891 non-null    object \n",
      " 8   Fare      891 non-null    float64\n",
      " 9   Cabin     204 non-null    object \n",
      " 10  Embarked  889 non-null    object \n",
      "dtypes: float64(2), int64(4), object(5)\n",
      "memory usage: 83.5+ KB\n"
     ]
    }
   ],
   "source": [
    "titanic.info()"
   ]
  },
  {
   "cell_type": "markdown",
   "metadata": {},
   "source": [
    "### Embarked 변수 처리\n",
    "\n",
    "Embarked 변수를 더미변수로 처리합니다. pandas의 get_dummies함수를 이용합니다."
   ]
  },
  {
   "cell_type": "code",
   "execution_count": 56,
   "metadata": {
    "scrolled": true
   },
   "outputs": [
    {
     "data": {
      "text/plain": [
       "S    644\n",
       "C    168\n",
       "Q     77\n",
       "Name: Embarked, dtype: int64"
      ]
     },
     "execution_count": 56,
     "metadata": {},
     "output_type": "execute_result"
    }
   ],
   "source": [
    "titanic['Embarked'].value_counts()"
   ]
  },
  {
   "cell_type": "code",
   "execution_count": 57,
   "metadata": {
    "scrolled": true
   },
   "outputs": [
    {
     "data": {
      "text/html": [
       "<div>\n",
       "<style scoped>\n",
       "    .dataframe tbody tr th:only-of-type {\n",
       "        vertical-align: middle;\n",
       "    }\n",
       "\n",
       "    .dataframe tbody tr th {\n",
       "        vertical-align: top;\n",
       "    }\n",
       "\n",
       "    .dataframe thead th {\n",
       "        text-align: right;\n",
       "    }\n",
       "</style>\n",
       "<table border=\"1\" class=\"dataframe\">\n",
       "  <thead>\n",
       "    <tr style=\"text-align: right;\">\n",
       "      <th></th>\n",
       "      <th>port_C</th>\n",
       "      <th>port_Q</th>\n",
       "      <th>port_S</th>\n",
       "    </tr>\n",
       "    <tr>\n",
       "      <th>PassengerId</th>\n",
       "      <th></th>\n",
       "      <th></th>\n",
       "      <th></th>\n",
       "    </tr>\n",
       "  </thead>\n",
       "  <tbody>\n",
       "    <tr>\n",
       "      <th>380</th>\n",
       "      <td>0</td>\n",
       "      <td>0</td>\n",
       "      <td>1</td>\n",
       "    </tr>\n",
       "    <tr>\n",
       "      <th>77</th>\n",
       "      <td>0</td>\n",
       "      <td>0</td>\n",
       "      <td>1</td>\n",
       "    </tr>\n",
       "    <tr>\n",
       "      <th>647</th>\n",
       "      <td>0</td>\n",
       "      <td>0</td>\n",
       "      <td>1</td>\n",
       "    </tr>\n",
       "    <tr>\n",
       "      <th>136</th>\n",
       "      <td>1</td>\n",
       "      <td>0</td>\n",
       "      <td>0</td>\n",
       "    </tr>\n",
       "    <tr>\n",
       "      <th>562</th>\n",
       "      <td>0</td>\n",
       "      <td>0</td>\n",
       "      <td>1</td>\n",
       "    </tr>\n",
       "    <tr>\n",
       "      <th>469</th>\n",
       "      <td>0</td>\n",
       "      <td>1</td>\n",
       "      <td>0</td>\n",
       "    </tr>\n",
       "    <tr>\n",
       "      <th>490</th>\n",
       "      <td>0</td>\n",
       "      <td>0</td>\n",
       "      <td>1</td>\n",
       "    </tr>\n",
       "    <tr>\n",
       "      <th>93</th>\n",
       "      <td>0</td>\n",
       "      <td>0</td>\n",
       "      <td>1</td>\n",
       "    </tr>\n",
       "    <tr>\n",
       "      <th>193</th>\n",
       "      <td>0</td>\n",
       "      <td>0</td>\n",
       "      <td>1</td>\n",
       "    </tr>\n",
       "    <tr>\n",
       "      <th>206</th>\n",
       "      <td>0</td>\n",
       "      <td>0</td>\n",
       "      <td>1</td>\n",
       "    </tr>\n",
       "  </tbody>\n",
       "</table>\n",
       "</div>"
      ],
      "text/plain": [
       "             port_C  port_Q  port_S\n",
       "PassengerId                        \n",
       "380               0       0       1\n",
       "77                0       0       1\n",
       "647               0       0       1\n",
       "136               1       0       0\n",
       "562               0       0       1\n",
       "469               0       1       0\n",
       "490               0       0       1\n",
       "93                0       0       1\n",
       "193               0       0       1\n",
       "206               0       0       1"
      ]
     },
     "execution_count": 57,
     "metadata": {},
     "output_type": "execute_result"
    }
   ],
   "source": [
    "embark_dum = pd.get_dummies(titanic['Embarked'], prefix='port')\n",
    "embark_dum.sample(n = 10)"
   ]
  },
  {
   "cell_type": "code",
   "execution_count": 58,
   "metadata": {},
   "outputs": [
    {
     "data": {
      "text/html": [
       "<div>\n",
       "<style scoped>\n",
       "    .dataframe tbody tr th:only-of-type {\n",
       "        vertical-align: middle;\n",
       "    }\n",
       "\n",
       "    .dataframe tbody tr th {\n",
       "        vertical-align: top;\n",
       "    }\n",
       "\n",
       "    .dataframe thead th {\n",
       "        text-align: right;\n",
       "    }\n",
       "</style>\n",
       "<table border=\"1\" class=\"dataframe\">\n",
       "  <thead>\n",
       "    <tr style=\"text-align: right;\">\n",
       "      <th></th>\n",
       "      <th>port_C</th>\n",
       "      <th>port_Q</th>\n",
       "    </tr>\n",
       "    <tr>\n",
       "      <th>PassengerId</th>\n",
       "      <th></th>\n",
       "      <th></th>\n",
       "    </tr>\n",
       "  </thead>\n",
       "  <tbody>\n",
       "    <tr>\n",
       "      <th>560</th>\n",
       "      <td>0</td>\n",
       "      <td>0</td>\n",
       "    </tr>\n",
       "    <tr>\n",
       "      <th>86</th>\n",
       "      <td>0</td>\n",
       "      <td>0</td>\n",
       "    </tr>\n",
       "    <tr>\n",
       "      <th>318</th>\n",
       "      <td>0</td>\n",
       "      <td>0</td>\n",
       "    </tr>\n",
       "    <tr>\n",
       "      <th>460</th>\n",
       "      <td>0</td>\n",
       "      <td>1</td>\n",
       "    </tr>\n",
       "    <tr>\n",
       "      <th>683</th>\n",
       "      <td>0</td>\n",
       "      <td>0</td>\n",
       "    </tr>\n",
       "    <tr>\n",
       "      <th>681</th>\n",
       "      <td>0</td>\n",
       "      <td>1</td>\n",
       "    </tr>\n",
       "    <tr>\n",
       "      <th>281</th>\n",
       "      <td>0</td>\n",
       "      <td>1</td>\n",
       "    </tr>\n",
       "    <tr>\n",
       "      <th>57</th>\n",
       "      <td>0</td>\n",
       "      <td>0</td>\n",
       "    </tr>\n",
       "    <tr>\n",
       "      <th>51</th>\n",
       "      <td>0</td>\n",
       "      <td>0</td>\n",
       "    </tr>\n",
       "    <tr>\n",
       "      <th>444</th>\n",
       "      <td>0</td>\n",
       "      <td>0</td>\n",
       "    </tr>\n",
       "  </tbody>\n",
       "</table>\n",
       "</div>"
      ],
      "text/plain": [
       "             port_C  port_Q\n",
       "PassengerId                \n",
       "560               0       0\n",
       "86                0       0\n",
       "318               0       0\n",
       "460               0       1\n",
       "683               0       0\n",
       "681               0       1\n",
       "281               0       1\n",
       "57                0       0\n",
       "51                0       0\n",
       "444               0       0"
      ]
     },
     "execution_count": 58,
     "metadata": {},
     "output_type": "execute_result"
    }
   ],
   "source": [
    "embark_dum.drop(embark_dum.columns[2], axis=1, inplace=True)\n",
    "embark_dum.sample(n = 10)"
   ]
  },
  {
   "cell_type": "code",
   "execution_count": 59,
   "metadata": {},
   "outputs": [],
   "source": [
    "titanic = pd.concat([titanic, embark_dum], axis=1)\n",
    "titanic.drop(['Embarked'], axis=1, inplace=True)"
   ]
  },
  {
   "cell_type": "markdown",
   "metadata": {},
   "source": [
    "### Age 변수 처리\n",
    "- 결측치 (missing value) 존재"
   ]
  },
  {
   "cell_type": "code",
   "execution_count": 60,
   "metadata": {},
   "outputs": [],
   "source": [
    "age_group = []\n",
    "for i in range (0, len(titanic)):\n",
    "    age = titanic.iloc[i]['Age']\n",
    "    age = 'child' if age < 20 else 'adult' if age >= 20 else 'unknown'\n",
    "    age_group.append(age)"
   ]
  },
  {
   "cell_type": "code",
   "execution_count": 61,
   "metadata": {},
   "outputs": [],
   "source": [
    "titanic['Age_modified'] = age_group"
   ]
  },
  {
   "cell_type": "code",
   "execution_count": 62,
   "metadata": {},
   "outputs": [
    {
     "data": {
      "text/html": [
       "<div>\n",
       "<style scoped>\n",
       "    .dataframe tbody tr th:only-of-type {\n",
       "        vertical-align: middle;\n",
       "    }\n",
       "\n",
       "    .dataframe tbody tr th {\n",
       "        vertical-align: top;\n",
       "    }\n",
       "\n",
       "    .dataframe thead th {\n",
       "        text-align: right;\n",
       "    }\n",
       "</style>\n",
       "<table border=\"1\" class=\"dataframe\">\n",
       "  <thead>\n",
       "    <tr style=\"text-align: right;\">\n",
       "      <th></th>\n",
       "      <th>Age_adult</th>\n",
       "      <th>Age_child</th>\n",
       "    </tr>\n",
       "    <tr>\n",
       "      <th>PassengerId</th>\n",
       "      <th></th>\n",
       "      <th></th>\n",
       "    </tr>\n",
       "  </thead>\n",
       "  <tbody>\n",
       "    <tr>\n",
       "      <th>351</th>\n",
       "      <td>1</td>\n",
       "      <td>0</td>\n",
       "    </tr>\n",
       "    <tr>\n",
       "      <th>195</th>\n",
       "      <td>1</td>\n",
       "      <td>0</td>\n",
       "    </tr>\n",
       "    <tr>\n",
       "      <th>253</th>\n",
       "      <td>1</td>\n",
       "      <td>0</td>\n",
       "    </tr>\n",
       "    <tr>\n",
       "      <th>579</th>\n",
       "      <td>0</td>\n",
       "      <td>0</td>\n",
       "    </tr>\n",
       "    <tr>\n",
       "      <th>283</th>\n",
       "      <td>0</td>\n",
       "      <td>1</td>\n",
       "    </tr>\n",
       "    <tr>\n",
       "      <th>437</th>\n",
       "      <td>1</td>\n",
       "      <td>0</td>\n",
       "    </tr>\n",
       "    <tr>\n",
       "      <th>747</th>\n",
       "      <td>0</td>\n",
       "      <td>1</td>\n",
       "    </tr>\n",
       "    <tr>\n",
       "      <th>855</th>\n",
       "      <td>1</td>\n",
       "      <td>0</td>\n",
       "    </tr>\n",
       "    <tr>\n",
       "      <th>763</th>\n",
       "      <td>1</td>\n",
       "      <td>0</td>\n",
       "    </tr>\n",
       "    <tr>\n",
       "      <th>456</th>\n",
       "      <td>1</td>\n",
       "      <td>0</td>\n",
       "    </tr>\n",
       "  </tbody>\n",
       "</table>\n",
       "</div>"
      ],
      "text/plain": [
       "             Age_adult  Age_child\n",
       "PassengerId                      \n",
       "351                  1          0\n",
       "195                  1          0\n",
       "253                  1          0\n",
       "579                  0          0\n",
       "283                  0          1\n",
       "437                  1          0\n",
       "747                  0          1\n",
       "855                  1          0\n",
       "763                  1          0\n",
       "456                  1          0"
      ]
     },
     "execution_count": 62,
     "metadata": {},
     "output_type": "execute_result"
    }
   ],
   "source": [
    "age_dum = pd.get_dummies(titanic['Age_modified'], prefix = 'Age')\n",
    "age_dum.drop(age_dum.columns[2], axis=1, inplace=True)\n",
    "age_dum.sample(n = 10)"
   ]
  },
  {
   "cell_type": "code",
   "execution_count": 63,
   "metadata": {},
   "outputs": [],
   "source": [
    "titanic = pd.concat([titanic, age_dum], axis=1)\n",
    "titanic.drop(['Age', 'Age_modified'], axis=1, inplace=True)"
   ]
  },
  {
   "cell_type": "markdown",
   "metadata": {},
   "source": [
    "### Sex 처리"
   ]
  },
  {
   "cell_type": "code",
   "execution_count": 64,
   "metadata": {},
   "outputs": [],
   "source": [
    "titanic['Sex'] = titanic['Sex'].map({'female':1, 'male':0})"
   ]
  },
  {
   "cell_type": "code",
   "execution_count": 65,
   "metadata": {},
   "outputs": [
    {
     "data": {
      "text/html": [
       "<div>\n",
       "<style scoped>\n",
       "    .dataframe tbody tr th:only-of-type {\n",
       "        vertical-align: middle;\n",
       "    }\n",
       "\n",
       "    .dataframe tbody tr th {\n",
       "        vertical-align: top;\n",
       "    }\n",
       "\n",
       "    .dataframe thead th {\n",
       "        text-align: right;\n",
       "    }\n",
       "</style>\n",
       "<table border=\"1\" class=\"dataframe\">\n",
       "  <thead>\n",
       "    <tr style=\"text-align: right;\">\n",
       "      <th></th>\n",
       "      <th>Survived</th>\n",
       "      <th>Pclass</th>\n",
       "      <th>Name</th>\n",
       "      <th>Sex</th>\n",
       "      <th>SibSp</th>\n",
       "      <th>Parch</th>\n",
       "      <th>Ticket</th>\n",
       "      <th>Fare</th>\n",
       "      <th>Cabin</th>\n",
       "      <th>port_C</th>\n",
       "      <th>port_Q</th>\n",
       "      <th>Age_adult</th>\n",
       "      <th>Age_child</th>\n",
       "    </tr>\n",
       "    <tr>\n",
       "      <th>PassengerId</th>\n",
       "      <th></th>\n",
       "      <th></th>\n",
       "      <th></th>\n",
       "      <th></th>\n",
       "      <th></th>\n",
       "      <th></th>\n",
       "      <th></th>\n",
       "      <th></th>\n",
       "      <th></th>\n",
       "      <th></th>\n",
       "      <th></th>\n",
       "      <th></th>\n",
       "      <th></th>\n",
       "    </tr>\n",
       "  </thead>\n",
       "  <tbody>\n",
       "    <tr>\n",
       "      <th>1</th>\n",
       "      <td>0</td>\n",
       "      <td>3</td>\n",
       "      <td>Braund, Mr. Owen Harris</td>\n",
       "      <td>0</td>\n",
       "      <td>1</td>\n",
       "      <td>0</td>\n",
       "      <td>A/5 21171</td>\n",
       "      <td>7.2500</td>\n",
       "      <td>NaN</td>\n",
       "      <td>0</td>\n",
       "      <td>0</td>\n",
       "      <td>1</td>\n",
       "      <td>0</td>\n",
       "    </tr>\n",
       "    <tr>\n",
       "      <th>2</th>\n",
       "      <td>1</td>\n",
       "      <td>1</td>\n",
       "      <td>Cumings, Mrs. John Bradley (Florence Briggs Th...</td>\n",
       "      <td>1</td>\n",
       "      <td>1</td>\n",
       "      <td>0</td>\n",
       "      <td>PC 17599</td>\n",
       "      <td>71.2833</td>\n",
       "      <td>C85</td>\n",
       "      <td>1</td>\n",
       "      <td>0</td>\n",
       "      <td>1</td>\n",
       "      <td>0</td>\n",
       "    </tr>\n",
       "    <tr>\n",
       "      <th>3</th>\n",
       "      <td>1</td>\n",
       "      <td>3</td>\n",
       "      <td>Heikkinen, Miss. Laina</td>\n",
       "      <td>1</td>\n",
       "      <td>0</td>\n",
       "      <td>0</td>\n",
       "      <td>STON/O2. 3101282</td>\n",
       "      <td>7.9250</td>\n",
       "      <td>NaN</td>\n",
       "      <td>0</td>\n",
       "      <td>0</td>\n",
       "      <td>1</td>\n",
       "      <td>0</td>\n",
       "    </tr>\n",
       "    <tr>\n",
       "      <th>4</th>\n",
       "      <td>1</td>\n",
       "      <td>1</td>\n",
       "      <td>Futrelle, Mrs. Jacques Heath (Lily May Peel)</td>\n",
       "      <td>1</td>\n",
       "      <td>1</td>\n",
       "      <td>0</td>\n",
       "      <td>113803</td>\n",
       "      <td>53.1000</td>\n",
       "      <td>C123</td>\n",
       "      <td>0</td>\n",
       "      <td>0</td>\n",
       "      <td>1</td>\n",
       "      <td>0</td>\n",
       "    </tr>\n",
       "    <tr>\n",
       "      <th>5</th>\n",
       "      <td>0</td>\n",
       "      <td>3</td>\n",
       "      <td>Allen, Mr. William Henry</td>\n",
       "      <td>0</td>\n",
       "      <td>0</td>\n",
       "      <td>0</td>\n",
       "      <td>373450</td>\n",
       "      <td>8.0500</td>\n",
       "      <td>NaN</td>\n",
       "      <td>0</td>\n",
       "      <td>0</td>\n",
       "      <td>1</td>\n",
       "      <td>0</td>\n",
       "    </tr>\n",
       "    <tr>\n",
       "      <th>6</th>\n",
       "      <td>0</td>\n",
       "      <td>3</td>\n",
       "      <td>Moran, Mr. James</td>\n",
       "      <td>0</td>\n",
       "      <td>0</td>\n",
       "      <td>0</td>\n",
       "      <td>330877</td>\n",
       "      <td>8.4583</td>\n",
       "      <td>NaN</td>\n",
       "      <td>0</td>\n",
       "      <td>1</td>\n",
       "      <td>0</td>\n",
       "      <td>0</td>\n",
       "    </tr>\n",
       "    <tr>\n",
       "      <th>7</th>\n",
       "      <td>0</td>\n",
       "      <td>1</td>\n",
       "      <td>McCarthy, Mr. Timothy J</td>\n",
       "      <td>0</td>\n",
       "      <td>0</td>\n",
       "      <td>0</td>\n",
       "      <td>17463</td>\n",
       "      <td>51.8625</td>\n",
       "      <td>E46</td>\n",
       "      <td>0</td>\n",
       "      <td>0</td>\n",
       "      <td>1</td>\n",
       "      <td>0</td>\n",
       "    </tr>\n",
       "    <tr>\n",
       "      <th>8</th>\n",
       "      <td>0</td>\n",
       "      <td>3</td>\n",
       "      <td>Palsson, Master. Gosta Leonard</td>\n",
       "      <td>0</td>\n",
       "      <td>3</td>\n",
       "      <td>1</td>\n",
       "      <td>349909</td>\n",
       "      <td>21.0750</td>\n",
       "      <td>NaN</td>\n",
       "      <td>0</td>\n",
       "      <td>0</td>\n",
       "      <td>0</td>\n",
       "      <td>1</td>\n",
       "    </tr>\n",
       "    <tr>\n",
       "      <th>9</th>\n",
       "      <td>1</td>\n",
       "      <td>3</td>\n",
       "      <td>Johnson, Mrs. Oscar W (Elisabeth Vilhelmina Berg)</td>\n",
       "      <td>1</td>\n",
       "      <td>0</td>\n",
       "      <td>2</td>\n",
       "      <td>347742</td>\n",
       "      <td>11.1333</td>\n",
       "      <td>NaN</td>\n",
       "      <td>0</td>\n",
       "      <td>0</td>\n",
       "      <td>1</td>\n",
       "      <td>0</td>\n",
       "    </tr>\n",
       "    <tr>\n",
       "      <th>10</th>\n",
       "      <td>1</td>\n",
       "      <td>2</td>\n",
       "      <td>Nasser, Mrs. Nicholas (Adele Achem)</td>\n",
       "      <td>1</td>\n",
       "      <td>1</td>\n",
       "      <td>0</td>\n",
       "      <td>237736</td>\n",
       "      <td>30.0708</td>\n",
       "      <td>NaN</td>\n",
       "      <td>1</td>\n",
       "      <td>0</td>\n",
       "      <td>0</td>\n",
       "      <td>1</td>\n",
       "    </tr>\n",
       "  </tbody>\n",
       "</table>\n",
       "</div>"
      ],
      "text/plain": [
       "             Survived  Pclass  \\\n",
       "PassengerId                     \n",
       "1                   0       3   \n",
       "2                   1       1   \n",
       "3                   1       3   \n",
       "4                   1       1   \n",
       "5                   0       3   \n",
       "6                   0       3   \n",
       "7                   0       1   \n",
       "8                   0       3   \n",
       "9                   1       3   \n",
       "10                  1       2   \n",
       "\n",
       "                                                          Name  Sex  SibSp  \\\n",
       "PassengerId                                                                  \n",
       "1                                      Braund, Mr. Owen Harris    0      1   \n",
       "2            Cumings, Mrs. John Bradley (Florence Briggs Th...    1      1   \n",
       "3                                       Heikkinen, Miss. Laina    1      0   \n",
       "4                 Futrelle, Mrs. Jacques Heath (Lily May Peel)    1      1   \n",
       "5                                     Allen, Mr. William Henry    0      0   \n",
       "6                                             Moran, Mr. James    0      0   \n",
       "7                                      McCarthy, Mr. Timothy J    0      0   \n",
       "8                               Palsson, Master. Gosta Leonard    0      3   \n",
       "9            Johnson, Mrs. Oscar W (Elisabeth Vilhelmina Berg)    1      0   \n",
       "10                         Nasser, Mrs. Nicholas (Adele Achem)    1      1   \n",
       "\n",
       "             Parch            Ticket     Fare Cabin  port_C  port_Q  \\\n",
       "PassengerId                                                           \n",
       "1                0         A/5 21171   7.2500   NaN       0       0   \n",
       "2                0          PC 17599  71.2833   C85       1       0   \n",
       "3                0  STON/O2. 3101282   7.9250   NaN       0       0   \n",
       "4                0            113803  53.1000  C123       0       0   \n",
       "5                0            373450   8.0500   NaN       0       0   \n",
       "6                0            330877   8.4583   NaN       0       1   \n",
       "7                0             17463  51.8625   E46       0       0   \n",
       "8                1            349909  21.0750   NaN       0       0   \n",
       "9                2            347742  11.1333   NaN       0       0   \n",
       "10               0            237736  30.0708   NaN       1       0   \n",
       "\n",
       "             Age_adult  Age_child  \n",
       "PassengerId                        \n",
       "1                    1          0  \n",
       "2                    1          0  \n",
       "3                    1          0  \n",
       "4                    1          0  \n",
       "5                    1          0  \n",
       "6                    0          0  \n",
       "7                    1          0  \n",
       "8                    0          1  \n",
       "9                    1          0  \n",
       "10                   0          1  "
      ]
     },
     "execution_count": 65,
     "metadata": {},
     "output_type": "execute_result"
    }
   ],
   "source": [
    "titanic.head(10)"
   ]
  },
  {
   "cell_type": "markdown",
   "metadata": {},
   "source": [
    "우선 통계학적인 방법으로 계산해봅니다.\n"
   ]
  },
  {
   "cell_type": "code",
   "execution_count": 67,
   "metadata": {},
   "outputs": [
    {
     "name": "stdout",
     "output_type": "stream",
     "text": [
      "Optimization terminated successfully.\n",
      "         Current function value: 0.447577\n",
      "         Iterations 6\n",
      "                           Logit Regression Results                           \n",
      "==============================================================================\n",
      "Dep. Variable:               Survived   No. Observations:                  891\n",
      "Model:                          Logit   Df Residuals:                      881\n",
      "Method:                           MLE   Df Model:                            9\n",
      "Date:                Thu, 16 Mar 2023   Pseudo R-squ.:                  0.3279\n",
      "Time:                        07:35:58   Log-Likelihood:                -398.79\n",
      "converged:                       True   LL-Null:                       -593.33\n",
      "Covariance Type:            nonrobust   LLR p-value:                 2.934e-78\n",
      "==============================================================================\n",
      "                 coef    std err          z      P>|z|      [0.025      0.975]\n",
      "------------------------------------------------------------------------------\n",
      "Intercept      0.2587      0.409      0.632      0.527      -0.543       1.060\n",
      "Pclass        -0.9116      0.135     -6.754      0.000      -1.176      -0.647\n",
      "Sex            2.7345      0.200     13.684      0.000       2.343       3.126\n",
      "SibSp         -0.3095      0.110     -2.819      0.005      -0.525      -0.094\n",
      "Parch         -0.1305      0.117     -1.115      0.265      -0.360       0.099\n",
      "Fare           0.0025      0.002      1.067      0.286      -0.002       0.007\n",
      "port_C         0.4555      0.237      1.920      0.055      -0.010       0.920\n",
      "port_Q         0.4156      0.350      1.189      0.235      -0.270       1.101\n",
      "Age_adult      0.1054      0.256      0.411      0.681      -0.397       0.608\n",
      "Age_child      1.0109      0.315      3.206      0.001       0.393       1.629\n",
      "==============================================================================\n"
     ]
    }
   ],
   "source": [
    "import statsmodels.api as sm\n",
    "import statsmodels.formula.api as smf\n",
    "formula = 'Survived ~ Pclass+Sex+SibSp+Parch+Fare+port_C+port_Q+Age_adult+Age_child'\n",
    "# Fit the logistic regression model\n",
    "model = smf.logit(formula, data=titanic).fit()\n",
    "\n",
    "# Print the summary of the model\n",
    "print(model.summary())"
   ]
  },
  {
   "cell_type": "markdown",
   "metadata": {},
   "source": [
    "Odd ratio를 계산해봅니다."
   ]
  },
  {
   "cell_type": "code",
   "execution_count": 68,
   "metadata": {},
   "outputs": [
    {
     "name": "stdout",
     "output_type": "stream",
     "text": [
      "Odds Ratios:\n",
      "Intercept     1.295181\n",
      "Pclass        0.401883\n",
      "Sex          15.402575\n",
      "SibSp         0.733820\n",
      "Parch         0.877658\n",
      "Fare          1.002528\n",
      "port_C        1.576883\n",
      "port_Q        1.515300\n",
      "Age_adult     1.111197\n",
      "Age_child     2.747993\n",
      "dtype: float64\n"
     ]
    }
   ],
   "source": [
    "# Calculate odds ratios\n",
    "odds_ratios = np.exp(model.params)\n",
    "\n",
    "# Print odds ratios\n",
    "print(\"Odds Ratios:\")\n",
    "print(odds_ratios)"
   ]
  },
  {
   "cell_type": "markdown",
   "metadata": {},
   "source": [
    "# Model 학습\n",
    "\n",
    "sklearn에 있는 LogisticRegression 을 불러와서 모형을 생성합니다.\\\n",
    "metrics는 여러 평가지표를 의미합니다."
   ]
  },
  {
   "cell_type": "code",
   "execution_count": 69,
   "metadata": {},
   "outputs": [],
   "source": [
    "from sklearn.model_selection import train_test_split\n",
    "from sklearn.linear_model import LogisticRegression\n",
    "from sklearn import metrics"
   ]
  },
  {
   "cell_type": "code",
   "execution_count": 70,
   "metadata": {},
   "outputs": [],
   "source": [
    "feature_cols = ['Pclass', 'Sex', 'SibSp', 'Parch', 'Fare', 'port_C', 'port_Q', 'Age_adult', 'Age_child']\n",
    "X = titanic[feature_cols]\n",
    "y = titanic.Survived\n",
    "\n",
    "X_train, X_test, y_train, y_test = train_test_split(X, y, random_state=123)"
   ]
  },
  {
   "cell_type": "code",
   "execution_count": 71,
   "metadata": {},
   "outputs": [
    {
     "name": "stdout",
     "output_type": "stream",
     "text": [
      "[('Pclass', -0.8818244406123706), ('Sex', 2.6980480541085132), ('SibSp', -0.3439182848734963), ('Parch', -0.0726888697998788), ('Fare', 0.0026116057673728752), ('port_C', 0.2994803047385198), ('port_Q', 0.48965390562499567), ('Age_adult', 0.21868549540287197), ('Age_child', 1.0756814070245226)]\n"
     ]
    },
    {
     "name": "stderr",
     "output_type": "stream",
     "text": [
      "/Users/taeyeon/opt/anaconda3/lib/python3.8/site-packages/sklearn/linear_model/_logistic.py:458: ConvergenceWarning: lbfgs failed to converge (status=1):\n",
      "STOP: TOTAL NO. of ITERATIONS REACHED LIMIT.\n",
      "\n",
      "Increase the number of iterations (max_iter) or scale the data as shown in:\n",
      "    https://scikit-learn.org/stable/modules/preprocessing.html\n",
      "Please also refer to the documentation for alternative solver options:\n",
      "    https://scikit-learn.org/stable/modules/linear_model.html#logistic-regression\n",
      "  n_iter_i = _check_optimize_result(\n"
     ]
    }
   ],
   "source": [
    "logreg = LogisticRegression(C=1000)\n",
    "logreg.fit(X_train, y_train)\n",
    "print(list(zip(feature_cols, logreg.coef_[0])))"
   ]
  },
  {
   "cell_type": "code",
   "execution_count": 72,
   "metadata": {},
   "outputs": [
    {
     "name": "stdout",
     "output_type": "stream",
     "text": [
      "[[-8.81824441e-01  2.69804805e+00 -3.43918285e-01 -7.26888698e-02\n",
      "   2.61160577e-03  2.99480305e-01  4.89653906e-01  2.18685495e-01\n",
      "   1.07568141e+00]]\n",
      "[-8.81824441e-01  2.69804805e+00 -3.43918285e-01 -7.26888698e-02\n",
      "  2.61160577e-03  2.99480305e-01  4.89653906e-01  2.18685495e-01\n",
      "  1.07568141e+00]\n"
     ]
    }
   ],
   "source": [
    "print(logreg.coef_)\n",
    "print(logreg.coef_[0])"
   ]
  },
  {
   "cell_type": "code",
   "execution_count": 73,
   "metadata": {},
   "outputs": [],
   "source": [
    "# class predictions (not predicted probabilities)\n",
    "y_pred_class = logreg.predict(X_test)"
   ]
  },
  {
   "cell_type": "code",
   "execution_count": 74,
   "metadata": {
    "scrolled": true
   },
   "outputs": [
    {
     "data": {
      "text/plain": [
       "array([1, 0, 0, 0, 0, 0, 1, 1, 1, 1, 1, 1, 1, 0, 1, 1, 1, 0, 0, 0, 0, 1,\n",
       "       0, 0, 0, 0, 0, 1, 0, 0, 1, 1, 0, 0, 0, 0, 0, 0, 1, 0, 1, 0, 1, 1,\n",
       "       0, 0, 1, 0, 0, 1, 1, 0, 0, 0, 0, 0, 0, 0, 0, 0, 1, 1, 1, 1, 0, 0,\n",
       "       0, 0, 0, 1, 1, 0, 0, 0, 0, 0, 0, 0, 1, 1, 1, 0, 0, 0, 0, 0, 1, 0,\n",
       "       0, 0, 1, 0, 0, 0, 0, 0, 1, 1, 0, 1, 0, 0, 0, 1, 0, 0, 0, 0, 0, 1,\n",
       "       0, 0, 1, 0, 0, 0, 0, 0, 0, 1, 0, 0, 0, 0, 0, 0, 0, 0, 1, 0, 1, 0,\n",
       "       0, 1, 1, 0, 1, 1, 0, 1, 0, 0, 0, 0, 1, 0, 0, 0, 0, 1, 0, 0, 1, 0,\n",
       "       1, 0, 1, 1, 1, 1, 1, 0, 0, 1, 0, 1, 1, 0, 1, 0, 0, 0, 0, 0, 0, 0,\n",
       "       0, 0, 0, 1, 0, 0, 0, 0, 0, 1, 0, 1, 0, 1, 0, 0, 1, 0, 1, 0, 0, 1,\n",
       "       1, 0, 1, 1, 0, 0, 0, 0, 0, 1, 0, 0, 0, 1, 1, 0, 0, 0, 0, 0, 0, 0,\n",
       "       0, 0, 0])"
      ]
     },
     "execution_count": 74,
     "metadata": {},
     "output_type": "execute_result"
    }
   ],
   "source": [
    "y_pred_class"
   ]
  },
  {
   "cell_type": "code",
   "execution_count": 75,
   "metadata": {},
   "outputs": [],
   "source": [
    "y_pred_prob = logreg.predict_proba(X_test)"
   ]
  },
  {
   "cell_type": "code",
   "execution_count": 76,
   "metadata": {},
   "outputs": [
    {
     "data": {
      "text/plain": [
       "array([[0.2884089 , 0.7115911 ],\n",
       "       [0.89703574, 0.10296426],\n",
       "       [0.53215237, 0.46784763],\n",
       "       [0.60186709, 0.39813291],\n",
       "       [0.90645322, 0.09354678],\n",
       "       [0.78829227, 0.21170773],\n",
       "       [0.2047907 , 0.7952093 ],\n",
       "       [0.26378079, 0.73621921],\n",
       "       [0.17433712, 0.82566288],\n",
       "       [0.45067501, 0.54932499],\n",
       "       [0.36651075, 0.63348925],\n",
       "       [0.38834356, 0.61165644],\n",
       "       [0.11661466, 0.88338534],\n",
       "       [0.90407667, 0.09592333],\n",
       "       [0.0709772 , 0.9290228 ],\n",
       "       [0.29319736, 0.70680264],\n",
       "       [0.05317916, 0.94682084],\n",
       "       [0.64310003, 0.35689997],\n",
       "       [0.53199381, 0.46800619],\n",
       "       [0.84179416, 0.15820584],\n",
       "       [0.55306929, 0.44693071],\n",
       "       [0.10951967, 0.89048033],\n",
       "       [0.7939028 , 0.2060972 ],\n",
       "       [0.90804859, 0.09195141],\n",
       "       [0.9400322 , 0.0599678 ],\n",
       "       [0.9283636 , 0.0716364 ],\n",
       "       [0.90411159, 0.09588841],\n",
       "       [0.03576828, 0.96423172],\n",
       "       [0.80007638, 0.19992362],\n",
       "       [0.87795227, 0.12204773],\n",
       "       [0.45353774, 0.54646226],\n",
       "       [0.26879801, 0.73120199],\n",
       "       [0.7939028 , 0.2060972 ],\n",
       "       [0.89252955, 0.10747045],\n",
       "       [0.69976913, 0.30023087],\n",
       "       [0.74247008, 0.25752992],\n",
       "       [0.90416723, 0.09583277],\n",
       "       [0.9041446 , 0.0958554 ],\n",
       "       [0.20596277, 0.79403723],\n",
       "       [0.53003865, 0.46996135],\n",
       "       [0.05323166, 0.94676834],\n",
       "       [0.94347104, 0.05652896],\n",
       "       [0.44811623, 0.55188377],\n",
       "       [0.38729465, 0.61270535],\n",
       "       [0.79952402, 0.20047598],\n",
       "       [0.7939028 , 0.2060972 ],\n",
       "       [0.11926814, 0.88073186],\n",
       "       [0.67014796, 0.32985204],\n",
       "       [0.90430292, 0.09569708],\n",
       "       [0.26125275, 0.73874725],\n",
       "       [0.36973956, 0.63026044],\n",
       "       [0.53711097, 0.46288903],\n",
       "       [0.90425771, 0.09574229],\n",
       "       [0.90407667, 0.09592333],\n",
       "       [0.7939028 , 0.2060972 ],\n",
       "       [0.89703676, 0.10296324],\n",
       "       [0.9400322 , 0.0599678 ],\n",
       "       [0.80011815, 0.19988185],\n",
       "       [0.66166545, 0.33833455],\n",
       "       [0.95890389, 0.04109611],\n",
       "       [0.12003841, 0.87996159],\n",
       "       [0.02649177, 0.97350823],\n",
       "       [0.45503356, 0.54496644],\n",
       "       [0.07124722, 0.92875278],\n",
       "       [0.90430292, 0.09569708],\n",
       "       [0.93360232, 0.06639768],\n",
       "       [0.7939028 , 0.2060972 ],\n",
       "       [0.7939028 , 0.2060972 ],\n",
       "       [0.65440645, 0.34559355],\n",
       "       [0.16538343, 0.83461657],\n",
       "       [0.08680724, 0.91319276],\n",
       "       [0.90407667, 0.09592333],\n",
       "       [0.65499685, 0.34500315],\n",
       "       [0.52799142, 0.47200858],\n",
       "       [0.90413894, 0.09586106],\n",
       "       [0.90411159, 0.09588841],\n",
       "       [0.94860149, 0.05139851],\n",
       "       [0.90425771, 0.09574229],\n",
       "       [0.10444502, 0.89555498],\n",
       "       [0.08973788, 0.91026212],\n",
       "       [0.46710055, 0.53289945],\n",
       "       [0.90223793, 0.09776207],\n",
       "       [0.94513601, 0.05486399],\n",
       "       [0.89703574, 0.10296426],\n",
       "       [0.90411159, 0.09588841],\n",
       "       [0.79421243, 0.20578757],\n",
       "       [0.18454254, 0.81545746],\n",
       "       [0.87460297, 0.12539703],\n",
       "       [0.65174378, 0.34825622],\n",
       "       [0.90430292, 0.09569708],\n",
       "       [0.21142484, 0.78857516],\n",
       "       [0.77998274, 0.22001726],\n",
       "       [0.79347515, 0.20652485],\n",
       "       [0.94513601, 0.05486399],\n",
       "       [0.54893867, 0.45106133],\n",
       "       [0.80017904, 0.19982096],\n",
       "       [0.0621543 , 0.9378457 ],\n",
       "       [0.07232382, 0.92767618],\n",
       "       [0.90393975, 0.09606025],\n",
       "       [0.34853796, 0.65146204],\n",
       "       [0.9400322 , 0.0599678 ],\n",
       "       [0.5126991 , 0.4873009 ],\n",
       "       [0.60620826, 0.39379174],\n",
       "       [0.16672684, 0.83327316],\n",
       "       [0.87795227, 0.12204773],\n",
       "       [0.67014796, 0.32985204],\n",
       "       [0.90411347, 0.09588653],\n",
       "       [0.87501292, 0.12498708],\n",
       "       [0.90407667, 0.09592333],\n",
       "       [0.20596277, 0.79403723],\n",
       "       [0.64455949, 0.35544051],\n",
       "       [0.6672551 , 0.3327449 ],\n",
       "       [0.07709431, 0.92290569],\n",
       "       [0.90400588, 0.09599412],\n",
       "       [0.90413894, 0.09586106],\n",
       "       [0.84004736, 0.15995264],\n",
       "       [0.60620826, 0.39379174],\n",
       "       [0.84004736, 0.15995264],\n",
       "       [0.80013728, 0.19986272],\n",
       "       [0.462318  , 0.537682  ],\n",
       "       [0.80007638, 0.19992362],\n",
       "       [0.90407667, 0.09592333],\n",
       "       [0.6063719 , 0.3936281 ],\n",
       "       [0.87775393, 0.12224607],\n",
       "       [0.78829227, 0.21170773],\n",
       "       [0.84507036, 0.15492964],\n",
       "       [0.55574419, 0.44425581],\n",
       "       [0.64764259, 0.35235741],\n",
       "       [0.3263291 , 0.6736709 ],\n",
       "       [0.90412101, 0.09587899],\n",
       "       [0.07073071, 0.92926929],\n",
       "       [0.90407667, 0.09592333],\n",
       "       [0.90416723, 0.09583277],\n",
       "       [0.41615617, 0.58384383],\n",
       "       [0.09406126, 0.90593874],\n",
       "       [0.80012684, 0.19987316],\n",
       "       [0.0443395 , 0.9556605 ],\n",
       "       [0.47998002, 0.52001998],\n",
       "       [0.92143823, 0.07856177],\n",
       "       [0.21522357, 0.78477643],\n",
       "       [0.8525188 , 0.1474812 ],\n",
       "       [0.53036391, 0.46963609],\n",
       "       [0.81841409, 0.18158591],\n",
       "       [0.70955167, 0.29044833],\n",
       "       [0.29319736, 0.70680264],\n",
       "       [0.90374777, 0.09625223],\n",
       "       [0.94735353, 0.05264647],\n",
       "       [0.89252955, 0.10747045],\n",
       "       [0.90393786, 0.09606214],\n",
       "       [0.06429772, 0.93570228],\n",
       "       [0.59784667, 0.40215333],\n",
       "       [0.95890389, 0.04109611],\n",
       "       [0.38832545, 0.61167455],\n",
       "       [0.80012684, 0.19987316],\n",
       "       [0.11636388, 0.88363612],\n",
       "       [0.89703574, 0.10296426],\n",
       "       [0.0939232 , 0.9060768 ],\n",
       "       [0.21028052, 0.78971948],\n",
       "       [0.20596277, 0.79403723],\n",
       "       [0.09406126, 0.90593874],\n",
       "       [0.20596277, 0.79403723],\n",
       "       [0.62263311, 0.37736689],\n",
       "       [0.59878032, 0.40121968],\n",
       "       [0.1087279 , 0.8912721 ],\n",
       "       [0.67248039, 0.32751961],\n",
       "       [0.09378616, 0.90621384],\n",
       "       [0.3071311 , 0.6928689 ],\n",
       "       [0.90412101, 0.09587899],\n",
       "       [0.32632192, 0.67367808],\n",
       "       [0.89574928, 0.10425072],\n",
       "       [0.90411159, 0.09588841],\n",
       "       [0.6520401 , 0.3479599 ],\n",
       "       [0.69486443, 0.30513557],\n",
       "       [0.79722983, 0.20277017],\n",
       "       [0.87795809, 0.12204191],\n",
       "       [0.90407667, 0.09592333],\n",
       "       [0.56827708, 0.43172292],\n",
       "       [0.89703676, 0.10296324],\n",
       "       [0.7939028 , 0.2060972 ],\n",
       "       [0.03129461, 0.96870539],\n",
       "       [0.8525188 , 0.1474812 ],\n",
       "       [0.87501412, 0.12498588],\n",
       "       [0.85252429, 0.14747571],\n",
       "       [0.52709374, 0.47290626],\n",
       "       [0.7939028 , 0.2060972 ],\n",
       "       [0.10994992, 0.89005008],\n",
       "       [0.62202359, 0.37797641],\n",
       "       [0.08006283, 0.91993717],\n",
       "       [0.90398983, 0.09601017],\n",
       "       [0.14178951, 0.85821049],\n",
       "       [0.62202359, 0.37797641],\n",
       "       [0.92158934, 0.07841066],\n",
       "       [0.27344273, 0.72655727],\n",
       "       [0.84004736, 0.15995264],\n",
       "       [0.28018312, 0.71981688],\n",
       "       [0.59184166, 0.40815834],\n",
       "       [0.93008537, 0.06991463],\n",
       "       [0.48252275, 0.51747725],\n",
       "       [0.07562719, 0.92437281],\n",
       "       [0.9214902 , 0.0785098 ],\n",
       "       [0.04375063, 0.95624937],\n",
       "       [0.32632192, 0.67367808],\n",
       "       [0.66982794, 0.33017206],\n",
       "       [0.60620826, 0.39379174],\n",
       "       [0.62263311, 0.37736689],\n",
       "       [0.80007638, 0.19992362],\n",
       "       [0.87795227, 0.12204773],\n",
       "       [0.21237024, 0.78762976],\n",
       "       [0.53499897, 0.46500103],\n",
       "       [0.90393786, 0.09606214],\n",
       "       [0.90375156, 0.09624844],\n",
       "       [0.13050927, 0.86949073],\n",
       "       [0.43997798, 0.56002202],\n",
       "       [0.90430292, 0.09569708],\n",
       "       [0.90407667, 0.09592333],\n",
       "       [0.89703574, 0.10296426],\n",
       "       [0.7939028 , 0.2060972 ],\n",
       "       [0.90672339, 0.09327661],\n",
       "       [0.92826808, 0.07173192],\n",
       "       [0.87501412, 0.12498588],\n",
       "       [0.92146737, 0.07853263],\n",
       "       [0.60133416, 0.39866584],\n",
       "       [0.87501292, 0.12498708]])"
      ]
     },
     "execution_count": 76,
     "metadata": {},
     "output_type": "execute_result"
    }
   ],
   "source": [
    "y_pred_prob"
   ]
  },
  {
   "cell_type": "code",
   "execution_count": 77,
   "metadata": {
    "scrolled": true
   },
   "outputs": [
    {
     "name": "stdout",
     "output_type": "stream",
     "text": [
      "0.8161434977578476\n"
     ]
    }
   ],
   "source": [
    "# calculate classification accuracy\n",
    "print(metrics.accuracy_score(y_test, y_pred_class))"
   ]
  },
  {
   "cell_type": "markdown",
   "metadata": {},
   "source": [
    "# 5. How to evaluate the classification model"
   ]
  },
  {
   "cell_type": "markdown",
   "metadata": {},
   "source": [
    "## Using confusion matrix"
   ]
  },
  {
   "cell_type": "code",
   "execution_count": 78,
   "metadata": {},
   "outputs": [
    {
     "name": "stdout",
     "output_type": "stream",
     "text": [
      "[[124  15]\n",
      " [ 26  58]]\n"
     ]
    }
   ],
   "source": [
    "# print confusion matrix\n",
    "print(metrics.confusion_matrix(y_test, y_pred_class))"
   ]
  },
  {
   "cell_type": "code",
   "execution_count": 79,
   "metadata": {},
   "outputs": [],
   "source": [
    "# save confusion matrix and slice into four pieces\n",
    "confusion = metrics.confusion_matrix(y_test, y_pred_class)\n",
    "TP = confusion[1][1]\n",
    "TN = confusion[0][0]\n",
    "FP = confusion[0][1]\n",
    "FN = confusion[1][0]"
   ]
  },
  {
   "cell_type": "code",
   "execution_count": 80,
   "metadata": {},
   "outputs": [
    {
     "name": "stdout",
     "output_type": "stream",
     "text": [
      "True Positives: 58\n",
      "True Negatives: 124\n",
      "False Positives: 15\n",
      "False Negatives: 26\n"
     ]
    }
   ],
   "source": [
    "print('True Positives:', TP)\n",
    "print('True Negatives:', TN)\n",
    "print('False Positives:', FP)\n",
    "print('False Negatives:', FN)"
   ]
  },
  {
   "cell_type": "code",
   "execution_count": 81,
   "metadata": {},
   "outputs": [
    {
     "name": "stdout",
     "output_type": "stream",
     "text": [
      "Sensitivity: 0.6904761904761905\n"
     ]
    }
   ],
   "source": [
    "# calculate the sensitivity\n",
    "print('Sensitivity:', TP / (TP + FN))"
   ]
  },
  {
   "cell_type": "code",
   "execution_count": 82,
   "metadata": {},
   "outputs": [
    {
     "name": "stdout",
     "output_type": "stream",
     "text": [
      "Specificity: 0.8920863309352518\n"
     ]
    }
   ],
   "source": [
    "# calculate the specificity\n",
    "print('Specificity:', TN / (TN + FP))"
   ]
  },
  {
   "cell_type": "code",
   "execution_count": 83,
   "metadata": {},
   "outputs": [
    {
     "name": "stdout",
     "output_type": "stream",
     "text": [
      "0.7388535031847133\n"
     ]
    }
   ],
   "source": [
    "print(metrics.f1_score(y_test, y_pred_class))"
   ]
  },
  {
   "cell_type": "code",
   "execution_count": 84,
   "metadata": {},
   "outputs": [
    {
     "name": "stdout",
     "output_type": "stream",
     "text": [
      "              precision    recall  f1-score   support\n",
      "\n",
      "           0       0.83      0.89      0.86       139\n",
      "           1       0.79      0.69      0.74        84\n",
      "\n",
      "    accuracy                           0.82       223\n",
      "   macro avg       0.81      0.79      0.80       223\n",
      "weighted avg       0.81      0.82      0.81       223\n",
      "\n"
     ]
    }
   ],
   "source": [
    "print(metrics.classification_report(y_test, y_pred_class))"
   ]
  },
  {
   "cell_type": "markdown",
   "metadata": {},
   "source": [
    "### How about using other threshold?\n",
    "- If y_pred_prob > 0.3, than y_pred_class = 1"
   ]
  },
  {
   "cell_type": "code",
   "execution_count": 85,
   "metadata": {},
   "outputs": [
    {
     "name": "stdout",
     "output_type": "stream",
     "text": [
      "[[0.2884089  0.7115911 ]\n",
      " [0.89703574 0.10296426]\n",
      " [0.53215237 0.46784763]\n",
      " [0.60186709 0.39813291]\n",
      " [0.90645322 0.09354678]\n",
      " [0.78829227 0.21170773]\n",
      " [0.2047907  0.7952093 ]\n",
      " [0.26378079 0.73621921]\n",
      " [0.17433712 0.82566288]\n",
      " [0.45067501 0.54932499]\n",
      " [0.36651075 0.63348925]\n",
      " [0.38834356 0.61165644]\n",
      " [0.11661466 0.88338534]\n",
      " [0.90407667 0.09592333]\n",
      " [0.0709772  0.9290228 ]\n",
      " [0.29319736 0.70680264]\n",
      " [0.05317916 0.94682084]\n",
      " [0.64310003 0.35689997]\n",
      " [0.53199381 0.46800619]\n",
      " [0.84179416 0.15820584]\n",
      " [0.55306929 0.44693071]\n",
      " [0.10951967 0.89048033]\n",
      " [0.7939028  0.2060972 ]\n",
      " [0.90804859 0.09195141]\n",
      " [0.9400322  0.0599678 ]\n",
      " [0.9283636  0.0716364 ]\n",
      " [0.90411159 0.09588841]\n",
      " [0.03576828 0.96423172]\n",
      " [0.80007638 0.19992362]\n",
      " [0.87795227 0.12204773]\n",
      " [0.45353774 0.54646226]\n",
      " [0.26879801 0.73120199]\n",
      " [0.7939028  0.2060972 ]\n",
      " [0.89252955 0.10747045]\n",
      " [0.69976913 0.30023087]\n",
      " [0.74247008 0.25752992]\n",
      " [0.90416723 0.09583277]\n",
      " [0.9041446  0.0958554 ]\n",
      " [0.20596277 0.79403723]\n",
      " [0.53003865 0.46996135]\n",
      " [0.05323166 0.94676834]\n",
      " [0.94347104 0.05652896]\n",
      " [0.44811623 0.55188377]\n",
      " [0.38729465 0.61270535]\n",
      " [0.79952402 0.20047598]\n",
      " [0.7939028  0.2060972 ]\n",
      " [0.11926814 0.88073186]\n",
      " [0.67014796 0.32985204]\n",
      " [0.90430292 0.09569708]\n",
      " [0.26125275 0.73874725]\n",
      " [0.36973956 0.63026044]\n",
      " [0.53711097 0.46288903]\n",
      " [0.90425771 0.09574229]\n",
      " [0.90407667 0.09592333]\n",
      " [0.7939028  0.2060972 ]\n",
      " [0.89703676 0.10296324]\n",
      " [0.9400322  0.0599678 ]\n",
      " [0.80011815 0.19988185]\n",
      " [0.66166545 0.33833455]\n",
      " [0.95890389 0.04109611]\n",
      " [0.12003841 0.87996159]\n",
      " [0.02649177 0.97350823]\n",
      " [0.45503356 0.54496644]\n",
      " [0.07124722 0.92875278]\n",
      " [0.90430292 0.09569708]\n",
      " [0.93360232 0.06639768]\n",
      " [0.7939028  0.2060972 ]\n",
      " [0.7939028  0.2060972 ]\n",
      " [0.65440645 0.34559355]\n",
      " [0.16538343 0.83461657]\n",
      " [0.08680724 0.91319276]\n",
      " [0.90407667 0.09592333]\n",
      " [0.65499685 0.34500315]\n",
      " [0.52799142 0.47200858]\n",
      " [0.90413894 0.09586106]\n",
      " [0.90411159 0.09588841]\n",
      " [0.94860149 0.05139851]\n",
      " [0.90425771 0.09574229]\n",
      " [0.10444502 0.89555498]\n",
      " [0.08973788 0.91026212]\n",
      " [0.46710055 0.53289945]\n",
      " [0.90223793 0.09776207]\n",
      " [0.94513601 0.05486399]\n",
      " [0.89703574 0.10296426]\n",
      " [0.90411159 0.09588841]\n",
      " [0.79421243 0.20578757]\n",
      " [0.18454254 0.81545746]\n",
      " [0.87460297 0.12539703]\n",
      " [0.65174378 0.34825622]\n",
      " [0.90430292 0.09569708]\n",
      " [0.21142484 0.78857516]\n",
      " [0.77998274 0.22001726]\n",
      " [0.79347515 0.20652485]\n",
      " [0.94513601 0.05486399]\n",
      " [0.54893867 0.45106133]\n",
      " [0.80017904 0.19982096]\n",
      " [0.0621543  0.9378457 ]\n",
      " [0.07232382 0.92767618]\n",
      " [0.90393975 0.09606025]\n",
      " [0.34853796 0.65146204]\n",
      " [0.9400322  0.0599678 ]\n",
      " [0.5126991  0.4873009 ]\n",
      " [0.60620826 0.39379174]\n",
      " [0.16672684 0.83327316]\n",
      " [0.87795227 0.12204773]\n",
      " [0.67014796 0.32985204]\n",
      " [0.90411347 0.09588653]\n",
      " [0.87501292 0.12498708]\n",
      " [0.90407667 0.09592333]\n",
      " [0.20596277 0.79403723]\n",
      " [0.64455949 0.35544051]\n",
      " [0.6672551  0.3327449 ]\n",
      " [0.07709431 0.92290569]\n",
      " [0.90400588 0.09599412]\n",
      " [0.90413894 0.09586106]\n",
      " [0.84004736 0.15995264]\n",
      " [0.60620826 0.39379174]\n",
      " [0.84004736 0.15995264]\n",
      " [0.80013728 0.19986272]\n",
      " [0.462318   0.537682  ]\n",
      " [0.80007638 0.19992362]\n",
      " [0.90407667 0.09592333]\n",
      " [0.6063719  0.3936281 ]\n",
      " [0.87775393 0.12224607]\n",
      " [0.78829227 0.21170773]\n",
      " [0.84507036 0.15492964]\n",
      " [0.55574419 0.44425581]\n",
      " [0.64764259 0.35235741]\n",
      " [0.3263291  0.6736709 ]\n",
      " [0.90412101 0.09587899]\n",
      " [0.07073071 0.92926929]\n",
      " [0.90407667 0.09592333]\n",
      " [0.90416723 0.09583277]\n",
      " [0.41615617 0.58384383]\n",
      " [0.09406126 0.90593874]\n",
      " [0.80012684 0.19987316]\n",
      " [0.0443395  0.9556605 ]\n",
      " [0.47998002 0.52001998]\n",
      " [0.92143823 0.07856177]\n",
      " [0.21522357 0.78477643]\n",
      " [0.8525188  0.1474812 ]\n",
      " [0.53036391 0.46963609]\n",
      " [0.81841409 0.18158591]\n",
      " [0.70955167 0.29044833]\n",
      " [0.29319736 0.70680264]\n",
      " [0.90374777 0.09625223]\n",
      " [0.94735353 0.05264647]\n",
      " [0.89252955 0.10747045]\n",
      " [0.90393786 0.09606214]\n",
      " [0.06429772 0.93570228]\n",
      " [0.59784667 0.40215333]\n",
      " [0.95890389 0.04109611]\n",
      " [0.38832545 0.61167455]\n",
      " [0.80012684 0.19987316]\n",
      " [0.11636388 0.88363612]\n",
      " [0.89703574 0.10296426]\n",
      " [0.0939232  0.9060768 ]\n",
      " [0.21028052 0.78971948]\n",
      " [0.20596277 0.79403723]\n",
      " [0.09406126 0.90593874]\n",
      " [0.20596277 0.79403723]\n",
      " [0.62263311 0.37736689]\n",
      " [0.59878032 0.40121968]\n",
      " [0.1087279  0.8912721 ]\n",
      " [0.67248039 0.32751961]\n",
      " [0.09378616 0.90621384]\n",
      " [0.3071311  0.6928689 ]\n",
      " [0.90412101 0.09587899]\n",
      " [0.32632192 0.67367808]\n",
      " [0.89574928 0.10425072]\n",
      " [0.90411159 0.09588841]\n",
      " [0.6520401  0.3479599 ]\n",
      " [0.69486443 0.30513557]\n",
      " [0.79722983 0.20277017]\n",
      " [0.87795809 0.12204191]\n",
      " [0.90407667 0.09592333]\n",
      " [0.56827708 0.43172292]\n",
      " [0.89703676 0.10296324]\n",
      " [0.7939028  0.2060972 ]\n",
      " [0.03129461 0.96870539]\n",
      " [0.8525188  0.1474812 ]\n",
      " [0.87501412 0.12498588]\n",
      " [0.85252429 0.14747571]\n",
      " [0.52709374 0.47290626]\n",
      " [0.7939028  0.2060972 ]\n",
      " [0.10994992 0.89005008]\n",
      " [0.62202359 0.37797641]\n",
      " [0.08006283 0.91993717]\n",
      " [0.90398983 0.09601017]\n",
      " [0.14178951 0.85821049]\n",
      " [0.62202359 0.37797641]\n",
      " [0.92158934 0.07841066]\n",
      " [0.27344273 0.72655727]\n",
      " [0.84004736 0.15995264]\n",
      " [0.28018312 0.71981688]\n",
      " [0.59184166 0.40815834]\n",
      " [0.93008537 0.06991463]\n",
      " [0.48252275 0.51747725]\n",
      " [0.07562719 0.92437281]\n",
      " [0.9214902  0.0785098 ]\n",
      " [0.04375063 0.95624937]\n",
      " [0.32632192 0.67367808]\n",
      " [0.66982794 0.33017206]\n",
      " [0.60620826 0.39379174]\n",
      " [0.62263311 0.37736689]\n",
      " [0.80007638 0.19992362]\n",
      " [0.87795227 0.12204773]\n",
      " [0.21237024 0.78762976]\n",
      " [0.53499897 0.46500103]\n",
      " [0.90393786 0.09606214]\n",
      " [0.90375156 0.09624844]\n",
      " [0.13050927 0.86949073]\n",
      " [0.43997798 0.56002202]\n",
      " [0.90430292 0.09569708]\n",
      " [0.90407667 0.09592333]\n",
      " [0.89703574 0.10296426]\n",
      " [0.7939028  0.2060972 ]\n",
      " [0.90672339 0.09327661]\n",
      " [0.92826808 0.07173192]\n",
      " [0.87501412 0.12498588]\n",
      " [0.92146737 0.07853263]\n",
      " [0.60133416 0.39866584]\n",
      " [0.87501292 0.12498708]]\n"
     ]
    }
   ],
   "source": [
    "test = logreg.predict_proba(X_test)\n",
    "print(test)"
   ]
  },
  {
   "cell_type": "code",
   "execution_count": 86,
   "metadata": {},
   "outputs": [],
   "source": [
    "# store the predicted probabilities\n",
    "y_pred_prob = logreg.predict_proba(X_test)[:, 1]"
   ]
  },
  {
   "cell_type": "code",
   "execution_count": 87,
   "metadata": {
    "scrolled": true
   },
   "outputs": [
    {
     "data": {
      "text/plain": [
       "Text(0, 0.5, 'Frequency')"
      ]
     },
     "execution_count": 87,
     "metadata": {},
     "output_type": "execute_result"
    },
    {
     "data": {
      "image/png": "[encoded data removed]",
      "text/plain": [
       "<Figure size 432x288 with 1 Axes>"
      ]
     },
     "metadata": {
      "needs_background": "light"
     },
     "output_type": "display_data"
    }
   ],
   "source": [
    "# histogram of predicted probabilities\n",
    "plt.hist(y_pred_prob)\n",
    "plt.xlim(0, 1)\n",
    "plt.xlabel('Predicted probability of survival')\n",
    "plt.ylabel('Frequency')"
   ]
  },
  {
   "cell_type": "code",
   "execution_count": 88,
   "metadata": {
    "scrolled": true
   },
   "outputs": [],
   "source": [
    "# increase sensitivity by lowering the threshold for predicting survival\n",
    "y_pred_class_new = np.where(y_pred_prob >= 0.3, 1, 0)"
   ]
  },
  {
   "cell_type": "code",
   "execution_count": 89,
   "metadata": {},
   "outputs": [
    {
     "data": {
      "text/plain": [
       "array([1, 0, 1, 1, 0, 0, 1, 1, 1, 1, 1, 1, 1, 0, 1, 1, 1, 1, 1, 0, 1, 1,\n",
       "       0, 0, 0, 0, 0, 1, 0, 0, 1, 1, 0, 0, 1, 0, 0, 0, 1, 1, 1, 0, 1, 1,\n",
       "       0, 0, 1, 1, 0, 1, 1, 1, 0, 0, 0, 0, 0, 0, 1, 0, 1, 1, 1, 1, 0, 0,\n",
       "       0, 0, 1, 1, 1, 0, 1, 1, 0, 0, 0, 0, 1, 1, 1, 0, 0, 0, 0, 0, 1, 0,\n",
       "       1, 0, 1, 0, 0, 0, 1, 0, 1, 1, 0, 1, 0, 1, 1, 1, 0, 1, 0, 0, 0, 1,\n",
       "       1, 1, 1, 0, 0, 0, 1, 0, 0, 1, 0, 0, 1, 0, 0, 0, 1, 1, 1, 0, 1, 0,\n",
       "       0, 1, 1, 0, 1, 1, 0, 1, 0, 1, 0, 0, 1, 0, 0, 0, 0, 1, 1, 0, 1, 0,\n",
       "       1, 0, 1, 1, 1, 1, 1, 1, 1, 1, 1, 1, 1, 0, 1, 0, 0, 1, 1, 0, 0, 0,\n",
       "       1, 0, 0, 1, 0, 0, 0, 1, 0, 1, 1, 1, 0, 1, 1, 0, 1, 0, 1, 1, 0, 1,\n",
       "       1, 0, 1, 1, 1, 1, 1, 0, 0, 1, 1, 0, 0, 1, 1, 0, 0, 0, 0, 0, 0, 0,\n",
       "       0, 1, 0])"
      ]
     },
     "execution_count": 89,
     "metadata": {},
     "output_type": "execute_result"
    }
   ],
   "source": [
    "y_pred_class_new"
   ]
  },
  {
   "cell_type": "code",
   "execution_count": 90,
   "metadata": {},
   "outputs": [
    {
     "name": "stdout",
     "output_type": "stream",
     "text": [
      "[[124  15]\n",
      " [ 26  58]]\n"
     ]
    }
   ],
   "source": [
    "# old confusion matrix\n",
    "print(confusion)"
   ]
  },
  {
   "cell_type": "code",
   "execution_count": 91,
   "metadata": {},
   "outputs": [
    {
     "name": "stdout",
     "output_type": "stream",
     "text": [
      "[[97 42]\n",
      " [12 72]]\n"
     ]
    }
   ],
   "source": [
    "confusion_new = metrics.confusion_matrix(y_test, y_pred_class_new)\n",
    "print(confusion_new)"
   ]
  },
  {
   "cell_type": "code",
   "execution_count": 92,
   "metadata": {},
   "outputs": [],
   "source": [
    "TP = confusion_new[1][1]\n",
    "TN = confusion_new[0][0]\n",
    "FP = confusion_new[0][1]\n",
    "FN = confusion_new[1][0]"
   ]
  },
  {
   "cell_type": "code",
   "execution_count": 93,
   "metadata": {},
   "outputs": [
    {
     "name": "stdout",
     "output_type": "stream",
     "text": [
      "Sensitivity: 0.8571428571428571\n"
     ]
    }
   ],
   "source": [
    "# new sensitivity (higher than before)\n",
    "print('Sensitivity:', TP / float(TP + FN))"
   ]
  },
  {
   "cell_type": "code",
   "execution_count": 94,
   "metadata": {
    "scrolled": true
   },
   "outputs": [
    {
     "name": "stdout",
     "output_type": "stream",
     "text": [
      "Specificity: 0.697841726618705\n"
     ]
    }
   ],
   "source": [
    "# new specificity (lower than before)\n",
    "print('Specificity:', TN / float(TN + FP))"
   ]
  },
  {
   "cell_type": "code",
   "execution_count": 95,
   "metadata": {},
   "outputs": [
    {
     "name": "stdout",
     "output_type": "stream",
     "text": [
      "              precision    recall  f1-score   support\n",
      "\n",
      "           0       0.89      0.70      0.78       139\n",
      "           1       0.63      0.86      0.73        84\n",
      "\n",
      "    accuracy                           0.76       223\n",
      "   macro avg       0.76      0.78      0.75       223\n",
      "weighted avg       0.79      0.76      0.76       223\n",
      "\n"
     ]
    }
   ],
   "source": [
    "print(metrics.classification_report(y_test, y_pred_class_new))"
   ]
  },
  {
   "cell_type": "markdown",
   "metadata": {},
   "source": [
    "## ROC, auroc"
   ]
  },
  {
   "cell_type": "markdown",
   "metadata": {},
   "source": [
    "### Drawing ROC curve and calculate AUC"
   ]
  },
  {
   "cell_type": "code",
   "execution_count": 96,
   "metadata": {},
   "outputs": [],
   "source": [
    "from sklearn.metrics import roc_curve, auc, roc_auc_score"
   ]
  },
  {
   "cell_type": "code",
   "execution_count": 97,
   "metadata": {},
   "outputs": [
    {
     "name": "stderr",
     "output_type": "stream",
     "text": [
      "/Users/taeyeon/opt/anaconda3/lib/python3.8/site-packages/sklearn/linear_model/_logistic.py:458: ConvergenceWarning: lbfgs failed to converge (status=1):\n",
      "STOP: TOTAL NO. of ITERATIONS REACHED LIMIT.\n",
      "\n",
      "Increase the number of iterations (max_iter) or scale the data as shown in:\n",
      "    https://scikit-learn.org/stable/modules/preprocessing.html\n",
      "Please also refer to the documentation for alternative solver options:\n",
      "    https://scikit-learn.org/stable/modules/linear_model.html#logistic-regression\n",
      "  n_iter_i = _check_optimize_result(\n",
      "/Users/taeyeon/opt/anaconda3/lib/python3.8/site-packages/sklearn/linear_model/_logistic.py:458: ConvergenceWarning: lbfgs failed to converge (status=1):\n",
      "STOP: TOTAL NO. of ITERATIONS REACHED LIMIT.\n",
      "\n",
      "Increase the number of iterations (max_iter) or scale the data as shown in:\n",
      "    https://scikit-learn.org/stable/modules/preprocessing.html\n",
      "Please also refer to the documentation for alternative solver options:\n",
      "    https://scikit-learn.org/stable/modules/linear_model.html#logistic-regression\n",
      "  n_iter_i = _check_optimize_result(\n"
     ]
    }
   ],
   "source": [
    "classifier = LogisticRegression()\n",
    "y_prob = classifier.fit(X_train, y_train).predict_proba(X_test)\n",
    "y_score = classifier.fit(X_train, y_train).decision_function(X_test)"
   ]
  },
  {
   "cell_type": "code",
   "execution_count": 98,
   "metadata": {
    "scrolled": true
   },
   "outputs": [
    {
     "name": "stdout",
     "output_type": "stream",
     "text": [
      "[[0.30801467 0.69198533]\n",
      " [0.88523088 0.11476912]\n",
      " [0.53966239 0.46033761]\n",
      " [0.60197198 0.39802802]\n",
      " [0.89982836 0.10017164]\n",
      " [0.78107587 0.21892413]\n",
      " [0.21971362 0.78028638]\n",
      " [0.27737926 0.72262074]\n",
      " [0.19556129 0.80443871]\n",
      " [0.44289601 0.55710399]]\n"
     ]
    }
   ],
   "source": [
    "print(y_prob[0:10,:])"
   ]
  },
  {
   "cell_type": "code",
   "execution_count": 99,
   "metadata": {},
   "outputs": [
    {
     "name": "stdout",
     "output_type": "stream",
     "text": [
      "[ 0.80941736 -2.04292601 -0.15898359 -0.41368851 -2.19531887 -1.27194706\n",
      "  1.26733603  0.95749879  1.41427091  0.22941692]\n"
     ]
    }
   ],
   "source": [
    "print(y_score[0:10])"
   ]
  },
  {
   "cell_type": "code",
   "execution_count": 100,
   "metadata": {},
   "outputs": [
    {
     "name": "stdout",
     "output_type": "stream",
     "text": [
      "0.8564148681055156\n"
     ]
    }
   ],
   "source": [
    "# fpr, tpr, _ = roc_curve(y_test, y_prob[:,1])\n",
    "fpr, tpr, _ = roc_curve(y_test, y_score)\n",
    "roc_auc = auc(fpr, tpr)\n",
    "print(roc_auc)"
   ]
  },
  {
   "cell_type": "code",
   "execution_count": 101,
   "metadata": {
    "scrolled": true
   },
   "outputs": [
    {
     "data": {
      "image/png": "[encoded data removed]",
      "text/plain": [
       "<Figure size 432x288 with 1 Axes>"
      ]
     },
     "metadata": {
      "needs_background": "light"
     },
     "output_type": "display_data"
    }
   ],
   "source": [
    "plt.figure()\n",
    "plt.plot(fpr, tpr, label = 'ROC curve')\n",
    "plt.plot([0,1], [0,1], 'k--')\n",
    "plt.xlim([0.0, 1.0])\n",
    "plt.ylim([0.0, 1.05])\n",
    "plt.xlabel('False Positive Rate')\n",
    "plt.ylabel('True Positive Rate')\n",
    "plt.title('Receiver operating characteristic example')\n",
    "plt.legend(loc=\"lower right\")\n",
    "plt.show()"
   ]
  },
  {
   "cell_type": "code",
   "execution_count": 102,
   "metadata": {},
   "outputs": [
    {
     "data": {
      "text/plain": [
       "0.8564148681055156"
      ]
     },
     "execution_count": 102,
     "metadata": {},
     "output_type": "execute_result"
    }
   ],
   "source": [
    "# ROC curve를 그리지 않고 바로 AUC를 계산해주는 함수\n",
    "roc_auc_score(y_test, y_score)"
   ]
  },
  {
   "cell_type": "code",
   "execution_count": null,
   "metadata": {},
   "outputs": [],
   "source": []
  }
 ],
 "metadata": {
  "anaconda-cloud": {},
  "kernelspec": {
   "display_name": "Python 3 (ipykernel)",
   "language": "python",
   "name": "python3"
  },
  "language_info": {
   "codemirror_mode": {
    "name": "ipython",
    "version": 3
   },
   "file_extension": ".py",
   "mimetype": "text/x-python",
   "name": "python",
   "nbconvert_exporter": "python",
   "pygments_lexer": "ipython3",
   "version": "3.8.8"
  }
 },
 "nbformat": 4,
 "nbformat_minor": 1
}
