{
 "cells": [
  {
   "cell_type": "code",
   "execution_count": 1,
   "metadata": {},
   "outputs": [],
   "source": [
    "import pandas as pd\n",
    "import numpy as np\n",
    "import matplotlib.pyplot as plt\n",
    "%matplotlib inline"
   ]
  },
  {
   "cell_type": "markdown",
   "metadata": {},
   "source": [
    "# Classification with TItanic dataset\n",
    "- Data from Kaggle's Titanic competition: [data dictionary](https://www.kaggle.com/c/titanic/data)\n",
    "- **Goal**: Predict survival based on passenger characteristics\n",
    "- `titanic.csv` is already in our repo, so there is no need to download the data from the Kaggle website\n",
    "\n",
    "Variable description\n",
    "- survival - Survival (0 = No; 1 = Yes)\n",
    "- class - Passenger Class (1 = 1st; 2 = 2nd; 3 = 3rd)\n",
    "- name - Name\n",
    "- sex - Sex\n",
    "- age - Age\n",
    "- sibsp - Number of Siblings/Spouses Aboard\n",
    "- parch - Number of Parents/Children Aboard\n",
    "- ticket - Ticket Number\n",
    "- fare - Passenger Fare\n",
    "- cabin - Cabin\n",
    "- embarked - Port of Embarkation (C = Cherbourg; Q = Queenstown; S = Southampton)"
   ]
  },
  {
   "cell_type": "code",
   "execution_count": 2,
   "metadata": {
    "scrolled": true
   },
   "outputs": [
    {
     "data": {
      "text/html": [
       "<div>\n",
       "<style scoped>\n",
       "    .dataframe tbody tr th:only-of-type {\n",
       "        vertical-align: middle;\n",
       "    }\n",
       "\n",
       "    .dataframe tbody tr th {\n",
       "        vertical-align: top;\n",
       "    }\n",
       "\n",
       "    .dataframe thead th {\n",
       "        text-align: right;\n",
       "    }\n",
       "</style>\n",
       "<table border=\"1\" class=\"dataframe\">\n",
       "  <thead>\n",
       "    <tr style=\"text-align: right;\">\n",
       "      <th></th>\n",
       "      <th>Survived</th>\n",
       "      <th>Pclass</th>\n",
       "      <th>Name</th>\n",
       "      <th>Sex</th>\n",
       "      <th>Age</th>\n",
       "      <th>SibSp</th>\n",
       "      <th>Parch</th>\n",
       "      <th>Ticket</th>\n",
       "      <th>Fare</th>\n",
       "      <th>Cabin</th>\n",
       "      <th>Embarked</th>\n",
       "    </tr>\n",
       "    <tr>\n",
       "      <th>PassengerId</th>\n",
       "      <th></th>\n",
       "      <th></th>\n",
       "      <th></th>\n",
       "      <th></th>\n",
       "      <th></th>\n",
       "      <th></th>\n",
       "      <th></th>\n",
       "      <th></th>\n",
       "      <th></th>\n",
       "      <th></th>\n",
       "      <th></th>\n",
       "    </tr>\n",
       "  </thead>\n",
       "  <tbody>\n",
       "    <tr>\n",
       "      <th>1</th>\n",
       "      <td>0</td>\n",
       "      <td>3</td>\n",
       "      <td>Braund, Mr. Owen Harris</td>\n",
       "      <td>male</td>\n",
       "      <td>22.0</td>\n",
       "      <td>1</td>\n",
       "      <td>0</td>\n",
       "      <td>A/5 21171</td>\n",
       "      <td>7.2500</td>\n",
       "      <td>NaN</td>\n",
       "      <td>S</td>\n",
       "    </tr>\n",
       "    <tr>\n",
       "      <th>2</th>\n",
       "      <td>1</td>\n",
       "      <td>1</td>\n",
       "      <td>Cumings, Mrs. John Bradley (Florence Briggs Th...</td>\n",
       "      <td>female</td>\n",
       "      <td>38.0</td>\n",
       "      <td>1</td>\n",
       "      <td>0</td>\n",
       "      <td>PC 17599</td>\n",
       "      <td>71.2833</td>\n",
       "      <td>C85</td>\n",
       "      <td>C</td>\n",
       "    </tr>\n",
       "    <tr>\n",
       "      <th>3</th>\n",
       "      <td>1</td>\n",
       "      <td>3</td>\n",
       "      <td>Heikkinen, Miss. Laina</td>\n",
       "      <td>female</td>\n",
       "      <td>26.0</td>\n",
       "      <td>0</td>\n",
       "      <td>0</td>\n",
       "      <td>STON/O2. 3101282</td>\n",
       "      <td>7.9250</td>\n",
       "      <td>NaN</td>\n",
       "      <td>S</td>\n",
       "    </tr>\n",
       "    <tr>\n",
       "      <th>4</th>\n",
       "      <td>1</td>\n",
       "      <td>1</td>\n",
       "      <td>Futrelle, Mrs. Jacques Heath (Lily May Peel)</td>\n",
       "      <td>female</td>\n",
       "      <td>35.0</td>\n",
       "      <td>1</td>\n",
       "      <td>0</td>\n",
       "      <td>113803</td>\n",
       "      <td>53.1000</td>\n",
       "      <td>C123</td>\n",
       "      <td>S</td>\n",
       "    </tr>\n",
       "    <tr>\n",
       "      <th>5</th>\n",
       "      <td>0</td>\n",
       "      <td>3</td>\n",
       "      <td>Allen, Mr. William Henry</td>\n",
       "      <td>male</td>\n",
       "      <td>35.0</td>\n",
       "      <td>0</td>\n",
       "      <td>0</td>\n",
       "      <td>373450</td>\n",
       "      <td>8.0500</td>\n",
       "      <td>NaN</td>\n",
       "      <td>S</td>\n",
       "    </tr>\n",
       "  </tbody>\n",
       "</table>\n",
       "</div>"
      ],
      "text/plain": [
       "             Survived  Pclass  \\\n",
       "PassengerId                     \n",
       "1                   0       3   \n",
       "2                   1       1   \n",
       "3                   1       3   \n",
       "4                   1       1   \n",
       "5                   0       3   \n",
       "\n",
       "                                                          Name     Sex   Age  \\\n",
       "PassengerId                                                                    \n",
       "1                                      Braund, Mr. Owen Harris    male  22.0   \n",
       "2            Cumings, Mrs. John Bradley (Florence Briggs Th...  female  38.0   \n",
       "3                                       Heikkinen, Miss. Laina  female  26.0   \n",
       "4                 Futrelle, Mrs. Jacques Heath (Lily May Peel)  female  35.0   \n",
       "5                                     Allen, Mr. William Henry    male  35.0   \n",
       "\n",
       "             SibSp  Parch            Ticket     Fare Cabin Embarked  \n",
       "PassengerId                                                          \n",
       "1                1      0         A/5 21171   7.2500   NaN        S  \n",
       "2                1      0          PC 17599  71.2833   C85        C  \n",
       "3                0      0  STON/O2. 3101282   7.9250   NaN        S  \n",
       "4                1      0            113803  53.1000  C123        S  \n",
       "5                0      0            373450   8.0500   NaN        S  "
      ]
     },
     "execution_count": 2,
     "metadata": {},
     "output_type": "execute_result"
    }
   ],
   "source": [
    "data_file = 'data/titanic.csv'\n",
    "titanic = pd.read_csv(data_file, index_col='PassengerId')\n",
    "titanic.head()"
   ]
  },
  {
   "cell_type": "code",
   "execution_count": 3,
   "metadata": {},
   "outputs": [
    {
     "name": "stdout",
     "output_type": "stream",
     "text": [
      "<class 'pandas.core.frame.DataFrame'>\n",
      "Index: 891 entries, 1 to 891\n",
      "Data columns (total 11 columns):\n",
      " #   Column    Non-Null Count  Dtype  \n",
      "---  ------    --------------  -----  \n",
      " 0   Survived  891 non-null    int64  \n",
      " 1   Pclass    891 non-null    int64  \n",
      " 2   Name      891 non-null    object \n",
      " 3   Sex       891 non-null    object \n",
      " 4   Age       714 non-null    float64\n",
      " 5   SibSp     891 non-null    int64  \n",
      " 6   Parch     891 non-null    int64  \n",
      " 7   Ticket    891 non-null    object \n",
      " 8   Fare      891 non-null    float64\n",
      " 9   Cabin     204 non-null    object \n",
      " 10  Embarked  889 non-null    object \n",
      "dtypes: float64(2), int64(4), object(5)\n",
      "memory usage: 83.5+ KB\n"
     ]
    }
   ],
   "source": [
    "titanic.info()"
   ]
  },
  {
   "cell_type": "markdown",
   "metadata": {},
   "source": [
    "### Embarked 변수 처리\n",
    "\n",
    "Embarked 변수를 더미변수로 처리합니다. pandas의 get_dummies함수를 이용합니다."
   ]
  },
  {
   "cell_type": "code",
   "execution_count": 4,
   "metadata": {
    "scrolled": true
   },
   "outputs": [
    {
     "data": {
      "text/plain": [
       "Embarked\n",
       "S    644\n",
       "C    168\n",
       "Q     77\n",
       "Name: count, dtype: int64"
      ]
     },
     "execution_count": 4,
     "metadata": {},
     "output_type": "execute_result"
    }
   ],
   "source": [
    "titanic['Embarked'].value_counts()"
   ]
  },
  {
   "cell_type": "code",
   "execution_count": 5,
   "metadata": {
    "scrolled": true
   },
   "outputs": [
    {
     "data": {
      "text/html": [
       "<div>\n",
       "<style scoped>\n",
       "    .dataframe tbody tr th:only-of-type {\n",
       "        vertical-align: middle;\n",
       "    }\n",
       "\n",
       "    .dataframe tbody tr th {\n",
       "        vertical-align: top;\n",
       "    }\n",
       "\n",
       "    .dataframe thead th {\n",
       "        text-align: right;\n",
       "    }\n",
       "</style>\n",
       "<table border=\"1\" class=\"dataframe\">\n",
       "  <thead>\n",
       "    <tr style=\"text-align: right;\">\n",
       "      <th></th>\n",
       "      <th>port_C</th>\n",
       "      <th>port_Q</th>\n",
       "      <th>port_S</th>\n",
       "    </tr>\n",
       "    <tr>\n",
       "      <th>PassengerId</th>\n",
       "      <th></th>\n",
       "      <th></th>\n",
       "      <th></th>\n",
       "    </tr>\n",
       "  </thead>\n",
       "  <tbody>\n",
       "    <tr>\n",
       "      <th>150</th>\n",
       "      <td>False</td>\n",
       "      <td>False</td>\n",
       "      <td>True</td>\n",
       "    </tr>\n",
       "    <tr>\n",
       "      <th>25</th>\n",
       "      <td>False</td>\n",
       "      <td>False</td>\n",
       "      <td>True</td>\n",
       "    </tr>\n",
       "    <tr>\n",
       "      <th>791</th>\n",
       "      <td>False</td>\n",
       "      <td>True</td>\n",
       "      <td>False</td>\n",
       "    </tr>\n",
       "    <tr>\n",
       "      <th>465</th>\n",
       "      <td>False</td>\n",
       "      <td>False</td>\n",
       "      <td>True</td>\n",
       "    </tr>\n",
       "    <tr>\n",
       "      <th>190</th>\n",
       "      <td>False</td>\n",
       "      <td>False</td>\n",
       "      <td>True</td>\n",
       "    </tr>\n",
       "    <tr>\n",
       "      <th>699</th>\n",
       "      <td>True</td>\n",
       "      <td>False</td>\n",
       "      <td>False</td>\n",
       "    </tr>\n",
       "    <tr>\n",
       "      <th>748</th>\n",
       "      <td>False</td>\n",
       "      <td>False</td>\n",
       "      <td>True</td>\n",
       "    </tr>\n",
       "    <tr>\n",
       "      <th>402</th>\n",
       "      <td>False</td>\n",
       "      <td>False</td>\n",
       "      <td>True</td>\n",
       "    </tr>\n",
       "    <tr>\n",
       "      <th>613</th>\n",
       "      <td>False</td>\n",
       "      <td>True</td>\n",
       "      <td>False</td>\n",
       "    </tr>\n",
       "    <tr>\n",
       "      <th>670</th>\n",
       "      <td>False</td>\n",
       "      <td>False</td>\n",
       "      <td>True</td>\n",
       "    </tr>\n",
       "  </tbody>\n",
       "</table>\n",
       "</div>"
      ],
      "text/plain": [
       "             port_C  port_Q  port_S\n",
       "PassengerId                        \n",
       "150           False   False    True\n",
       "25            False   False    True\n",
       "791           False    True   False\n",
       "465           False   False    True\n",
       "190           False   False    True\n",
       "699            True   False   False\n",
       "748           False   False    True\n",
       "402           False   False    True\n",
       "613           False    True   False\n",
       "670           False   False    True"
      ]
     },
     "execution_count": 5,
     "metadata": {},
     "output_type": "execute_result"
    }
   ],
   "source": [
    "embark_dum = pd.get_dummies(titanic['Embarked'], prefix='port')\n",
    "embark_dum.sample(n = 10)"
   ]
  },
  {
   "cell_type": "code",
   "execution_count": 6,
   "metadata": {},
   "outputs": [
    {
     "data": {
      "text/html": [
       "<div>\n",
       "<style scoped>\n",
       "    .dataframe tbody tr th:only-of-type {\n",
       "        vertical-align: middle;\n",
       "    }\n",
       "\n",
       "    .dataframe tbody tr th {\n",
       "        vertical-align: top;\n",
       "    }\n",
       "\n",
       "    .dataframe thead th {\n",
       "        text-align: right;\n",
       "    }\n",
       "</style>\n",
       "<table border=\"1\" class=\"dataframe\">\n",
       "  <thead>\n",
       "    <tr style=\"text-align: right;\">\n",
       "      <th></th>\n",
       "      <th>port_C</th>\n",
       "      <th>port_Q</th>\n",
       "    </tr>\n",
       "    <tr>\n",
       "      <th>PassengerId</th>\n",
       "      <th></th>\n",
       "      <th></th>\n",
       "    </tr>\n",
       "  </thead>\n",
       "  <tbody>\n",
       "    <tr>\n",
       "      <th>238</th>\n",
       "      <td>False</td>\n",
       "      <td>False</td>\n",
       "    </tr>\n",
       "    <tr>\n",
       "      <th>738</th>\n",
       "      <td>True</td>\n",
       "      <td>False</td>\n",
       "    </tr>\n",
       "    <tr>\n",
       "      <th>823</th>\n",
       "      <td>False</td>\n",
       "      <td>False</td>\n",
       "    </tr>\n",
       "    <tr>\n",
       "      <th>367</th>\n",
       "      <td>True</td>\n",
       "      <td>False</td>\n",
       "    </tr>\n",
       "    <tr>\n",
       "      <th>450</th>\n",
       "      <td>False</td>\n",
       "      <td>False</td>\n",
       "    </tr>\n",
       "    <tr>\n",
       "      <th>700</th>\n",
       "      <td>False</td>\n",
       "      <td>False</td>\n",
       "    </tr>\n",
       "    <tr>\n",
       "      <th>201</th>\n",
       "      <td>False</td>\n",
       "      <td>False</td>\n",
       "    </tr>\n",
       "    <tr>\n",
       "      <th>459</th>\n",
       "      <td>False</td>\n",
       "      <td>False</td>\n",
       "    </tr>\n",
       "    <tr>\n",
       "      <th>416</th>\n",
       "      <td>False</td>\n",
       "      <td>False</td>\n",
       "    </tr>\n",
       "    <tr>\n",
       "      <th>555</th>\n",
       "      <td>False</td>\n",
       "      <td>False</td>\n",
       "    </tr>\n",
       "  </tbody>\n",
       "</table>\n",
       "</div>"
      ],
      "text/plain": [
       "             port_C  port_Q\n",
       "PassengerId                \n",
       "238           False   False\n",
       "738            True   False\n",
       "823           False   False\n",
       "367            True   False\n",
       "450           False   False\n",
       "700           False   False\n",
       "201           False   False\n",
       "459           False   False\n",
       "416           False   False\n",
       "555           False   False"
      ]
     },
     "execution_count": 6,
     "metadata": {},
     "output_type": "execute_result"
    }
   ],
   "source": [
    "embark_dum.drop(embark_dum.columns[2], axis=1, inplace=True)\n",
    "embark_dum.sample(n = 10)"
   ]
  },
  {
   "cell_type": "code",
   "execution_count": 7,
   "metadata": {},
   "outputs": [],
   "source": [
    "titanic = pd.concat([titanic, embark_dum], axis=1)\n",
    "titanic.drop(['Embarked'], axis=1, inplace=True)"
   ]
  },
  {
   "cell_type": "markdown",
   "metadata": {},
   "source": [
    "### Age 변수 처리\n",
    "- 결측치 (missing value) 존재"
   ]
  },
  {
   "cell_type": "code",
   "execution_count": 8,
   "metadata": {},
   "outputs": [],
   "source": [
    "age_group = []\n",
    "for i in range (0, len(titanic)):\n",
    "    age = titanic.iloc[i]['Age']\n",
    "    age = 'child' if age < 20 else 'adult' if age >= 20 else 'unknown'\n",
    "    age_group.append(age)"
   ]
  },
  {
   "cell_type": "code",
   "execution_count": 9,
   "metadata": {},
   "outputs": [],
   "source": [
    "titanic['Age_modified'] = age_group"
   ]
  },
  {
   "cell_type": "code",
   "execution_count": 10,
   "metadata": {},
   "outputs": [
    {
     "data": {
      "text/html": [
       "<div>\n",
       "<style scoped>\n",
       "    .dataframe tbody tr th:only-of-type {\n",
       "        vertical-align: middle;\n",
       "    }\n",
       "\n",
       "    .dataframe tbody tr th {\n",
       "        vertical-align: top;\n",
       "    }\n",
       "\n",
       "    .dataframe thead th {\n",
       "        text-align: right;\n",
       "    }\n",
       "</style>\n",
       "<table border=\"1\" class=\"dataframe\">\n",
       "  <thead>\n",
       "    <tr style=\"text-align: right;\">\n",
       "      <th></th>\n",
       "      <th>Age_adult</th>\n",
       "      <th>Age_child</th>\n",
       "    </tr>\n",
       "    <tr>\n",
       "      <th>PassengerId</th>\n",
       "      <th></th>\n",
       "      <th></th>\n",
       "    </tr>\n",
       "  </thead>\n",
       "  <tbody>\n",
       "    <tr>\n",
       "      <th>462</th>\n",
       "      <td>True</td>\n",
       "      <td>False</td>\n",
       "    </tr>\n",
       "    <tr>\n",
       "      <th>443</th>\n",
       "      <td>True</td>\n",
       "      <td>False</td>\n",
       "    </tr>\n",
       "    <tr>\n",
       "      <th>91</th>\n",
       "      <td>True</td>\n",
       "      <td>False</td>\n",
       "    </tr>\n",
       "    <tr>\n",
       "      <th>24</th>\n",
       "      <td>True</td>\n",
       "      <td>False</td>\n",
       "    </tr>\n",
       "    <tr>\n",
       "      <th>157</th>\n",
       "      <td>False</td>\n",
       "      <td>True</td>\n",
       "    </tr>\n",
       "    <tr>\n",
       "      <th>342</th>\n",
       "      <td>True</td>\n",
       "      <td>False</td>\n",
       "    </tr>\n",
       "    <tr>\n",
       "      <th>682</th>\n",
       "      <td>True</td>\n",
       "      <td>False</td>\n",
       "    </tr>\n",
       "    <tr>\n",
       "      <th>598</th>\n",
       "      <td>True</td>\n",
       "      <td>False</td>\n",
       "    </tr>\n",
       "    <tr>\n",
       "      <th>784</th>\n",
       "      <td>False</td>\n",
       "      <td>False</td>\n",
       "    </tr>\n",
       "    <tr>\n",
       "      <th>112</th>\n",
       "      <td>False</td>\n",
       "      <td>True</td>\n",
       "    </tr>\n",
       "  </tbody>\n",
       "</table>\n",
       "</div>"
      ],
      "text/plain": [
       "             Age_adult  Age_child\n",
       "PassengerId                      \n",
       "462               True      False\n",
       "443               True      False\n",
       "91                True      False\n",
       "24                True      False\n",
       "157              False       True\n",
       "342               True      False\n",
       "682               True      False\n",
       "598               True      False\n",
       "784              False      False\n",
       "112              False       True"
      ]
     },
     "execution_count": 10,
     "metadata": {},
     "output_type": "execute_result"
    }
   ],
   "source": [
    "age_dum = pd.get_dummies(titanic['Age_modified'], prefix = 'Age')\n",
    "age_dum.drop(age_dum.columns[2], axis=1, inplace=True)\n",
    "age_dum.sample(n = 10)"
   ]
  },
  {
   "cell_type": "code",
   "execution_count": 11,
   "metadata": {},
   "outputs": [],
   "source": [
    "titanic = pd.concat([titanic, age_dum], axis=1)\n",
    "titanic.drop(['Age', 'Age_modified'], axis=1, inplace=True)"
   ]
  },
  {
   "cell_type": "markdown",
   "metadata": {},
   "source": [
    "### Sex 처리"
   ]
  },
  {
   "cell_type": "code",
   "execution_count": 12,
   "metadata": {},
   "outputs": [],
   "source": [
    "titanic['Sex'] = titanic['Sex'].map({'female':1, 'male':0})"
   ]
  },
  {
   "cell_type": "code",
   "execution_count": 13,
   "metadata": {},
   "outputs": [
    {
     "data": {
      "text/html": [
       "<div>\n",
       "<style scoped>\n",
       "    .dataframe tbody tr th:only-of-type {\n",
       "        vertical-align: middle;\n",
       "    }\n",
       "\n",
       "    .dataframe tbody tr th {\n",
       "        vertical-align: top;\n",
       "    }\n",
       "\n",
       "    .dataframe thead th {\n",
       "        text-align: right;\n",
       "    }\n",
       "</style>\n",
       "<table border=\"1\" class=\"dataframe\">\n",
       "  <thead>\n",
       "    <tr style=\"text-align: right;\">\n",
       "      <th></th>\n",
       "      <th>Survived</th>\n",
       "      <th>Pclass</th>\n",
       "      <th>Name</th>\n",
       "      <th>Sex</th>\n",
       "      <th>SibSp</th>\n",
       "      <th>Parch</th>\n",
       "      <th>Ticket</th>\n",
       "      <th>Fare</th>\n",
       "      <th>Cabin</th>\n",
       "      <th>port_C</th>\n",
       "      <th>port_Q</th>\n",
       "      <th>Age_adult</th>\n",
       "      <th>Age_child</th>\n",
       "    </tr>\n",
       "    <tr>\n",
       "      <th>PassengerId</th>\n",
       "      <th></th>\n",
       "      <th></th>\n",
       "      <th></th>\n",
       "      <th></th>\n",
       "      <th></th>\n",
       "      <th></th>\n",
       "      <th></th>\n",
       "      <th></th>\n",
       "      <th></th>\n",
       "      <th></th>\n",
       "      <th></th>\n",
       "      <th></th>\n",
       "      <th></th>\n",
       "    </tr>\n",
       "  </thead>\n",
       "  <tbody>\n",
       "    <tr>\n",
       "      <th>1</th>\n",
       "      <td>0</td>\n",
       "      <td>3</td>\n",
       "      <td>Braund, Mr. Owen Harris</td>\n",
       "      <td>0</td>\n",
       "      <td>1</td>\n",
       "      <td>0</td>\n",
       "      <td>A/5 21171</td>\n",
       "      <td>7.2500</td>\n",
       "      <td>NaN</td>\n",
       "      <td>False</td>\n",
       "      <td>False</td>\n",
       "      <td>True</td>\n",
       "      <td>False</td>\n",
       "    </tr>\n",
       "    <tr>\n",
       "      <th>2</th>\n",
       "      <td>1</td>\n",
       "      <td>1</td>\n",
       "      <td>Cumings, Mrs. John Bradley (Florence Briggs Th...</td>\n",
       "      <td>1</td>\n",
       "      <td>1</td>\n",
       "      <td>0</td>\n",
       "      <td>PC 17599</td>\n",
       "      <td>71.2833</td>\n",
       "      <td>C85</td>\n",
       "      <td>True</td>\n",
       "      <td>False</td>\n",
       "      <td>True</td>\n",
       "      <td>False</td>\n",
       "    </tr>\n",
       "    <tr>\n",
       "      <th>3</th>\n",
       "      <td>1</td>\n",
       "      <td>3</td>\n",
       "      <td>Heikkinen, Miss. Laina</td>\n",
       "      <td>1</td>\n",
       "      <td>0</td>\n",
       "      <td>0</td>\n",
       "      <td>STON/O2. 3101282</td>\n",
       "      <td>7.9250</td>\n",
       "      <td>NaN</td>\n",
       "      <td>False</td>\n",
       "      <td>False</td>\n",
       "      <td>True</td>\n",
       "      <td>False</td>\n",
       "    </tr>\n",
       "    <tr>\n",
       "      <th>4</th>\n",
       "      <td>1</td>\n",
       "      <td>1</td>\n",
       "      <td>Futrelle, Mrs. Jacques Heath (Lily May Peel)</td>\n",
       "      <td>1</td>\n",
       "      <td>1</td>\n",
       "      <td>0</td>\n",
       "      <td>113803</td>\n",
       "      <td>53.1000</td>\n",
       "      <td>C123</td>\n",
       "      <td>False</td>\n",
       "      <td>False</td>\n",
       "      <td>True</td>\n",
       "      <td>False</td>\n",
       "    </tr>\n",
       "    <tr>\n",
       "      <th>5</th>\n",
       "      <td>0</td>\n",
       "      <td>3</td>\n",
       "      <td>Allen, Mr. William Henry</td>\n",
       "      <td>0</td>\n",
       "      <td>0</td>\n",
       "      <td>0</td>\n",
       "      <td>373450</td>\n",
       "      <td>8.0500</td>\n",
       "      <td>NaN</td>\n",
       "      <td>False</td>\n",
       "      <td>False</td>\n",
       "      <td>True</td>\n",
       "      <td>False</td>\n",
       "    </tr>\n",
       "    <tr>\n",
       "      <th>6</th>\n",
       "      <td>0</td>\n",
       "      <td>3</td>\n",
       "      <td>Moran, Mr. James</td>\n",
       "      <td>0</td>\n",
       "      <td>0</td>\n",
       "      <td>0</td>\n",
       "      <td>330877</td>\n",
       "      <td>8.4583</td>\n",
       "      <td>NaN</td>\n",
       "      <td>False</td>\n",
       "      <td>True</td>\n",
       "      <td>False</td>\n",
       "      <td>False</td>\n",
       "    </tr>\n",
       "    <tr>\n",
       "      <th>7</th>\n",
       "      <td>0</td>\n",
       "      <td>1</td>\n",
       "      <td>McCarthy, Mr. Timothy J</td>\n",
       "      <td>0</td>\n",
       "      <td>0</td>\n",
       "      <td>0</td>\n",
       "      <td>17463</td>\n",
       "      <td>51.8625</td>\n",
       "      <td>E46</td>\n",
       "      <td>False</td>\n",
       "      <td>False</td>\n",
       "      <td>True</td>\n",
       "      <td>False</td>\n",
       "    </tr>\n",
       "    <tr>\n",
       "      <th>8</th>\n",
       "      <td>0</td>\n",
       "      <td>3</td>\n",
       "      <td>Palsson, Master. Gosta Leonard</td>\n",
       "      <td>0</td>\n",
       "      <td>3</td>\n",
       "      <td>1</td>\n",
       "      <td>349909</td>\n",
       "      <td>21.0750</td>\n",
       "      <td>NaN</td>\n",
       "      <td>False</td>\n",
       "      <td>False</td>\n",
       "      <td>False</td>\n",
       "      <td>True</td>\n",
       "    </tr>\n",
       "    <tr>\n",
       "      <th>9</th>\n",
       "      <td>1</td>\n",
       "      <td>3</td>\n",
       "      <td>Johnson, Mrs. Oscar W (Elisabeth Vilhelmina Berg)</td>\n",
       "      <td>1</td>\n",
       "      <td>0</td>\n",
       "      <td>2</td>\n",
       "      <td>347742</td>\n",
       "      <td>11.1333</td>\n",
       "      <td>NaN</td>\n",
       "      <td>False</td>\n",
       "      <td>False</td>\n",
       "      <td>True</td>\n",
       "      <td>False</td>\n",
       "    </tr>\n",
       "    <tr>\n",
       "      <th>10</th>\n",
       "      <td>1</td>\n",
       "      <td>2</td>\n",
       "      <td>Nasser, Mrs. Nicholas (Adele Achem)</td>\n",
       "      <td>1</td>\n",
       "      <td>1</td>\n",
       "      <td>0</td>\n",
       "      <td>237736</td>\n",
       "      <td>30.0708</td>\n",
       "      <td>NaN</td>\n",
       "      <td>True</td>\n",
       "      <td>False</td>\n",
       "      <td>False</td>\n",
       "      <td>True</td>\n",
       "    </tr>\n",
       "  </tbody>\n",
       "</table>\n",
       "</div>"
      ],
      "text/plain": [
       "             Survived  Pclass  \\\n",
       "PassengerId                     \n",
       "1                   0       3   \n",
       "2                   1       1   \n",
       "3                   1       3   \n",
       "4                   1       1   \n",
       "5                   0       3   \n",
       "6                   0       3   \n",
       "7                   0       1   \n",
       "8                   0       3   \n",
       "9                   1       3   \n",
       "10                  1       2   \n",
       "\n",
       "                                                          Name  Sex  SibSp  \\\n",
       "PassengerId                                                                  \n",
       "1                                      Braund, Mr. Owen Harris    0      1   \n",
       "2            Cumings, Mrs. John Bradley (Florence Briggs Th...    1      1   \n",
       "3                                       Heikkinen, Miss. Laina    1      0   \n",
       "4                 Futrelle, Mrs. Jacques Heath (Lily May Peel)    1      1   \n",
       "5                                     Allen, Mr. William Henry    0      0   \n",
       "6                                             Moran, Mr. James    0      0   \n",
       "7                                      McCarthy, Mr. Timothy J    0      0   \n",
       "8                               Palsson, Master. Gosta Leonard    0      3   \n",
       "9            Johnson, Mrs. Oscar W (Elisabeth Vilhelmina Berg)    1      0   \n",
       "10                         Nasser, Mrs. Nicholas (Adele Achem)    1      1   \n",
       "\n",
       "             Parch            Ticket     Fare Cabin  port_C  port_Q  \\\n",
       "PassengerId                                                           \n",
       "1                0         A/5 21171   7.2500   NaN   False   False   \n",
       "2                0          PC 17599  71.2833   C85    True   False   \n",
       "3                0  STON/O2. 3101282   7.9250   NaN   False   False   \n",
       "4                0            113803  53.1000  C123   False   False   \n",
       "5                0            373450   8.0500   NaN   False   False   \n",
       "6                0            330877   8.4583   NaN   False    True   \n",
       "7                0             17463  51.8625   E46   False   False   \n",
       "8                1            349909  21.0750   NaN   False   False   \n",
       "9                2            347742  11.1333   NaN   False   False   \n",
       "10               0            237736  30.0708   NaN    True   False   \n",
       "\n",
       "             Age_adult  Age_child  \n",
       "PassengerId                        \n",
       "1                 True      False  \n",
       "2                 True      False  \n",
       "3                 True      False  \n",
       "4                 True      False  \n",
       "5                 True      False  \n",
       "6                False      False  \n",
       "7                 True      False  \n",
       "8                False       True  \n",
       "9                 True      False  \n",
       "10               False       True  "
      ]
     },
     "execution_count": 13,
     "metadata": {},
     "output_type": "execute_result"
    }
   ],
   "source": [
    "titanic.head(10)"
   ]
  },
  {
   "cell_type": "markdown",
   "metadata": {},
   "source": [
    "우선 통계학적인 방법으로 계산해봅니다.\n"
   ]
  },
  {
   "cell_type": "code",
   "execution_count": 14,
   "metadata": {},
   "outputs": [
    {
     "name": "stdout",
     "output_type": "stream",
     "text": [
      "Optimization terminated successfully.\n",
      "         Current function value: 0.447577\n",
      "         Iterations 6\n",
      "                           Logit Regression Results                           \n",
      "==============================================================================\n",
      "Dep. Variable:               Survived   No. Observations:                  891\n",
      "Model:                          Logit   Df Residuals:                      881\n",
      "Method:                           MLE   Df Model:                            9\n",
      "Date:                Fri, 29 Mar 2024   Pseudo R-squ.:                  0.3279\n",
      "Time:                        20:50:03   Log-Likelihood:                -398.79\n",
      "converged:                       True   LL-Null:                       -593.33\n",
      "Covariance Type:            nonrobust   LLR p-value:                 2.934e-78\n",
      "=====================================================================================\n",
      "                        coef    std err          z      P>|z|      [0.025      0.975]\n",
      "-------------------------------------------------------------------------------------\n",
      "Intercept             0.2587      0.409      0.632      0.527      -0.543       1.060\n",
      "port_C[T.True]        0.4555      0.237      1.920      0.055      -0.010       0.920\n",
      "port_Q[T.True]        0.4156      0.350      1.189      0.235      -0.270       1.101\n",
      "Age_adult[T.True]     0.1054      0.256      0.411      0.681      -0.397       0.608\n",
      "Age_child[T.True]     1.0109      0.315      3.206      0.001       0.393       1.629\n",
      "Pclass               -0.9116      0.135     -6.754      0.000      -1.176      -0.647\n",
      "Sex                   2.7345      0.200     13.684      0.000       2.343       3.126\n",
      "SibSp                -0.3095      0.110     -2.819      0.005      -0.525      -0.094\n",
      "Parch                -0.1305      0.117     -1.115      0.265      -0.360       0.099\n",
      "Fare                  0.0025      0.002      1.067      0.286      -0.002       0.007\n",
      "=====================================================================================\n"
     ]
    }
   ],
   "source": [
    "import statsmodels.api as sm\n",
    "import statsmodels.formula.api as smf\n",
    "formula = 'Survived ~ Pclass+Sex+SibSp+Parch+Fare+port_C+port_Q+Age_adult+Age_child'\n",
    "# Fit the logistic regression model\n",
    "model = smf.logit(formula, data=titanic).fit()\n",
    "\n",
    "# Print the summary of the model\n",
    "print(model.summary())"
   ]
  },
  {
   "cell_type": "markdown",
   "metadata": {},
   "source": [
    "Odd ratio를 계산해봅니다."
   ]
  },
  {
   "cell_type": "code",
   "execution_count": 15,
   "metadata": {},
   "outputs": [
    {
     "name": "stdout",
     "output_type": "stream",
     "text": [
      "Odds Ratios:\n",
      "Intercept             1.295181\n",
      "port_C[T.True]        1.576883\n",
      "port_Q[T.True]        1.515300\n",
      "Age_adult[T.True]     1.111197\n",
      "Age_child[T.True]     2.747993\n",
      "Pclass                0.401883\n",
      "Sex                  15.402575\n",
      "SibSp                 0.733820\n",
      "Parch                 0.877658\n",
      "Fare                  1.002528\n",
      "dtype: float64\n"
     ]
    }
   ],
   "source": [
    "# Calculate odds ratios\n",
    "odds_ratios = np.exp(model.params)\n",
    "\n",
    "# Print odds ratios\n",
    "print(\"Odds Ratios:\")\n",
    "print(odds_ratios)"
   ]
  },
  {
   "cell_type": "markdown",
   "metadata": {},
   "source": [
    "# Model 학습\n",
    "\n",
    "sklearn에 있는 LogisticRegression 을 불러와서 모형을 생성합니다.\\\n",
    "metrics는 여러 평가지표를 의미합니다."
   ]
  },
  {
   "cell_type": "code",
   "execution_count": 16,
   "metadata": {},
   "outputs": [],
   "source": [
    "from sklearn.model_selection import train_test_split\n",
    "from sklearn.linear_model import LogisticRegression\n",
    "from sklearn import metrics"
   ]
  },
  {
   "cell_type": "code",
   "execution_count": 17,
   "metadata": {},
   "outputs": [],
   "source": [
    "feature_cols = ['Pclass', 'Sex', 'SibSp', 'Parch', 'Fare', 'port_C', 'port_Q', 'Age_adult', 'Age_child']\n",
    "X = titanic[feature_cols]\n",
    "y = titanic.Survived\n",
    "\n",
    "X_train, X_test, y_train, y_test = train_test_split(X, y, random_state=123)"
   ]
  },
  {
   "cell_type": "code",
   "execution_count": 18,
   "metadata": {},
   "outputs": [
    {
     "name": "stdout",
     "output_type": "stream",
     "text": [
      "[('Pclass', -0.881978313673601), ('Sex', 2.698304715290479), ('SibSp', -0.3440738281855561), ('Parch', -0.07279222585779303), ('Fare', 0.0026151874855649105), ('port_C', 0.29929431676520063), ('port_Q', 0.48996968445746003), ('Age_adult', 0.2187284817631719), ('Age_child', 1.075872130766917)]\n"
     ]
    },
    {
     "name": "stderr",
     "output_type": "stream",
     "text": [
      "/Users/saintphs/Desktop/Dev/aSSIST_DM1/venv/lib/python3.11/site-packages/sklearn/linear_model/_logistic.py:469: ConvergenceWarning: lbfgs failed to converge (status=1):\n",
      "STOP: TOTAL NO. of ITERATIONS REACHED LIMIT.\n",
      "\n",
      "Increase the number of iterations (max_iter) or scale the data as shown in:\n",
      "    https://scikit-learn.org/stable/modules/preprocessing.html\n",
      "Please also refer to the documentation for alternative solver options:\n",
      "    https://scikit-learn.org/stable/modules/linear_model.html#logistic-regression\n",
      "  n_iter_i = _check_optimize_result(\n"
     ]
    }
   ],
   "source": [
    "logreg = LogisticRegression(C=1000)\n",
    "logreg.fit(X_train, y_train)\n",
    "print(list(zip(feature_cols, logreg.coef_[0])))"
   ]
  },
  {
   "cell_type": "code",
   "execution_count": 19,
   "metadata": {},
   "outputs": [
    {
     "name": "stdout",
     "output_type": "stream",
     "text": [
      "[[-8.81978314e-01  2.69830472e+00 -3.44073828e-01 -7.27922259e-02\n",
      "   2.61518749e-03  2.99294317e-01  4.89969684e-01  2.18728482e-01\n",
      "   1.07587213e+00]]\n",
      "[-8.81978314e-01  2.69830472e+00 -3.44073828e-01 -7.27922259e-02\n",
      "  2.61518749e-03  2.99294317e-01  4.89969684e-01  2.18728482e-01\n",
      "  1.07587213e+00]\n"
     ]
    }
   ],
   "source": [
    "print(logreg.coef_)\n",
    "print(logreg.coef_[0])"
   ]
  },
  {
   "cell_type": "code",
   "execution_count": 20,
   "metadata": {},
   "outputs": [],
   "source": [
    "# class predictions (not predicted probabilities)\n",
    "y_pred_class = logreg.predict(X_test)"
   ]
  },
  {
   "cell_type": "code",
   "execution_count": 21,
   "metadata": {
    "scrolled": true
   },
   "outputs": [
    {
     "data": {
      "text/plain": [
       "array([1, 0, 0, 0, 0, 0, 1, 1, 1, 1, 1, 1, 1, 0, 1, 1, 1, 0, 0, 0, 0, 1,\n",
       "       0, 0, 0, 0, 0, 1, 0, 0, 1, 1, 0, 0, 0, 0, 0, 0, 1, 0, 1, 0, 1, 1,\n",
       "       0, 0, 1, 0, 0, 1, 1, 0, 0, 0, 0, 0, 0, 0, 0, 0, 1, 1, 1, 1, 0, 0,\n",
       "       0, 0, 0, 1, 1, 0, 0, 0, 0, 0, 0, 0, 1, 1, 1, 0, 0, 0, 0, 0, 1, 0,\n",
       "       0, 0, 1, 0, 0, 0, 0, 0, 1, 1, 0, 1, 0, 0, 0, 1, 0, 0, 0, 0, 0, 1,\n",
       "       0, 0, 1, 0, 0, 0, 0, 0, 0, 1, 0, 0, 0, 0, 0, 0, 0, 0, 1, 0, 1, 0,\n",
       "       0, 1, 1, 0, 1, 1, 0, 1, 0, 0, 0, 0, 1, 0, 0, 0, 0, 1, 0, 0, 1, 0,\n",
       "       1, 0, 1, 1, 1, 1, 1, 0, 0, 1, 0, 1, 1, 0, 1, 0, 0, 0, 0, 0, 0, 0,\n",
       "       0, 0, 0, 1, 0, 0, 0, 0, 0, 1, 0, 1, 0, 1, 0, 0, 1, 0, 1, 0, 0, 1,\n",
       "       1, 0, 1, 1, 0, 0, 0, 0, 0, 1, 0, 0, 0, 1, 1, 0, 0, 0, 0, 0, 0, 0,\n",
       "       0, 0, 0])"
      ]
     },
     "execution_count": 21,
     "metadata": {},
     "output_type": "execute_result"
    }
   ],
   "source": [
    "y_pred_class"
   ]
  },
  {
   "cell_type": "code",
   "execution_count": 22,
   "metadata": {},
   "outputs": [],
   "source": [
    "y_pred_prob = logreg.predict_proba(X_test)"
   ]
  },
  {
   "cell_type": "code",
   "execution_count": 23,
   "metadata": {},
   "outputs": [
    {
     "data": {
      "text/plain": [
       "array([[0.28842739, 0.71157261],\n",
       "       [0.89707993, 0.10292007],\n",
       "       [0.53216589, 0.46783411],\n",
       "       [0.6018306 , 0.3981694 ],\n",
       "       [0.90650113, 0.09349887],\n",
       "       [0.78829702, 0.21170298],\n",
       "       [0.20475952, 0.79524048],\n",
       "       [0.26377016, 0.73622984],\n",
       "       [0.17435276, 0.82564724],\n",
       "       [0.45076333, 0.54923667],\n",
       "       [0.36657245, 0.63342755],\n",
       "       [0.38834131, 0.61165869],\n",
       "       [0.11657707, 0.88342293],\n",
       "       [0.90409806, 0.09590194],\n",
       "       [0.07096363, 0.92903637],\n",
       "       [0.29328078, 0.70671922],\n",
       "       [0.05314756, 0.94685244],\n",
       "       [0.64306138, 0.35693862],\n",
       "       [0.53211527, 0.46788473],\n",
       "       [0.84182105, 0.15817895],\n",
       "       [0.55315335, 0.44684665],\n",
       "       [0.10950307, 0.89049693],\n",
       "       [0.79391507, 0.20608493],\n",
       "       [0.90808475, 0.09191525],\n",
       "       [0.94007228, 0.05992772],\n",
       "       [0.92838802, 0.07161198],\n",
       "       [0.90413302, 0.09586698],\n",
       "       [0.03575154, 0.96424846],\n",
       "       [0.80009228, 0.19990772],\n",
       "       [0.87794958, 0.12205042],\n",
       "       [0.4536479 , 0.5463521 ],\n",
       "       [0.26879489, 0.73120511],\n",
       "       [0.79391507, 0.20608493],\n",
       "       [0.89253656, 0.10746344],\n",
       "       [0.69979037, 0.30020963],\n",
       "       [0.74251719, 0.25748281],\n",
       "       [0.90418872, 0.09581128],\n",
       "       [0.90416606, 0.09583394],\n",
       "       [0.20593306, 0.79406694],\n",
       "       [0.53004927, 0.46995073],\n",
       "       [0.05320625, 0.94679375],\n",
       "       [0.94351038, 0.05648962],\n",
       "       [0.44820317, 0.55179683],\n",
       "       [0.38729096, 0.61270904],\n",
       "       [0.7995392 , 0.2004608 ],\n",
       "       [0.79391507, 0.20608493],\n",
       "       [0.1192331 , 0.8807669 ],\n",
       "       [0.67013403, 0.32986597],\n",
       "       [0.90432457, 0.09567543],\n",
       "       [0.26123872, 0.73876128],\n",
       "       [0.36979127, 0.63020873],\n",
       "       [0.53725714, 0.46274286],\n",
       "       [0.90427931, 0.09572069],\n",
       "       [0.90409806, 0.09590194],\n",
       "       [0.79391507, 0.20608493],\n",
       "       [0.89708095, 0.10291905],\n",
       "       [0.94007228, 0.05992772],\n",
       "       [0.80013411, 0.19986589],\n",
       "       [0.66163964, 0.33836036],\n",
       "       [0.95894108, 0.04105892],\n",
       "       [0.12000423, 0.87999577],\n",
       "       [0.02646831, 0.97353169],\n",
       "       [0.45497217, 0.54502783],\n",
       "       [0.07121698, 0.92878302],\n",
       "       [0.90432457, 0.09567543],\n",
       "       [0.93363224, 0.06636776],\n",
       "       [0.79391507, 0.20608493],\n",
       "       [0.79391507, 0.20608493],\n",
       "       [0.65438376, 0.34561624],\n",
       "       [0.16532104, 0.83467896],\n",
       "       [0.08678962, 0.91321038],\n",
       "       [0.90409806, 0.09590194],\n",
       "       [0.65497498, 0.34502502],\n",
       "       [0.52800016, 0.47199984],\n",
       "       [0.9041604 , 0.0958396 ],\n",
       "       [0.90413302, 0.09586698],\n",
       "       [0.94862762, 0.05137238],\n",
       "       [0.90427931, 0.09572069],\n",
       "       [0.10442643, 0.89557357],\n",
       "       [0.08970283, 0.91029717],\n",
       "       [0.4671296 , 0.5328704 ],\n",
       "       [0.90225714, 0.09774286],\n",
       "       [0.94517977, 0.05482023],\n",
       "       [0.89707993, 0.10292007],\n",
       "       [0.90413302, 0.09586698],\n",
       "       [0.79422511, 0.20577489],\n",
       "       [0.18457375, 0.81542625],\n",
       "       [0.87465017, 0.12534983],\n",
       "       [0.65171735, 0.34828265],\n",
       "       [0.90432457, 0.09567543],\n",
       "       [0.21139746, 0.78860254],\n",
       "       [0.78003437, 0.21996563],\n",
       "       [0.79348686, 0.20651314],\n",
       "       [0.94517977, 0.05482023],\n",
       "       [0.54897598, 0.45102402],\n",
       "       [0.80019508, 0.19980492],\n",
       "       [0.06213094, 0.93786906],\n",
       "       [0.07227185, 0.92772815],\n",
       "       [0.90396097, 0.09603903],\n",
       "       [0.34857943, 0.65142057],\n",
       "       [0.94007228, 0.05992772],\n",
       "       [0.51268778, 0.48731222],\n",
       "       [0.60617785, 0.39382215],\n",
       "       [0.16673117, 0.83326883],\n",
       "       [0.87794958, 0.12205042],\n",
       "       [0.67013403, 0.32986597],\n",
       "       [0.9041349 , 0.0958651 ],\n",
       "       [0.87506055, 0.12493945],\n",
       "       [0.90409806, 0.09590194],\n",
       "       [0.20593306, 0.79406694],\n",
       "       [0.64457706, 0.35542294],\n",
       "       [0.66723714, 0.33276286],\n",
       "       [0.07704646, 0.92295354],\n",
       "       [0.90402718, 0.09597282],\n",
       "       [0.9041604 , 0.0958396 ],\n",
       "       [0.84007208, 0.15992792],\n",
       "       [0.60617785, 0.39382215],\n",
       "       [0.84007208, 0.15992792],\n",
       "       [0.80015326, 0.19984674],\n",
       "       [0.46226463, 0.53773537],\n",
       "       [0.80009228, 0.19990772],\n",
       "       [0.90409806, 0.09590194],\n",
       "       [0.60634172, 0.39365828],\n",
       "       [0.87775096, 0.12224904],\n",
       "       [0.78829702, 0.21170298],\n",
       "       [0.84510125, 0.15489875],\n",
       "       [0.55589886, 0.44410114],\n",
       "       [0.64761037, 0.35238963],\n",
       "       [0.32626717, 0.67373283],\n",
       "       [0.90414245, 0.09585755],\n",
       "       [0.07071708, 0.92928292],\n",
       "       [0.90409806, 0.09590194],\n",
       "       [0.90418872, 0.09581128],\n",
       "       [0.41621845, 0.58378155],\n",
       "       [0.09402873, 0.90597127],\n",
       "       [0.80014281, 0.19985719],\n",
       "       [0.04430197, 0.95569803],\n",
       "       [0.48002774, 0.51997226],\n",
       "       [0.92145919, 0.07854081],\n",
       "       [0.21520642, 0.78479358],\n",
       "       [0.85251024, 0.14748976],\n",
       "       [0.53037498, 0.46962502],\n",
       "       [0.81849532, 0.18150468],\n",
       "       [0.70958579, 0.29041421],\n",
       "       [0.29328078, 0.70671922],\n",
       "       [0.90376877, 0.09623123],\n",
       "       [0.94739519, 0.05260481],\n",
       "       [0.89253656, 0.10746344],\n",
       "       [0.90395909, 0.09604091],\n",
       "       [0.0642766 , 0.9357234 ],\n",
       "       [0.597872  , 0.402128  ],\n",
       "       [0.95894108, 0.04105892],\n",
       "       [0.38832317, 0.61167683],\n",
       "       [0.80014281, 0.19985719],\n",
       "       [0.11632564, 0.88367436],\n",
       "       [0.89707993, 0.10292007],\n",
       "       [0.09389052, 0.90610948],\n",
       "       [0.21025169, 0.78974831],\n",
       "       [0.20593306, 0.79406694],\n",
       "       [0.09402873, 0.90597127],\n",
       "       [0.20593306, 0.79406694],\n",
       "       [0.62262552, 0.37737448],\n",
       "       [0.5988069 , 0.4011931 ],\n",
       "       [0.10868241, 0.89131759],\n",
       "       [0.67248275, 0.32751725],\n",
       "       [0.09375365, 0.90624635],\n",
       "       [0.30718391, 0.69281609],\n",
       "       [0.90414245, 0.09585755],\n",
       "       [0.32625998, 0.67374002],\n",
       "       [0.89576451, 0.10423549],\n",
       "       [0.90413302, 0.09586698],\n",
       "       [0.65201409, 0.34798591],\n",
       "       [0.69497903, 0.30502097],\n",
       "       [0.79724709, 0.20275291],\n",
       "       [0.87795541, 0.12204459],\n",
       "       [0.90409806, 0.09590194],\n",
       "       [0.56833449, 0.43166551],\n",
       "       [0.89708095, 0.10291905],\n",
       "       [0.79391507, 0.20608493],\n",
       "       [0.03128385, 0.96871615],\n",
       "       [0.85251024, 0.14748976],\n",
       "       [0.87506175, 0.12493825],\n",
       "       [0.85251573, 0.14748427],\n",
       "       [0.52710124, 0.47289876],\n",
       "       [0.79391507, 0.20608493],\n",
       "       [0.10996132, 0.89003868],\n",
       "       [0.62200859, 0.37799141],\n",
       "       [0.0800169 , 0.9199831 ],\n",
       "       [0.90401111, 0.09598889],\n",
       "       [0.14173203, 0.85826797],\n",
       "       [0.62200859, 0.37799141],\n",
       "       [0.92161047, 0.07838953],\n",
       "       [0.27344599, 0.72655401],\n",
       "       [0.84007208, 0.15992792],\n",
       "       [0.28011763, 0.71988237],\n",
       "       [0.59179195, 0.40820805],\n",
       "       [0.93011158, 0.06988842],\n",
       "       [0.48257398, 0.51742602],\n",
       "       [0.07561742, 0.92438258],\n",
       "       [0.92151122, 0.07848878],\n",
       "       [0.04373078, 0.95626922],\n",
       "       [0.32625998, 0.67374002],\n",
       "       [0.66981357, 0.33018643],\n",
       "       [0.60617785, 0.39382215],\n",
       "       [0.62262552, 0.37737448],\n",
       "       [0.80009228, 0.19990772],\n",
       "       [0.87794958, 0.12205042],\n",
       "       [0.21234936, 0.78765064],\n",
       "       [0.53480401, 0.46519599],\n",
       "       [0.90395909, 0.09604091],\n",
       "       [0.90377257, 0.09622743],\n",
       "       [0.13048426, 0.86951574],\n",
       "       [0.44006806, 0.55993194],\n",
       "       [0.90432457, 0.09567543],\n",
       "       [0.90409806, 0.09590194],\n",
       "       [0.89707993, 0.10292007],\n",
       "       [0.79391507, 0.20608493],\n",
       "       [0.90672945, 0.09327055],\n",
       "       [0.92831526, 0.07168474],\n",
       "       [0.87506175, 0.12493825],\n",
       "       [0.92148837, 0.07851163],\n",
       "       [0.60136507, 0.39863493],\n",
       "       [0.87506055, 0.12493945]])"
      ]
     },
     "execution_count": 23,
     "metadata": {},
     "output_type": "execute_result"
    }
   ],
   "source": [
    "y_pred_prob"
   ]
  },
  {
   "cell_type": "code",
   "execution_count": 24,
   "metadata": {
    "scrolled": true
   },
   "outputs": [
    {
     "name": "stdout",
     "output_type": "stream",
     "text": [
      "0.8161434977578476\n"
     ]
    }
   ],
   "source": [
    "# calculate classification accuracy\n",
    "print(metrics.accuracy_score(y_test, y_pred_class))"
   ]
  },
  {
   "cell_type": "markdown",
   "metadata": {},
   "source": [
    "# 5. How to evaluate the classification model"
   ]
  },
  {
   "cell_type": "markdown",
   "metadata": {},
   "source": [
    "## Using confusion matrix"
   ]
  },
  {
   "cell_type": "code",
   "execution_count": 25,
   "metadata": {},
   "outputs": [
    {
     "name": "stdout",
     "output_type": "stream",
     "text": [
      "[[124  15]\n",
      " [ 26  58]]\n"
     ]
    }
   ],
   "source": [
    "# print confusion matrix\n",
    "print(metrics.confusion_matrix(y_test, y_pred_class))"
   ]
  },
  {
   "cell_type": "code",
   "execution_count": 26,
   "metadata": {},
   "outputs": [],
   "source": [
    "# save confusion matrix and slice into four pieces\n",
    "confusion = metrics.confusion_matrix(y_test, y_pred_class)\n",
    "TP = confusion[1][1]\n",
    "TN = confusion[0][0]\n",
    "FP = confusion[0][1]\n",
    "FN = confusion[1][0]"
   ]
  },
  {
   "cell_type": "code",
   "execution_count": 27,
   "metadata": {},
   "outputs": [
    {
     "name": "stdout",
     "output_type": "stream",
     "text": [
      "True Positives: 58\n",
      "True Negatives: 124\n",
      "False Positives: 15\n",
      "False Negatives: 26\n"
     ]
    }
   ],
   "source": [
    "print('True Positives:', TP)\n",
    "print('True Negatives:', TN)\n",
    "print('False Positives:', FP)\n",
    "print('False Negatives:', FN)"
   ]
  },
  {
   "cell_type": "code",
   "execution_count": 28,
   "metadata": {},
   "outputs": [
    {
     "name": "stdout",
     "output_type": "stream",
     "text": [
      "Sensitivity: 0.6904761904761905\n"
     ]
    }
   ],
   "source": [
    "# calculate the sensitivity\n",
    "print('Sensitivity:', TP / (TP + FN))"
   ]
  },
  {
   "cell_type": "code",
   "execution_count": 29,
   "metadata": {},
   "outputs": [
    {
     "name": "stdout",
     "output_type": "stream",
     "text": [
      "Specificity: 0.8920863309352518\n"
     ]
    }
   ],
   "source": [
    "# calculate the specificity\n",
    "print('Specificity:', TN / (TN + FP))"
   ]
  },
  {
   "cell_type": "code",
   "execution_count": 30,
   "metadata": {},
   "outputs": [
    {
     "name": "stdout",
     "output_type": "stream",
     "text": [
      "0.7388535031847133\n"
     ]
    }
   ],
   "source": [
    "print(metrics.f1_score(y_test, y_pred_class))"
   ]
  },
  {
   "cell_type": "code",
   "execution_count": 31,
   "metadata": {},
   "outputs": [
    {
     "name": "stdout",
     "output_type": "stream",
     "text": [
      "              precision    recall  f1-score   support\n",
      "\n",
      "           0       0.83      0.89      0.86       139\n",
      "           1       0.79      0.69      0.74        84\n",
      "\n",
      "    accuracy                           0.82       223\n",
      "   macro avg       0.81      0.79      0.80       223\n",
      "weighted avg       0.81      0.82      0.81       223\n",
      "\n"
     ]
    }
   ],
   "source": [
    "print(metrics.classification_report(y_test, y_pred_class))"
   ]
  },
  {
   "cell_type": "markdown",
   "metadata": {},
   "source": [
    "### How about using other threshold?\n",
    "- If y_pred_prob > 0.3, than y_pred_class = 1"
   ]
  },
  {
   "cell_type": "code",
   "execution_count": 32,
   "metadata": {},
   "outputs": [
    {
     "name": "stdout",
     "output_type": "stream",
     "text": [
      "[[0.28842739 0.71157261]\n",
      " [0.89707993 0.10292007]\n",
      " [0.53216589 0.46783411]\n",
      " [0.6018306  0.3981694 ]\n",
      " [0.90650113 0.09349887]\n",
      " [0.78829702 0.21170298]\n",
      " [0.20475952 0.79524048]\n",
      " [0.26377016 0.73622984]\n",
      " [0.17435276 0.82564724]\n",
      " [0.45076333 0.54923667]\n",
      " [0.36657245 0.63342755]\n",
      " [0.38834131 0.61165869]\n",
      " [0.11657707 0.88342293]\n",
      " [0.90409806 0.09590194]\n",
      " [0.07096363 0.92903637]\n",
      " [0.29328078 0.70671922]\n",
      " [0.05314756 0.94685244]\n",
      " [0.64306138 0.35693862]\n",
      " [0.53211527 0.46788473]\n",
      " [0.84182105 0.15817895]\n",
      " [0.55315335 0.44684665]\n",
      " [0.10950307 0.89049693]\n",
      " [0.79391507 0.20608493]\n",
      " [0.90808475 0.09191525]\n",
      " [0.94007228 0.05992772]\n",
      " [0.92838802 0.07161198]\n",
      " [0.90413302 0.09586698]\n",
      " [0.03575154 0.96424846]\n",
      " [0.80009228 0.19990772]\n",
      " [0.87794958 0.12205042]\n",
      " [0.4536479  0.5463521 ]\n",
      " [0.26879489 0.73120511]\n",
      " [0.79391507 0.20608493]\n",
      " [0.89253656 0.10746344]\n",
      " [0.69979037 0.30020963]\n",
      " [0.74251719 0.25748281]\n",
      " [0.90418872 0.09581128]\n",
      " [0.90416606 0.09583394]\n",
      " [0.20593306 0.79406694]\n",
      " [0.53004927 0.46995073]\n",
      " [0.05320625 0.94679375]\n",
      " [0.94351038 0.05648962]\n",
      " [0.44820317 0.55179683]\n",
      " [0.38729096 0.61270904]\n",
      " [0.7995392  0.2004608 ]\n",
      " [0.79391507 0.20608493]\n",
      " [0.1192331  0.8807669 ]\n",
      " [0.67013403 0.32986597]\n",
      " [0.90432457 0.09567543]\n",
      " [0.26123872 0.73876128]\n",
      " [0.36979127 0.63020873]\n",
      " [0.53725714 0.46274286]\n",
      " [0.90427931 0.09572069]\n",
      " [0.90409806 0.09590194]\n",
      " [0.79391507 0.20608493]\n",
      " [0.89708095 0.10291905]\n",
      " [0.94007228 0.05992772]\n",
      " [0.80013411 0.19986589]\n",
      " [0.66163964 0.33836036]\n",
      " [0.95894108 0.04105892]\n",
      " [0.12000423 0.87999577]\n",
      " [0.02646831 0.97353169]\n",
      " [0.45497217 0.54502783]\n",
      " [0.07121698 0.92878302]\n",
      " [0.90432457 0.09567543]\n",
      " [0.93363224 0.06636776]\n",
      " [0.79391507 0.20608493]\n",
      " [0.79391507 0.20608493]\n",
      " [0.65438376 0.34561624]\n",
      " [0.16532104 0.83467896]\n",
      " [0.08678962 0.91321038]\n",
      " [0.90409806 0.09590194]\n",
      " [0.65497498 0.34502502]\n",
      " [0.52800016 0.47199984]\n",
      " [0.9041604  0.0958396 ]\n",
      " [0.90413302 0.09586698]\n",
      " [0.94862762 0.05137238]\n",
      " [0.90427931 0.09572069]\n",
      " [0.10442643 0.89557357]\n",
      " [0.08970283 0.91029717]\n",
      " [0.4671296  0.5328704 ]\n",
      " [0.90225714 0.09774286]\n",
      " [0.94517977 0.05482023]\n",
      " [0.89707993 0.10292007]\n",
      " [0.90413302 0.09586698]\n",
      " [0.79422511 0.20577489]\n",
      " [0.18457375 0.81542625]\n",
      " [0.87465017 0.12534983]\n",
      " [0.65171735 0.34828265]\n",
      " [0.90432457 0.09567543]\n",
      " [0.21139746 0.78860254]\n",
      " [0.78003437 0.21996563]\n",
      " [0.79348686 0.20651314]\n",
      " [0.94517977 0.05482023]\n",
      " [0.54897598 0.45102402]\n",
      " [0.80019508 0.19980492]\n",
      " [0.06213094 0.93786906]\n",
      " [0.07227185 0.92772815]\n",
      " [0.90396097 0.09603903]\n",
      " [0.34857943 0.65142057]\n",
      " [0.94007228 0.05992772]\n",
      " [0.51268778 0.48731222]\n",
      " [0.60617785 0.39382215]\n",
      " [0.16673117 0.83326883]\n",
      " [0.87794958 0.12205042]\n",
      " [0.67013403 0.32986597]\n",
      " [0.9041349  0.0958651 ]\n",
      " [0.87506055 0.12493945]\n",
      " [0.90409806 0.09590194]\n",
      " [0.20593306 0.79406694]\n",
      " [0.64457706 0.35542294]\n",
      " [0.66723714 0.33276286]\n",
      " [0.07704646 0.92295354]\n",
      " [0.90402718 0.09597282]\n",
      " [0.9041604  0.0958396 ]\n",
      " [0.84007208 0.15992792]\n",
      " [0.60617785 0.39382215]\n",
      " [0.84007208 0.15992792]\n",
      " [0.80015326 0.19984674]\n",
      " [0.46226463 0.53773537]\n",
      " [0.80009228 0.19990772]\n",
      " [0.90409806 0.09590194]\n",
      " [0.60634172 0.39365828]\n",
      " [0.87775096 0.12224904]\n",
      " [0.78829702 0.21170298]\n",
      " [0.84510125 0.15489875]\n",
      " [0.55589886 0.44410114]\n",
      " [0.64761037 0.35238963]\n",
      " [0.32626717 0.67373283]\n",
      " [0.90414245 0.09585755]\n",
      " [0.07071708 0.92928292]\n",
      " [0.90409806 0.09590194]\n",
      " [0.90418872 0.09581128]\n",
      " [0.41621845 0.58378155]\n",
      " [0.09402873 0.90597127]\n",
      " [0.80014281 0.19985719]\n",
      " [0.04430197 0.95569803]\n",
      " [0.48002774 0.51997226]\n",
      " [0.92145919 0.07854081]\n",
      " [0.21520642 0.78479358]\n",
      " [0.85251024 0.14748976]\n",
      " [0.53037498 0.46962502]\n",
      " [0.81849532 0.18150468]\n",
      " [0.70958579 0.29041421]\n",
      " [0.29328078 0.70671922]\n",
      " [0.90376877 0.09623123]\n",
      " [0.94739519 0.05260481]\n",
      " [0.89253656 0.10746344]\n",
      " [0.90395909 0.09604091]\n",
      " [0.0642766  0.9357234 ]\n",
      " [0.597872   0.402128  ]\n",
      " [0.95894108 0.04105892]\n",
      " [0.38832317 0.61167683]\n",
      " [0.80014281 0.19985719]\n",
      " [0.11632564 0.88367436]\n",
      " [0.89707993 0.10292007]\n",
      " [0.09389052 0.90610948]\n",
      " [0.21025169 0.78974831]\n",
      " [0.20593306 0.79406694]\n",
      " [0.09402873 0.90597127]\n",
      " [0.20593306 0.79406694]\n",
      " [0.62262552 0.37737448]\n",
      " [0.5988069  0.4011931 ]\n",
      " [0.10868241 0.89131759]\n",
      " [0.67248275 0.32751725]\n",
      " [0.09375365 0.90624635]\n",
      " [0.30718391 0.69281609]\n",
      " [0.90414245 0.09585755]\n",
      " [0.32625998 0.67374002]\n",
      " [0.89576451 0.10423549]\n",
      " [0.90413302 0.09586698]\n",
      " [0.65201409 0.34798591]\n",
      " [0.69497903 0.30502097]\n",
      " [0.79724709 0.20275291]\n",
      " [0.87795541 0.12204459]\n",
      " [0.90409806 0.09590194]\n",
      " [0.56833449 0.43166551]\n",
      " [0.89708095 0.10291905]\n",
      " [0.79391507 0.20608493]\n",
      " [0.03128385 0.96871615]\n",
      " [0.85251024 0.14748976]\n",
      " [0.87506175 0.12493825]\n",
      " [0.85251573 0.14748427]\n",
      " [0.52710124 0.47289876]\n",
      " [0.79391507 0.20608493]\n",
      " [0.10996132 0.89003868]\n",
      " [0.62200859 0.37799141]\n",
      " [0.0800169  0.9199831 ]\n",
      " [0.90401111 0.09598889]\n",
      " [0.14173203 0.85826797]\n",
      " [0.62200859 0.37799141]\n",
      " [0.92161047 0.07838953]\n",
      " [0.27344599 0.72655401]\n",
      " [0.84007208 0.15992792]\n",
      " [0.28011763 0.71988237]\n",
      " [0.59179195 0.40820805]\n",
      " [0.93011158 0.06988842]\n",
      " [0.48257398 0.51742602]\n",
      " [0.07561742 0.92438258]\n",
      " [0.92151122 0.07848878]\n",
      " [0.04373078 0.95626922]\n",
      " [0.32625998 0.67374002]\n",
      " [0.66981357 0.33018643]\n",
      " [0.60617785 0.39382215]\n",
      " [0.62262552 0.37737448]\n",
      " [0.80009228 0.19990772]\n",
      " [0.87794958 0.12205042]\n",
      " [0.21234936 0.78765064]\n",
      " [0.53480401 0.46519599]\n",
      " [0.90395909 0.09604091]\n",
      " [0.90377257 0.09622743]\n",
      " [0.13048426 0.86951574]\n",
      " [0.44006806 0.55993194]\n",
      " [0.90432457 0.09567543]\n",
      " [0.90409806 0.09590194]\n",
      " [0.89707993 0.10292007]\n",
      " [0.79391507 0.20608493]\n",
      " [0.90672945 0.09327055]\n",
      " [0.92831526 0.07168474]\n",
      " [0.87506175 0.12493825]\n",
      " [0.92148837 0.07851163]\n",
      " [0.60136507 0.39863493]\n",
      " [0.87506055 0.12493945]]\n"
     ]
    }
   ],
   "source": [
    "test = logreg.predict_proba(X_test)\n",
    "print(test)"
   ]
  },
  {
   "cell_type": "code",
   "execution_count": 33,
   "metadata": {},
   "outputs": [],
   "source": [
    "# store the predicted probabilities\n",
    "y_pred_prob = logreg.predict_proba(X_test)[:, 1]"
   ]
  },
  {
   "cell_type": "code",
   "execution_count": 34,
   "metadata": {
    "scrolled": true
   },
   "outputs": [
    {
     "data": {
      "text/plain": [
       "Text(0, 0.5, 'Frequency')"
      ]
     },
     "execution_count": 34,
     "metadata": {},
     "output_type": "execute_result"
    },
    {
     "data": {
      "image/png": "[encoded data removed]",
      "text/plain": [
       "<Figure size 640x480 with 1 Axes>"
      ]
     },
     "metadata": {},
     "output_type": "display_data"
    }
   ],
   "source": [
    "# histogram of predicted probabilities\n",
    "plt.hist(y_pred_prob)\n",
    "plt.xlim(0, 1)\n",
    "plt.xlabel('Predicted probability of survival')\n",
    "plt.ylabel('Frequency')"
   ]
  },
  {
   "cell_type": "code",
   "execution_count": 35,
   "metadata": {
    "scrolled": true
   },
   "outputs": [],
   "source": [
    "# increase sensitivity by lowering the threshold for predicting survival\n",
    "y_pred_class_new = np.where(y_pred_prob >= 0.3, 1, 0)"
   ]
  },
  {
   "cell_type": "code",
   "execution_count": 36,
   "metadata": {},
   "outputs": [
    {
     "data": {
      "text/plain": [
       "array([1, 0, 1, 1, 0, 0, 1, 1, 1, 1, 1, 1, 1, 0, 1, 1, 1, 1, 1, 0, 1, 1,\n",
       "       0, 0, 0, 0, 0, 1, 0, 0, 1, 1, 0, 0, 1, 0, 0, 0, 1, 1, 1, 0, 1, 1,\n",
       "       0, 0, 1, 1, 0, 1, 1, 1, 0, 0, 0, 0, 0, 0, 1, 0, 1, 1, 1, 1, 0, 0,\n",
       "       0, 0, 1, 1, 1, 0, 1, 1, 0, 0, 0, 0, 1, 1, 1, 0, 0, 0, 0, 0, 1, 0,\n",
       "       1, 0, 1, 0, 0, 0, 1, 0, 1, 1, 0, 1, 0, 1, 1, 1, 0, 1, 0, 0, 0, 1,\n",
       "       1, 1, 1, 0, 0, 0, 1, 0, 0, 1, 0, 0, 1, 0, 0, 0, 1, 1, 1, 0, 1, 0,\n",
       "       0, 1, 1, 0, 1, 1, 0, 1, 0, 1, 0, 0, 1, 0, 0, 0, 0, 1, 1, 0, 1, 0,\n",
       "       1, 0, 1, 1, 1, 1, 1, 1, 1, 1, 1, 1, 1, 0, 1, 0, 0, 1, 1, 0, 0, 0,\n",
       "       1, 0, 0, 1, 0, 0, 0, 1, 0, 1, 1, 1, 0, 1, 1, 0, 1, 0, 1, 1, 0, 1,\n",
       "       1, 0, 1, 1, 1, 1, 1, 0, 0, 1, 1, 0, 0, 1, 1, 0, 0, 0, 0, 0, 0, 0,\n",
       "       0, 1, 0])"
      ]
     },
     "execution_count": 36,
     "metadata": {},
     "output_type": "execute_result"
    }
   ],
   "source": [
    "y_pred_class_new"
   ]
  },
  {
   "cell_type": "code",
   "execution_count": 37,
   "metadata": {},
   "outputs": [
    {
     "name": "stdout",
     "output_type": "stream",
     "text": [
      "[[124  15]\n",
      " [ 26  58]]\n"
     ]
    }
   ],
   "source": [
    "# old confusion matrix\n",
    "print(confusion)"
   ]
  },
  {
   "cell_type": "code",
   "execution_count": 38,
   "metadata": {},
   "outputs": [
    {
     "name": "stdout",
     "output_type": "stream",
     "text": [
      "[[97 42]\n",
      " [12 72]]\n"
     ]
    }
   ],
   "source": [
    "confusion_new = metrics.confusion_matrix(y_test, y_pred_class_new)\n",
    "print(confusion_new)"
   ]
  },
  {
   "cell_type": "code",
   "execution_count": 39,
   "metadata": {},
   "outputs": [],
   "source": [
    "TP = confusion_new[1][1]\n",
    "TN = confusion_new[0][0]\n",
    "FP = confusion_new[0][1]\n",
    "FN = confusion_new[1][0]"
   ]
  },
  {
   "cell_type": "code",
   "execution_count": 40,
   "metadata": {},
   "outputs": [
    {
     "name": "stdout",
     "output_type": "stream",
     "text": [
      "Sensitivity: 0.8571428571428571\n"
     ]
    }
   ],
   "source": [
    "# new sensitivity (higher than before)\n",
    "print('Sensitivity:', TP / float(TP + FN))"
   ]
  },
  {
   "cell_type": "code",
   "execution_count": 41,
   "metadata": {
    "scrolled": true
   },
   "outputs": [
    {
     "name": "stdout",
     "output_type": "stream",
     "text": [
      "Specificity: 0.697841726618705\n"
     ]
    }
   ],
   "source": [
    "# new specificity (lower than before)\n",
    "print('Specificity:', TN / float(TN + FP))"
   ]
  },
  {
   "cell_type": "code",
   "execution_count": 42,
   "metadata": {},
   "outputs": [
    {
     "name": "stdout",
     "output_type": "stream",
     "text": [
      "              precision    recall  f1-score   support\n",
      "\n",
      "           0       0.89      0.70      0.78       139\n",
      "           1       0.63      0.86      0.73        84\n",
      "\n",
      "    accuracy                           0.76       223\n",
      "   macro avg       0.76      0.78      0.75       223\n",
      "weighted avg       0.79      0.76      0.76       223\n",
      "\n"
     ]
    }
   ],
   "source": [
    "print(metrics.classification_report(y_test, y_pred_class_new))"
   ]
  },
  {
   "cell_type": "markdown",
   "metadata": {},
   "source": [
    "## ROC, auroc"
   ]
  },
  {
   "cell_type": "markdown",
   "metadata": {},
   "source": [
    "### Drawing ROC curve and calculate AUC"
   ]
  },
  {
   "cell_type": "code",
   "execution_count": 43,
   "metadata": {},
   "outputs": [],
   "source": [
    "from sklearn.metrics import roc_curve, auc, roc_auc_score"
   ]
  },
  {
   "cell_type": "code",
   "execution_count": 44,
   "metadata": {},
   "outputs": [
    {
     "name": "stderr",
     "output_type": "stream",
     "text": [
      "/Users/saintphs/Desktop/Dev/aSSIST_DM1/venv/lib/python3.11/site-packages/sklearn/linear_model/_logistic.py:469: ConvergenceWarning: lbfgs failed to converge (status=1):\n",
      "STOP: TOTAL NO. of ITERATIONS REACHED LIMIT.\n",
      "\n",
      "Increase the number of iterations (max_iter) or scale the data as shown in:\n",
      "    https://scikit-learn.org/stable/modules/preprocessing.html\n",
      "Please also refer to the documentation for alternative solver options:\n",
      "    https://scikit-learn.org/stable/modules/linear_model.html#logistic-regression\n",
      "  n_iter_i = _check_optimize_result(\n",
      "/Users/saintphs/Desktop/Dev/aSSIST_DM1/venv/lib/python3.11/site-packages/sklearn/linear_model/_logistic.py:469: ConvergenceWarning: lbfgs failed to converge (status=1):\n",
      "STOP: TOTAL NO. of ITERATIONS REACHED LIMIT.\n",
      "\n",
      "Increase the number of iterations (max_iter) or scale the data as shown in:\n",
      "    https://scikit-learn.org/stable/modules/preprocessing.html\n",
      "Please also refer to the documentation for alternative solver options:\n",
      "    https://scikit-learn.org/stable/modules/linear_model.html#logistic-regression\n",
      "  n_iter_i = _check_optimize_result(\n"
     ]
    }
   ],
   "source": [
    "classifier = LogisticRegression()\n",
    "y_prob = classifier.fit(X_train, y_train).predict_proba(X_test)\n",
    "y_score = classifier.fit(X_train, y_train).decision_function(X_test)"
   ]
  },
  {
   "cell_type": "code",
   "execution_count": 45,
   "metadata": {
    "scrolled": true
   },
   "outputs": [
    {
     "name": "stdout",
     "output_type": "stream",
     "text": [
      "[[0.30801614 0.69198386]\n",
      " [0.88522933 0.11477067]\n",
      " [0.53966195 0.46033805]\n",
      " [0.60197359 0.39802641]\n",
      " [0.89982721 0.10017279]\n",
      " [0.78107641 0.21892359]\n",
      " [0.21971441 0.78028559]\n",
      " [0.27737943 0.72262057]\n",
      " [0.19556173 0.80443827]\n",
      " [0.44289832 0.55710168]]\n"
     ]
    }
   ],
   "source": [
    "print(y_prob[0:10,:])"
   ]
  },
  {
   "cell_type": "code",
   "execution_count": 46,
   "metadata": {},
   "outputs": [
    {
     "name": "stdout",
     "output_type": "stream",
     "text": [
      "[ 0.80941047 -2.0429108  -0.15898181 -0.41369522 -2.19530611 -1.27195022\n",
      "  1.26733143  0.95749791  1.41426818  0.22940757]\n"
     ]
    }
   ],
   "source": [
    "print(y_score[0:10])"
   ]
  },
  {
   "cell_type": "code",
   "execution_count": 47,
   "metadata": {},
   "outputs": [
    {
     "name": "stdout",
     "output_type": "stream",
     "text": [
      "0.8564148681055156\n"
     ]
    }
   ],
   "source": [
    "# fpr, tpr, _ = roc_curve(y_test, y_prob[:,1])\n",
    "fpr, tpr, _ = roc_curve(y_test, y_score)\n",
    "roc_auc = auc(fpr, tpr)\n",
    "print(roc_auc)"
   ]
  },
  {
   "cell_type": "code",
   "execution_count": 48,
   "metadata": {
    "scrolled": true
   },
   "outputs": [
    {
     "data": {
      "image/png": "[encoded data removed]",
      "text/plain": [
       "<Figure size 640x480 with 1 Axes>"
      ]
     },
     "metadata": {},
     "output_type": "display_data"
    }
   ],
   "source": [
    "plt.figure()\n",
    "plt.plot(fpr, tpr, label = 'ROC curve')\n",
    "plt.plot([0,1], [0,1], 'k--')\n",
    "plt.xlim([0.0, 1.0])\n",
    "plt.ylim([0.0, 1.05])\n",
    "plt.xlabel('False Positive Rate')\n",
    "plt.ylabel('True Positive Rate')\n",
    "plt.title('Receiver operating characteristic example')\n",
    "plt.legend(loc=\"lower right\")\n",
    "plt.show()"
   ]
  },
  {
   "cell_type": "code",
   "execution_count": 49,
   "metadata": {},
   "outputs": [
    {
     "data": {
      "text/plain": [
       "0.8564148681055156"
      ]
     },
     "execution_count": 49,
     "metadata": {},
     "output_type": "execute_result"
    }
   ],
   "source": [
    "# ROC curve를 그리지 않고 바로 AUC를 계산해주는 함수\n",
    "roc_auc_score(y_test, y_score)"
   ]
  },
  {
   "cell_type": "code",
   "execution_count": null,
   "metadata": {},
   "outputs": [],
   "source": []
  }
 ],
 "metadata": {
  "anaconda-cloud": {},
  "kernelspec": {
   "display_name": "Python 3 (ipykernel)",
   "language": "python",
   "name": "python3"
  },
  "language_info": {
   "codemirror_mode": {
    "name": "ipython",
    "version": 3
   },
   "file_extension": ".py",
   "mimetype": "text/x-python",
   "name": "python",
   "nbconvert_exporter": "python",
   "pygments_lexer": "ipython3",
   "version": "3.11.5"
  }
 },
 "nbformat": 4,
 "nbformat_minor": 1
}
