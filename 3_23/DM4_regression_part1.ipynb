{
 "cells": [
  {
   "cell_type": "markdown",
   "id": "a1dc09b7",
   "metadata": {},
   "source": [
    "**회귀분석**\\\n",
    "Python을 이용하여 간단한 회귀분석 모형을 테스트해봅니다.\\\n",
    "우선 지난시간에 사용하였던 MLB데이터를 이용하여 간단한 회귀분석을 해 보겠습니다.\\\n",
    "메이저리그 팀들의 수익(Revenue)은 팀의 승률, 홈타운의 인구 수, 포스트시즌 진출여부, 월드시리즈 진출여부, 및 소속리그에 의해 결정된다고 할 때 데이터 파일로 부터 각 피쳐를 추출할 수 있습니다."
   ]
  },
  {
   "cell_type": "code",
   "execution_count": 1,
   "id": "350bf963",
   "metadata": {},
   "outputs": [],
   "source": [
    "import pandas as pd\n",
    "import numpy as np"
   ]
  },
  {
   "cell_type": "code",
   "execution_count": 2,
   "id": "b1646c8e",
   "metadata": {
    "collapsed": true
   },
   "outputs": [
    {
     "name": "stdout",
     "output_type": "stream",
     "text": [
      "     ID  YEAR NAME        wp   w  ps  ws  AL         rev     smsa\n",
      "0     1  2000   AZ  0.524691  85   0   0   0  141.191894  3278661\n",
      "1     1  2001   AZ  0.567901  92   1   1   0  134.330353  3388445\n",
      "2     1  2002   AZ  0.604938  98   1   0   0  153.936188  3496957\n",
      "3     1  2003   AZ  0.518519  84   0   0   0  144.580612  3600163\n",
      "4     1  2004   AZ  0.314815  51   0   0   0  145.447601  3723359\n",
      "..   ..   ...  ...       ...  ..  ..  ..  ..         ...      ...\n",
      "445  30  2010  WAS  0.425926  69   0   0   0  194.000000  5664789\n",
      "446  30  2011  WAS  0.496894  80   0   0   0  193.880118  5771506\n",
      "447  30  2012  WAS  0.604938  98   1   0   0  213.692866  5862594\n",
      "448  30  2013  WAS  0.456790  74   0   0   0  228.392639  5949859\n",
      "449  30  2014  WAS  0.592593  96   1   0   0  264.353845  6033737\n",
      "\n",
      "[450 rows x 10 columns]\n"
     ]
    }
   ],
   "source": [
    "df = pd.read_csv('reg_data/mlb_sample.csv')\n",
    "print(df)"
   ]
  },
  {
   "cell_type": "markdown",
   "id": "46021fe9",
   "metadata": {},
   "source": [
    "회귀분석을 위해 피쳐들의 리스트를 따로 추출하여 Matrix로 구성합니다. 종속변수는 단일벡터이기에 그냥 리스트로 추출합니다."
   ]
  },
  {
   "cell_type": "code",
   "execution_count": 3,
   "id": "d1cb5208",
   "metadata": {
    "collapsed": true
   },
   "outputs": [
    {
     "name": "stdout",
     "output_type": "stream",
     "text": [
      "[[0.52469136 0.         0.         0.         3.278661  ]\n",
      " [0.56790124 1.         1.         0.         3.388445  ]\n",
      " [0.60493827 1.         0.         0.         3.496957  ]\n",
      " ...\n",
      " [0.60493827 1.         0.         0.         5.862594  ]\n",
      " [0.45679012 0.         0.         0.         5.949859  ]\n",
      " [0.59259259 1.         0.         0.         6.033737  ]]\n",
      "0      141.191894\n",
      "1      134.330353\n",
      "2      153.936188\n",
      "3      144.580612\n",
      "4      145.447601\n",
      "          ...    \n",
      "445    194.000000\n",
      "446    193.880118\n",
      "447    213.692866\n",
      "448    228.392639\n",
      "449    264.353845\n",
      "Name: rev, Length: 450, dtype: float64\n"
     ]
    }
   ],
   "source": [
    "df['smsa'] = df['smsa']/1000000\n",
    "columns = ['wp', 'ps', 'ws', 'AL', 'smsa']\n",
    "X = df[columns].to_numpy()\n",
    "y = df['rev']\n",
    "print(X)\n",
    "print(y)"
   ]
  },
  {
   "cell_type": "markdown",
   "id": "cf65e48c",
   "metadata": {},
   "source": [
    "피쳐에 절편(intercept)을 추가합니다. 절편은 모든 원소가 1로 된 리스트로 매트릭스에 한 열로 붙여넣으면 됩니다. 어디에 붙여넣어도 상관없으나, 통상적으로 가장 왼쪽(앞쪽)에 붙여넣습니다."
   ]
  },
  {
   "cell_type": "code",
   "execution_count": 4,
   "id": "1f2eb2ac",
   "metadata": {},
   "outputs": [
    {
     "name": "stdout",
     "output_type": "stream",
     "text": [
      "[[1.         0.52469136 0.         0.         0.         3.278661  ]\n",
      " [1.         0.56790124 1.         1.         0.         3.388445  ]\n",
      " [1.         0.60493827 1.         0.         0.         3.496957  ]\n",
      " ...\n",
      " [1.         0.60493827 1.         0.         0.         5.862594  ]\n",
      " [1.         0.45679012 0.         0.         0.         5.949859  ]\n",
      " [1.         0.59259259 1.         0.         0.         6.033737  ]]\n"
     ]
    }
   ],
   "source": [
    "intercept = np.ones((X.shape[0],1))\n",
    "X = np.hstack((intercept,X))\n",
    "print(X)"
   ]
  },
  {
   "cell_type": "markdown",
   "id": "d6755f63",
   "metadata": {},
   "source": [
    "이제 모든 피쳐와 종속변수를 만들었으니, 이를 바탕으로 회귀분석을 실시합니다.\\\n",
    "회귀계수의 추정치는 다음과 같이 계산할 수 있습니다.\\\n",
    "\\\n",
    "$\n",
    "B = \\left( X^T X \\right)^{-1} X^T y\n",
    "$\n",
    "\\\n",
    " \\\n",
    "파이썬에서 매트릭스를 단순히 * 를 사용해서 곱하게 되면, 이는 각 원소간 곲(inner product)을 의미합니다. 따라서 행렬간 곱하기를 하려면 numpy가 제공하는 .dot(A, B)명령어를 사용합니다.\\\n",
    "행렬의 역행열은 numpy가 제공하는 .linalg.inv(X)명령어를 사용합니다.\\\n",
    "transpose연산은 매트릭스 뒤에 .T를 붙이면 됩니다."
   ]
  },
  {
   "cell_type": "code",
   "execution_count": 5,
   "id": "f7883558",
   "metadata": {},
   "outputs": [
    {
     "name": "stdout",
     "output_type": "stream",
     "text": [
      "[125.99726381  15.29678219  21.29186902   8.56317855   5.10219982\n",
      "   6.17888509]\n"
     ]
    }
   ],
   "source": [
    "B = np.dot(np.dot(np.linalg.inv(np.dot(X.T,X)),X.T),y)\n",
    "print(B)"
   ]
  },
  {
   "cell_type": "code",
   "execution_count": 6,
   "id": "b99aeb45",
   "metadata": {},
   "outputs": [
    {
     "name": "stdout",
     "output_type": "stream",
     "text": [
      "Intercept: 125.997263812184\n",
      "coefficient of wp: 15.296782190777414\n",
      "coefficient of ps: 21.291869021982837\n",
      "coefficient of ws: 8.56317854601312\n",
      "coefficient of AL: 5.102199822482363\n",
      "coefficient of smsa: 6.178885090151204\n",
      "Revenue Function: rev = 125.997263812184 + 15.296782190777414 wp + 21.291869021982837 ps + 8.56317854601312 ws + 5.102199822482363 AL + 6.178885090151204 smsa\n"
     ]
    }
   ],
   "source": [
    "print(\"Intercept:\", B[0])\n",
    "print(\"coefficient of wp:\", B[1])\n",
    "print(\"coefficient of ps:\", B[2])\n",
    "print(\"coefficient of ws:\", B[3])\n",
    "print(\"coefficient of AL:\", B[4])\n",
    "print(\"coefficient of smsa:\", B[5])\n",
    "# print the formula\n",
    "print(\"Revenue Function: rev = {} + {} wp + {} ps + {} ws + {} AL + {} smsa\".format(B[0],B[1],B[2],B[3],B[4],B[5]))"
   ]
  },
  {
   "cell_type": "markdown",
   "id": "f24a4c16",
   "metadata": {},
   "source": [
    "이 외에도 이를 이용해서 잔차의 Standard error를 계산하고 각각의 통계적 유의성을 구하는 과정이 남아있습니다."
   ]
  },
  {
   "cell_type": "markdown",
   "id": "20e0aae2",
   "metadata": {},
   "source": [
    "**Statsmodels 패키지를 활용하기**\\\n",
    "Statsmodels 패키지는 간단하게 회귀분석을 할 수 있는 함수를 제공합니다. 이를 이용해서 쉽게 회귀분석을 해볼 수 있습니다.\\\n",
    "회귀식을 입력할 때는 '종속변수 ~ 피쳐1+피쳐2+...+피쳐n'형식으로 입력합니다."
   ]
  },
  {
   "cell_type": "code",
   "execution_count": 26,
   "id": "746dc8bb",
   "metadata": {},
   "outputs": [],
   "source": [
    "#pip install statsmodels"
   ]
  },
  {
   "cell_type": "code",
   "execution_count": 7,
   "id": "0eebe40b",
   "metadata": {},
   "outputs": [],
   "source": [
    "import statsmodels.formula.api as smf"
   ]
  },
  {
   "cell_type": "code",
   "execution_count": 8,
   "id": "0718d93e",
   "metadata": {},
   "outputs": [
    {
     "name": "stdout",
     "output_type": "stream",
     "text": [
      "                            OLS Regression Results                            \n",
      "==============================================================================\n",
      "Dep. Variable:                    rev   R-squared:                       0.310\n",
      "Model:                            OLS   Adj. R-squared:                  0.302\n",
      "Method:                 Least Squares   F-statistic:                     39.92\n",
      "Date:                Sat, 23 Mar 2024   Prob (F-statistic):           7.03e-34\n",
      "Time:                        11:08:53   Log-Likelihood:                -2384.0\n",
      "No. Observations:                 450   AIC:                             4780.\n",
      "Df Residuals:                     444   BIC:                             4805.\n",
      "Df Model:                           5                                         \n",
      "Covariance Type:            nonrobust                                         \n",
      "==============================================================================\n",
      "                 coef    std err          t      P>|t|      [0.025      0.975]\n",
      "------------------------------------------------------------------------------\n",
      "Intercept    125.9973     20.336      6.196      0.000      86.030     165.964\n",
      "wp            15.2968     43.493      0.352      0.725     -70.180     100.774\n",
      "ps            21.2919      7.176      2.967      0.003       7.189      35.395\n",
      "ws             8.5632     10.200      0.840      0.402     -11.482      28.609\n",
      "AL             5.1022      4.606      1.108      0.269      -3.951      14.155\n",
      "smsa           6.1789      0.514     12.011      0.000       5.168       7.190\n",
      "==============================================================================\n",
      "Omnibus:                       42.643   Durbin-Watson:                   0.695\n",
      "Prob(Omnibus):                  0.000   Jarque-Bera (JB):               79.310\n",
      "Skew:                           0.575   Prob(JB):                     6.00e-18\n",
      "Kurtosis:                       4.705   Cond. No.                         155.\n",
      "==============================================================================\n",
      "\n",
      "Notes:\n",
      "[1] Standard Errors assume that the covariance matrix of the errors is correctly specified.\n"
     ]
    }
   ],
   "source": [
    "model = smf.ols('rev ~ wp + ps + ws + AL + smsa', data=df).fit()\n",
    "print(model.summary())"
   ]
  },
  {
   "cell_type": "markdown",
   "id": "c1b3b7ad",
   "metadata": {},
   "source": []
  }
 ],
 "metadata": {
  "kernelspec": {
   "display_name": "Python 3 (ipykernel)",
   "language": "python",
   "name": "python3"
  },
  "language_info": {
   "codemirror_mode": {
    "name": "ipython",
    "version": 3
   },
   "file_extension": ".py",
   "mimetype": "text/x-python",
   "name": "python",
   "nbconvert_exporter": "python",
   "pygments_lexer": "ipython3",
   "version": "3.11.5"
  }
 },
 "nbformat": 4,
 "nbformat_minor": 5
}
