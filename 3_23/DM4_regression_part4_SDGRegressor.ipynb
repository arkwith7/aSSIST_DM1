{
 "cells": [
  {
   "cell_type": "markdown",
   "id": "8bc76ac3",
   "metadata": {},
   "source": [
    "# Scikit-learn을 활용하여 GD 실행하기"
   ]
  },
  {
   "cell_type": "code",
   "execution_count": 1,
   "id": "1dc3f120",
   "metadata": {},
   "outputs": [],
   "source": [
    "import pandas as pd\n",
    "import numpy as np\n",
    "import matplotlib.pyplot as plt"
   ]
  },
  {
   "cell_type": "code",
   "execution_count": 2,
   "id": "3913ba40",
   "metadata": {},
   "outputs": [],
   "source": [
    "df = pd.read_csv('reg_data/mlb_sample.csv')\n",
    "df['smsa'] = df['smsa']/1000000\n",
    "columns = ['wp', 'ps', 'ws', 'AL', 'smsa']\n",
    "X = df[columns].to_numpy()\n",
    "y = np.ravel(df['rev'])"
   ]
  },
  {
   "cell_type": "markdown",
   "id": "1c4b4a69",
   "metadata": {},
   "source": [
    "최신 버전의 scikit-learn에서는 gradient descent 는 Stochastic Gradient Descent 모형에 포함되었습니다.\\\n",
    "tol은 Tolerance level로 이터레이션이 다 안되어도 중간에 차이가 tolerance level이하로 내려가면(수렴하면) 트레이닝을 종료합니다."
   ]
  },
  {
   "cell_type": "code",
   "execution_count": 3,
   "id": "17ecf677",
   "metadata": {},
   "outputs": [
    {
     "name": "stdout",
     "output_type": "stream",
     "text": [
      "Intercept:  [109.28824712]\n",
      "Coefficients:  [45.85889199 19.27881121  6.22048094  8.45479541  4.16668441]\n"
     ]
    }
   ],
   "source": [
    "from sklearn.linear_model import SGDRegressor\n",
    "\n",
    "# create an instance of the SGDRegressor class\n",
    "model = SGDRegressor(loss='squared_error', alpha = 0.01, max_iter=1000, tol=1e-3)\n",
    "\n",
    "# fit the model to the data\n",
    "model.fit(X, y)\n",
    "\n",
    "# extract the intercept and coefficients\n",
    "intercept = model.intercept_\n",
    "coefficients = model.coef_\n",
    "\n",
    "print(\"Intercept: \", intercept)\n",
    "print(\"Coefficients: \", coefficients)\n"
   ]
  },
  {
   "cell_type": "code",
   "execution_count": 4,
   "id": "e75af974",
   "metadata": {},
   "outputs": [
    {
     "name": "stdout",
     "output_type": "stream",
     "text": [
      "Coefficients when alpha is 1.0:  [1.0071981  4.46802647 1.51632173 1.74099871 5.3997742 ]\n",
      "Coefficients when alpha is 0.1:  [22.77146755 15.58004197  4.28142524  7.4809916   6.30937567]\n",
      "Coefficients when alpha is 0.01:  [45.61812106 19.75076803  5.95041273 10.73184124  5.27623791]\n",
      "Coefficients when alpha is 0.001:  [49.21165422 19.64158183  6.3222367   7.85860863  4.36638879]\n",
      "Coefficients when alpha is 0.0001:  [49.12820556 21.94300682  4.82566144 12.4654312   7.57876826]\n",
      "Coefficients when alpha is 1e-05:  [49.46284762 21.0400917   5.50654192 11.63370312  5.72025395]\n"
     ]
    }
   ],
   "source": [
    "alphas = np.array([1,0.1,0.01,0.001,0.0001,0.00001])\n",
    "for alpha in alphas:\n",
    "    model = SGDRegressor(loss='squared_error', alpha = alpha, max_iter=1000)\n",
    "    model.fit(X,y)\n",
    "    coefficients = model.coef_\n",
    "    print(f\"Coefficients when alpha is {alpha}: \", coefficients)"
   ]
  },
  {
   "cell_type": "code",
   "execution_count": null,
   "id": "7bb7b144",
   "metadata": {},
   "outputs": [],
   "source": []
  }
 ],
 "metadata": {
  "kernelspec": {
   "display_name": "Python 3 (ipykernel)",
   "language": "python",
   "name": "python3"
  },
  "language_info": {
   "codemirror_mode": {
    "name": "ipython",
    "version": 3
   },
   "file_extension": ".py",
   "mimetype": "text/x-python",
   "name": "python",
   "nbconvert_exporter": "python",
   "pygments_lexer": "ipython3",
   "version": "3.11.5"
  }
 },
 "nbformat": 4,
 "nbformat_minor": 5
}
