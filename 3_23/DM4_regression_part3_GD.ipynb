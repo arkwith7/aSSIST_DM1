{
 "cells": [
  {
   "cell_type": "markdown",
   "id": "66c65d2b",
   "metadata": {},
   "source": [
    "# Gradient Descent를 이용한 Linear Regression"
   ]
  },
  {
   "cell_type": "code",
   "execution_count": 1,
   "id": "b379f2d6",
   "metadata": {},
   "outputs": [],
   "source": [
    "import copy, math\n",
    "import pandas as pd\n",
    "import numpy as np\n",
    "import matplotlib.pyplot as plt"
   ]
  },
  {
   "cell_type": "code",
   "execution_count": 2,
   "id": "ef4c2dc3",
   "metadata": {},
   "outputs": [
    {
     "name": "stdout",
     "output_type": "stream",
     "text": [
      "     ID  YEAR NAME        wp   w  ps  ws  AL         rev     smsa\n",
      "0     1  2000   AZ  0.524691  85   0   0   0  141.191894  3278661\n",
      "1     1  2001   AZ  0.567901  92   1   1   0  134.330353  3388445\n",
      "2     1  2002   AZ  0.604938  98   1   0   0  153.936188  3496957\n",
      "3     1  2003   AZ  0.518519  84   0   0   0  144.580612  3600163\n",
      "4     1  2004   AZ  0.314815  51   0   0   0  145.447601  3723359\n",
      "..   ..   ...  ...       ...  ..  ..  ..  ..         ...      ...\n",
      "445  30  2010  WAS  0.425926  69   0   0   0  194.000000  5664789\n",
      "446  30  2011  WAS  0.496894  80   0   0   0  193.880118  5771506\n",
      "447  30  2012  WAS  0.604938  98   1   0   0  213.692866  5862594\n",
      "448  30  2013  WAS  0.456790  74   0   0   0  228.392639  5949859\n",
      "449  30  2014  WAS  0.592593  96   1   0   0  264.353845  6033737\n",
      "\n",
      "[450 rows x 10 columns]\n"
     ]
    }
   ],
   "source": [
    "df = pd.read_csv('reg_data/mlb_sample.csv')\n",
    "print(df)"
   ]
  },
  {
   "cell_type": "code",
   "execution_count": 3,
   "id": "54bd459f",
   "metadata": {
    "scrolled": true
   },
   "outputs": [],
   "source": [
    "df['smsa'] = df['smsa']/1000000\n",
    "columns = ['wp', 'ps', 'ws', 'AL', 'smsa']\n",
    "X = df[columns].to_numpy()\n",
    "y = np.ravel(df['rev'])"
   ]
  },
  {
   "cell_type": "markdown",
   "id": "90b70be2",
   "metadata": {},
   "source": [
    "# Cost를 계산합니다.\n",
    "코스트 함수 $J(\\mathbf{w},b)$ 는 아래와 같이 계산합니다.\\\n",
    "$$J(\\mathbf{w},b) = \\frac{1}{2m} \\sum\\limits_{i = 0}^{m-1} (f_{\\mathbf{w},b}(\\mathbf{x}^{(i)}) - y^{(i)})^2 \\tag{3}$$ \\\n",
    "이 때:\n",
    "$$ f_{\\mathbf{w},b}(\\mathbf{x}^{(i)}) = \\mathbf{w} \\cdot \\mathbf{x}^{(i)} + b  \\tag{4} $$ \\\n",
    "로 나타낼 수 있습니다. 각 데이터 포인트의 코스트를 각각 구한 후 모두 더해서 데이터 포인트의 값으로 나누면 됩니다.\n"
   ]
  },
  {
   "cell_type": "code",
   "execution_count": 4,
   "id": "5aaeccf2",
   "metadata": {},
   "outputs": [],
   "source": [
    "def compute_cost(X, y, w, b): \n",
    "    \"\"\"\n",
    "    compute cost\n",
    "    Args:\n",
    "      X (ndarray (m,n)): Data, m examples with n features\n",
    "      y (ndarray (m,)) : target values\n",
    "      w (ndarray (n,)) : model parameters  \n",
    "      b (scalar)       : model parameter\n",
    "      \n",
    "    Returns:\n",
    "      cost (scalar): cost\n",
    "    \"\"\"\n",
    "    m = X.shape[0]\n",
    "    cost = 0.0\n",
    "    for i in range(m):                                \n",
    "        f_wb_i = np.dot(X[i], w) + b           #(n,)(n,) = scalar (see np.dot)\n",
    "        cost = cost + (f_wb_i - y[i])**2       #scalar\n",
    "    cost = cost / (2 * m)                      #scalar    \n",
    "    return cost"
   ]
  },
  {
   "cell_type": "markdown",
   "id": "737262a4",
   "metadata": {},
   "source": [
    "초기값을 투입하여 코스트를 계산해봅니다."
   ]
  },
  {
   "cell_type": "code",
   "execution_count": 5,
   "id": "18da1557",
   "metadata": {},
   "outputs": [],
   "source": [
    "X_train = X\n",
    "y_train = y\n",
    "w_init = np.array([1,1,1,1,1])\n",
    "b_init = 1"
   ]
  },
  {
   "cell_type": "code",
   "execution_count": 6,
   "id": "5d773a5d",
   "metadata": {},
   "outputs": [
    {
     "name": "stdout",
     "output_type": "stream",
     "text": [
      "Cost at optimal w : 15975.417123234021\n"
     ]
    }
   ],
   "source": [
    "# Compute and display cost using our pre-chosen optimal parameters. \n",
    "cost = compute_cost(X_train, y_train, w_init, b_init)\n",
    "print(f'Cost at optimal w : {cost}')"
   ]
  },
  {
   "cell_type": "markdown",
   "id": "3598095e",
   "metadata": {},
   "source": [
    "# Gradient Descent를 구해봅니다.\n",
    "GD는 다음과 같은 식을 최적화 하는 문제입니다.:\n",
    "\n",
    "$$\\begin{align*} \\text{repeat}&\\text{ until convergence:} \\; \\lbrace \\newline\\;\n",
    "& w_j = w_j -  \\alpha \\frac{\\partial J(\\mathbf{w},b)}{\\partial w_j} \\tag{5}  \\; & \\text{for j = 0..n-1}\\newline\n",
    "&b\\ \\ = b -  \\alpha \\frac{\\partial J(\\mathbf{w},b)}{\\partial b}  \\newline \\rbrace\n",
    "\\end{align*}$$\n",
    "\n",
    "where, n is the number of features, parameters $w_j$,  $b$, are updated simultaneously and where  \n",
    "\n",
    "$$\n",
    "\\begin{align}\n",
    "\\frac{\\partial J(\\mathbf{w},b)}{\\partial w_j}  &= \\frac{1}{m} \\sum\\limits_{i = 0}^{m-1} (f_{\\mathbf{w},b}(\\mathbf{x}^{(i)}) - y^{(i)})x_{j}^{(i)} \\tag{6}  \\\\\n",
    "\\frac{\\partial J(\\mathbf{w},b)}{\\partial b}  &= \\frac{1}{m} \\sum\\limits_{i = 0}^{m-1} (f_{\\mathbf{w},b}(\\mathbf{x}^{(i)}) - y^{(i)}) \\tag{7}\n",
    "\\end{align}\n",
    "$$\n",
    "* m is the number of training examples in the data set\n",
    "\n",
    "    \n",
    "*  $f_{\\mathbf{w},b}(\\mathbf{x}^{(i)})$ is the model's prediction, while $y^{(i)}$ is the target value\n"
   ]
  },
  {
   "cell_type": "code",
   "execution_count": 7,
   "id": "821812a7",
   "metadata": {},
   "outputs": [],
   "source": [
    "def compute_gradient(X, y, w, b): \n",
    "    \"\"\"\n",
    "    Computes the gradient for linear regression \n",
    "    Args:\n",
    "      X (ndarray (m,n)): Data, m examples with n features\n",
    "      y (ndarray (m,)) : target values\n",
    "      w (ndarray (n,)) : model parameters  \n",
    "      b (scalar)       : model parameter\n",
    "      \n",
    "    Returns:\n",
    "      dj_dw (ndarray (n,)): The gradient of the cost w.r.t. the parameters w. \n",
    "      dj_db (scalar):       The gradient of the cost w.r.t. the parameter b. \n",
    "    \"\"\"\n",
    "    m,n = X.shape           #(number of examples, number of features)\n",
    "    dj_dw = np.zeros((n,))\n",
    "    dj_db = 0.\n",
    "\n",
    "    for i in range(m):                             \n",
    "        err = (np.dot(X[i], w) + b) - y[i]   \n",
    "        for j in range(n):                         \n",
    "            dj_dw[j] = dj_dw[j] + err * X[i, j]    \n",
    "        dj_db = dj_db + err                        \n",
    "    dj_dw = dj_dw / m                                \n",
    "    dj_db = dj_db / m                                \n",
    "        \n",
    "    return dj_db, dj_dw"
   ]
  },
  {
   "cell_type": "code",
   "execution_count": 8,
   "id": "5b3b2615",
   "metadata": {},
   "outputs": [
    {
     "name": "stdout",
     "output_type": "stream",
     "text": [
      "dj_db at initial w,b: -169.82301601585786\n",
      "dj_dw at initial w,b: [  -85.84110255   -53.45457012   -13.31519968   -81.55742741\n",
      " -1088.47207987]\n"
     ]
    }
   ],
   "source": [
    "#Compute and display gradient \n",
    "tmp_dj_db, tmp_dj_dw = compute_gradient(X_train, y_train, w_init, b_init)\n",
    "print(f'dj_db at initial w,b: {tmp_dj_db}')\n",
    "print(f'dj_dw at initial w,b: {tmp_dj_dw}')"
   ]
  },
  {
   "cell_type": "code",
   "execution_count": 9,
   "id": "06ea5f80",
   "metadata": {},
   "outputs": [],
   "source": [
    "def gradient_descent(X, y, w_in, b_in, cost_function, gradient_function, alpha, num_iters): \n",
    "    \"\"\"\n",
    "    Performs batch gradient descent to learn w and b. Updates w and b by taking \n",
    "    num_iters gradient steps with learning rate alpha\n",
    "    \n",
    "    Args:\n",
    "      X (ndarray (m,n))   : Data, m examples with n features\n",
    "      y (ndarray (m,))    : target values\n",
    "      w_in (ndarray (n,)) : initial model parameters  \n",
    "      b_in (scalar)       : initial model parameter\n",
    "      cost_function       : function to compute cost\n",
    "      gradient_function   : function to compute the gradient\n",
    "      alpha (float)       : Learning rate\n",
    "      num_iters (int)     : number of iterations to run gradient descent\n",
    "      \n",
    "    Returns:\n",
    "      w (ndarray (n,)) : Updated values of parameters \n",
    "      b (scalar)       : Updated value of parameter \n",
    "      \"\"\"\n",
    "    \n",
    "    # An array to store cost J and w's at each iteration primarily for graphing later\n",
    "    J_history = []\n",
    "    w = copy.deepcopy(w_in)  #avoid modifying global w within function\n",
    "    b = b_in\n",
    "    \n",
    "    for i in range(num_iters):\n",
    "\n",
    "        # Calculate the gradient and update the parameters\n",
    "        dj_db,dj_dw = gradient_function(X, y, w, b)   ##None\n",
    "\n",
    "        # Update Parameters using w, b, alpha and gradient\n",
    "        w = w - alpha * dj_dw               ##None\n",
    "        b = b - alpha * dj_db               ##None\n",
    "      \n",
    "        # Save cost J at each iteration\n",
    "        if i<100000:      # prevent resource exhaustion \n",
    "            J_history.append( cost_function(X, y, w, b))\n",
    "\n",
    "        # Print cost every at intervals 10 times or as many iterations if < 10\n",
    "        if i% math.ceil(num_iters / 10) == 0:\n",
    "            print(f\"Iteration {i:4d}: Cost {J_history[-1]:8.2f}   \")\n",
    "        \n",
    "    return w, b, J_history #return final w,b and J history for graphing"
   ]
  },
  {
   "cell_type": "markdown",
   "id": "26a38ef4",
   "metadata": {},
   "source": [
    "트레이닝을 통해 계수를 추정해봅니다."
   ]
  },
  {
   "cell_type": "code",
   "execution_count": 10,
   "id": "5d2d4878",
   "metadata": {},
   "outputs": [
    {
     "name": "stdout",
     "output_type": "stream",
     "text": [
      "Iteration    0: Cost  7432.81   \n",
      "Iteration  100: Cost  2357.45   \n",
      "Iteration  200: Cost  1607.75   \n",
      "Iteration  300: Cost  1364.88   \n",
      "Iteration  400: Cost  1274.43   \n",
      "Iteration  500: Cost  1233.79   \n",
      "Iteration  600: Cost  1211.94   \n",
      "Iteration  700: Cost  1198.65   \n",
      "Iteration  800: Cost  1190.01   \n",
      "Iteration  900: Cost  1184.21   \n",
      "b,w found by gradient descent: 103.99,[48.98259532 20.93717287  6.18568994 12.33315909  6.3415277 ] \n"
     ]
    }
   ],
   "source": [
    "# initialize parameters\n",
    "initial_w = np.zeros_like(w_init)\n",
    "initial_b = 0.\n",
    "# some gradient descent settings\n",
    "iterations = 1000\n",
    "alpha = 0.01\n",
    "# run gradient descent \n",
    "w_final, b_final, J_hist = gradient_descent(X_train, y_train, initial_w, initial_b,\n",
    "                                                    compute_cost, compute_gradient, \n",
    "                                                    alpha, iterations)\n",
    "print(f\"b,w found by gradient descent: {b_final:0.2f},{w_final} \")"
   ]
  },
  {
   "cell_type": "code",
   "execution_count": 11,
   "id": "04b14947",
   "metadata": {},
   "outputs": [
    {
     "data": {
      "image/png": "[encoded data removed]",
      "text/plain": [
       "<Figure size 1200x400 with 1 Axes>"
      ]
     },
     "metadata": {},
     "output_type": "display_data"
    }
   ],
   "source": [
    "# plot cost versus iteration  \n",
    "fig, ax1 = plt.subplots(1, constrained_layout=True, figsize=(12, 4))\n",
    "ax1.plot(J_hist)\n",
    "ax1.set_title(\"Cost vs. iteration\")\n",
    "ax1.set_ylabel('Cost')             \n",
    "ax1.set_xlabel('iteration step')   \n",
    "plt.show()"
   ]
  },
  {
   "cell_type": "code",
   "execution_count": 12,
   "id": "55187f19",
   "metadata": {},
   "outputs": [
    {
     "name": "stdout",
     "output_type": "stream",
     "text": [
      "Iteration    0: Cost 36538741.29   \n",
      "Iteration  100: Cost      inf   \n"
     ]
    },
    {
     "name": "stderr",
     "output_type": "stream",
     "text": [
      "/var/folders/3r/11j8sv7j61n3xhd_mz9pj_r00000gn/T/ipykernel_31713/2737061646.py:17: RuntimeWarning: overflow encountered in scalar add\n",
      "  cost = cost + (f_wb_i - y[i])**2       #scalar\n",
      "/var/folders/3r/11j8sv7j61n3xhd_mz9pj_r00000gn/T/ipykernel_31713/2737061646.py:17: RuntimeWarning: overflow encountered in scalar power\n",
      "  cost = cost + (f_wb_i - y[i])**2       #scalar\n",
      "/var/folders/3r/11j8sv7j61n3xhd_mz9pj_r00000gn/T/ipykernel_31713/3697476869.py:21: RuntimeWarning: overflow encountered in scalar add\n",
      "  dj_dw[j] = dj_dw[j] + err * X[i, j]\n",
      "/var/folders/3r/11j8sv7j61n3xhd_mz9pj_r00000gn/T/ipykernel_31713/3697476869.py:21: RuntimeWarning: invalid value encountered in scalar multiply\n",
      "  dj_dw[j] = dj_dw[j] + err * X[i, j]\n",
      "/var/folders/3r/11j8sv7j61n3xhd_mz9pj_r00000gn/T/ipykernel_31713/3747244540.py:32: RuntimeWarning: invalid value encountered in subtract\n",
      "  w = w - alpha * dj_dw               ##None\n"
     ]
    },
    {
     "name": "stdout",
     "output_type": "stream",
     "text": [
      "Iteration  200: Cost      nan   \n",
      "Iteration  300: Cost      nan   \n",
      "Iteration  400: Cost      nan   \n",
      "Iteration  500: Cost      nan   \n",
      "Iteration  600: Cost      nan   \n",
      "Iteration  700: Cost      nan   \n",
      "Iteration  800: Cost      nan   \n",
      "Iteration  900: Cost      nan   \n",
      "w found by gradient descent when alpha is 1.0 : [nan nan nan nan nan]\n",
      "Iteration    0: Cost 257897.49   \n",
      "Iteration  100: Cost 5352501307944750006488836308202042675633229891018498020580428641823292594583220137044317426227771887480689815371176237931417430313140224.00   \n",
      "Iteration  200: Cost 113051189771509800776390580104794514153827721706370977996597659085406532915612185293421942299029401773589729935039819234111098567372331235352853843980231930992552805877353488691918605347852146799058418848159065698406835198063225026249224188921330186696101854384750592.00   \n",
      "Iteration  300: Cost      inf   \n",
      "Iteration  400: Cost      inf   \n",
      "Iteration  500: Cost      nan   \n",
      "Iteration  600: Cost      nan   \n",
      "Iteration  700: Cost      nan   \n",
      "Iteration  800: Cost      nan   \n",
      "Iteration  900: Cost      nan   \n",
      "w found by gradient descent when alpha is 0.1 : [nan nan nan nan nan]\n",
      "Iteration    0: Cost  7432.81   \n",
      "Iteration  100: Cost  2357.45   \n",
      "Iteration  200: Cost  1607.75   \n",
      "Iteration  300: Cost  1364.88   \n",
      "Iteration  400: Cost  1274.43   \n",
      "Iteration  500: Cost  1233.79   \n",
      "Iteration  600: Cost  1211.94   \n",
      "Iteration  700: Cost  1198.65   \n",
      "Iteration  800: Cost  1190.01   \n",
      "Iteration  900: Cost  1184.21   \n",
      "w found by gradient descent when alpha is 0.01 : [48.98259532 20.93717287  6.18568994 12.33315909  6.3415277 ]\n",
      "Iteration    0: Cost 16162.54   \n",
      "Iteration  100: Cost  4487.58   \n",
      "Iteration  200: Cost  4122.17   \n",
      "Iteration  300: Cost  3799.31   \n",
      "Iteration  400: Cost  3513.85   \n",
      "Iteration  500: Cost  3261.37   \n",
      "Iteration  600: Cost  3037.97   \n",
      "Iteration  700: Cost  2840.24   \n",
      "Iteration  800: Cost  2665.14   \n",
      "Iteration  900: Cost  2510.03   \n",
      "w found by gradient descent when alpha is 0.001 : [20.69086923 11.81099629  2.96134905 17.98058639 14.56450422]\n",
      "Iteration    0: Cost 17373.28   \n",
      "Iteration  100: Cost  9012.56   \n",
      "Iteration  200: Cost  6200.16   \n",
      "Iteration  300: Cost  5235.47   \n",
      "Iteration  400: Cost  4886.34   \n",
      "Iteration  500: Cost  4742.52   \n",
      "Iteration  600: Cost  4667.40   \n",
      "Iteration  700: Cost  4615.48   \n",
      "Iteration  800: Cost  4571.62   \n",
      "Iteration  900: Cost  4530.77   \n",
      "w found by gradient descent when alpha is 0.0001 : [ 3.66694858  2.20737346  0.55004142  3.50662432 20.29069115]\n",
      "Iteration    0: Cost 17497.73   \n",
      "Iteration  100: Cost 16184.98   \n",
      "Iteration  200: Cost 15008.18   \n",
      "Iteration  300: Cost 13953.19   \n",
      "Iteration  400: Cost 13007.37   \n",
      "Iteration  500: Cost 12159.36   \n",
      "Iteration  600: Cost 11399.01   \n",
      "Iteration  700: Cost 10717.22   \n",
      "Iteration  800: Cost 10105.81   \n",
      "Iteration  900: Cost  9557.48   \n",
      "w found by gradient descent when alpha is 1e-05 : [0.75116147 0.467319   0.11673068 0.71619075 8.8805451 ]\n"
     ]
    }
   ],
   "source": [
    "alphas = np.array([1, 0.1, 0.01, 0.001, 0.0001, 0.00001])\n",
    "for alpha in alphas:\n",
    "    w_final, b_final, J_hist  = gradient_descent(X_train, y_train, initial_w, initial_b,\n",
    "                                                    compute_cost, compute_gradient, \n",
    "                                                    alpha, iterations)\n",
    "    print(f\"w found by gradient descent when alpha is {alpha} : {w_final}\" )"
   ]
  }
 ],
 "metadata": {
  "kernelspec": {
   "display_name": "Python 3 (ipykernel)",
   "language": "python",
   "name": "python3"
  },
  "language_info": {
   "codemirror_mode": {
    "name": "ipython",
    "version": 3
   },
   "file_extension": ".py",
   "mimetype": "text/x-python",
   "name": "python",
   "nbconvert_exporter": "python",
   "pygments_lexer": "ipython3",
   "version": "3.11.5"
  }
 },
 "nbformat": 4,
 "nbformat_minor": 5
}
