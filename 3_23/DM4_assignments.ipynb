{
 "cells": [
  {
   "cell_type": "markdown",
   "id": "c87337f0",
   "metadata": {},
   "source": [
    "# 과제 1\n",
    "basketball_sample.csv는 농구선수의 데이터를 모아놓은 자료입니다.\\\n",
    "각 변수는 다음과 같습니다.\\\n",
    "\n",
    "- g: 총 출전 경기 수\n",
    "- gs: 선발 출전 경기 수\n",
    "- mp: 게임당 평균 플레이 시간\n",
    "- fgperc: 평균 슈팅 정확도 퍼센테지\n",
    "- reb: 경기당 평균 리바운드 갯수\n",
    "- ast: 경기당 평균 도움 갯수\n",
    "- stl: 경기당 평균 가로채기 갯수\n",
    "- blk: 경기당 평균 블로킹 갯수\n",
    "- tov: 경기당 평균 실책 갯수\n",
    "- ptsg: 경기당 평균 득점\n",
    "- ws: 승리기여도\n",
    "- sal: 평균연봉(백만달러)\n",
    "\n",
    "이 때, 모형 1은\n",
    "\\begin{equation}\n",
    "ws = a + b_1g + b_2mp + b_3ptsg\n",
    "\\end{equation}\n",
    "\n",
    "모형 2는 \n",
    "\\begin{equation}\n",
    "sal = a + b_1g + b_2mp + b_3fgperc + b_4reb + b_5ast + b_6stl + b_7blk + b_8tov + b_9ptsg\n",
    "\\end{equation}\n",
    "\\\n",
    "\\\n",
    "라 할 때 두 회귀모형을 각각 OLS방법으로 도출하시오.\n",
    "\n",
    "\n"
   ]
  },
  {
   "cell_type": "code",
   "execution_count": 1,
   "id": "bdc18968",
   "metadata": {},
   "outputs": [],
   "source": [
    "import pandas as pd\n",
    "import numpy as np"
   ]
  },
  {
   "cell_type": "code",
   "execution_count": 2,
   "id": "ed262400",
   "metadata": {},
   "outputs": [
    {
     "name": "stdout",
     "output_type": "stream",
     "text": [
      "      season team              name  age     g    gs           mp  fgperc  \\\n",
      "0       2005  LAL       Kobe Bryant   27  80.0  80.0    41.000000   0.450   \n",
      "1       2005  PHI     Allen Iverson   30  72.0  72.0    43.099998   0.447   \n",
      "2       2002  ORL     Tracy McGrady   23  75.0  74.0    39.400002   0.457   \n",
      "3       2013  OKC      Kevin Durant   25  81.0  81.0    38.500000   0.503   \n",
      "4       2006  LAL       Kobe Bryant   28  77.0  77.0    40.799999   0.463   \n",
      "...      ...  ...               ...  ...   ...   ...          ...     ...   \n",
      "7408    2012  MIN     Greg Stiemsma   27   NaN   NaN  1209.000000     NaN   \n",
      "7409    1998  BOS        Ron Mercer   22   NaN   NaN  1551.000000     NaN   \n",
      "7410    2012  MIN  Andrei Kirilenko   31   NaN   NaN  2034.000000     NaN   \n",
      "7411    2001  NYK      Mark Jackson   36   NaN   NaN  2367.000000     NaN   \n",
      "7412    2012  MIN      Luke Ridnour   31   NaN   NaN  2474.000000     NaN   \n",
      "\n",
      "      reb  ast  stl  blk  tov       ptsg         ws        sal  \n",
      "0     5.3  4.5  1.8  0.4  3.1  35.400002  15.300000  15.946875  \n",
      "1     3.2  7.4  1.9  0.1  3.4  33.000000  10.600000  16.453125  \n",
      "2     6.5  5.5  1.7  0.8  2.6  32.099998  16.100000  12.072500  \n",
      "3     7.4  5.5  1.3  0.7  3.5  32.000000  19.200001  17.832627  \n",
      "4     5.7  5.4  1.4  0.5  3.3  31.600000  13.000000  17.718750  \n",
      "...   ...  ...  ...  ...  ...        ...        ...        ...  \n",
      "7408  NaN  NaN  NaN  NaN  NaN        NaN   1.700000   2.575000  \n",
      "7409  NaN  NaN  NaN  NaN  NaN        NaN   1.300000   2.033000  \n",
      "7410  NaN  NaN  NaN  NaN  NaN        NaN   6.000000   9.779349  \n",
      "7411  NaN  NaN  NaN  NaN  NaN        NaN   6.000000   3.860000  \n",
      "7412  NaN  NaN  NaN  NaN  NaN        NaN   4.300000   4.000000  \n",
      "\n",
      "[7413 rows x 16 columns]\n"
     ]
    }
   ],
   "source": [
    "df = pd.read_csv('reg_data/basketball_sample.csv')\n",
    "print(df)"
   ]
  },
  {
   "cell_type": "code",
   "execution_count": 3,
   "id": "13f2e696",
   "metadata": {},
   "outputs": [
    {
     "name": "stdout",
     "output_type": "stream",
     "text": [
      "season      int64\n",
      "team       object\n",
      "name       object\n",
      "age         int64\n",
      "g         float64\n",
      "gs        float64\n",
      "mp        float64\n",
      "fgperc    float64\n",
      "reb       float64\n",
      "ast       float64\n",
      "stl       float64\n",
      "blk       float64\n",
      "tov       float64\n",
      "ptsg      float64\n",
      "ws        float64\n",
      "sal       float64\n",
      "dtype: object\n"
     ]
    }
   ],
   "source": [
    "# df의 각각의 컬럼에 대한 데이터 타입을 확인\n",
    "print(df.dtypes)"
   ]
  },
  {
   "cell_type": "code",
   "execution_count": 4,
   "id": "28d54468",
   "metadata": {},
   "outputs": [
    {
     "name": "stdout",
     "output_type": "stream",
     "text": [
      "season     0\n",
      "team       0\n",
      "name       0\n",
      "age        0\n",
      "g         22\n",
      "gs        22\n",
      "mp         0\n",
      "fgperc    22\n",
      "reb       22\n",
      "ast       22\n",
      "stl       22\n",
      "blk       22\n",
      "tov       22\n",
      "ptsg      22\n",
      "ws         4\n",
      "sal        0\n",
      "dtype: int64\n"
     ]
    }
   ],
   "source": [
    "# df의 데이터에 널값이 있는지 확인하고, 널값이 있다면 해당 행을 삭제\n",
    "print(df.isnull().sum())"
   ]
  },
  {
   "cell_type": "code",
   "execution_count": 6,
   "id": "29d7f770",
   "metadata": {},
   "outputs": [
    {
     "name": "stdout",
     "output_type": "stream",
     "text": [
      "      season team                name  age     g    gs         mp  fgperc  \\\n",
      "0       2005  LAL         Kobe Bryant   27  80.0  80.0  41.000000   0.450   \n",
      "1       2005  PHI       Allen Iverson   30  72.0  72.0  43.099998   0.447   \n",
      "2       2002  ORL       Tracy McGrady   23  75.0  74.0  39.400002   0.457   \n",
      "3       2013  OKC        Kevin Durant   25  81.0  81.0  38.500000   0.503   \n",
      "4       2006  LAL         Kobe Bryant   28  77.0  77.0  40.799999   0.463   \n",
      "...      ...  ...                 ...  ...   ...   ...        ...     ...   \n",
      "7386    2012  CHA       DeSagana Diop   31  22.0   1.0  10.300000   0.296   \n",
      "7387    1998  BKN  William Cunningham   24  15.0   6.0  10.700000   0.167   \n",
      "7388    2000  TOR       Muggsy Bogues   36   3.0   0.0  11.300000   0.000   \n",
      "7389    2015  NOP       Nate Robinson   31   2.0   1.0  11.500000   0.000   \n",
      "7390    2004  NYK    Shandon Anderson   31   1.0   0.0  20.000000   0.000   \n",
      "\n",
      "      reb  ast  stl  blk  tov       ptsg         ws        sal  \n",
      "0     5.3  4.5  1.8  0.4  3.1  35.400002  15.300000  15.946875  \n",
      "1     3.2  7.4  1.9  0.1  3.4  33.000000  10.600000  16.453125  \n",
      "2     6.5  5.5  1.7  0.8  2.6  32.099998  16.100000  12.072500  \n",
      "3     7.4  5.5  1.3  0.7  3.5  32.000000  19.200001  17.832627  \n",
      "4     5.7  5.4  1.4  0.5  3.3  31.600000  13.000000  17.718750  \n",
      "...   ...  ...  ...  ...  ...        ...        ...        ...  \n",
      "7386  2.3  0.6  0.2  0.7  0.4   0.700000  -0.100000   7.372200  \n",
      "7387  1.9  0.1  0.1  0.7  0.3   0.400000  -0.200000   0.350000  \n",
      "7388  1.0  1.7  0.7  0.0  1.3   0.000000  -0.100000   1.740000  \n",
      "7389  0.0  2.0  0.5  0.0  0.0   0.000000   0.000000   0.044000  \n",
      "7390  1.0  0.0  0.0  0.0  1.0   0.000000  -0.100000   7.300000  \n",
      "\n",
      "[7387 rows x 16 columns]\n"
     ]
    }
   ],
   "source": [
    "# 데이터 널값 제거\n",
    "df = df.dropna()\n",
    "print(df)"
   ]
  },
  {
   "cell_type": "code",
   "execution_count": 7,
   "id": "7cf42735",
   "metadata": {},
   "outputs": [],
   "source": [
    "# g: 총 출전 경기 수, gs: 선발 출전 경기 수, mp: 게임당 평균 플레이 시간, fgperc: 평균 슈팅 정확도 퍼센테지, reb: 경기당 평균 리바운드 갯수, \n",
    "# ast: 경기당 평균 도움 갯수, stl: 경기당 평균 가로채기 갯수, blk: 경기당 평균 블로킹 갯수, tov: 경기당 평균 실책 갯수, ptsg: 경기당 평균 득점, \n",
    "# ws: 승리기여도, sal: 평균연봉(백만달러)\n",
    "# 회귀모형1:  ws = a + b_1g + b_2mp + b_3ptsg\n",
    "# 회귀모형2:  sal = a + b_1g + b_2mp + b_3fgperc + b_4reb + b_5ast + b_6stl + b_7blk + b_8tov + b_9ptsg\n",
    "# 회귀모형1의 최소제곱법(OLS)방법으로 도출, 회귀모형2의 최소제곱법(OLS)방법으로 도출\n",
    "# 회귀모형1 회귀분석을 위해 피쳐들의 리스트를 따로 추출하여 Matrix로 구성합니다. 종속변수는 단일벡터이기에 그냥 리스트로 추출합니다.\n",
    "columns = ['g', 'mp', 'ptsg']\n",
    "R1_X = df[columns].to_numpy()\n",
    "R1_y = df['ws'].to_numpy()\n",
    "\n",
    "# 회귀모형2 회귀분석을 위해 피쳐들의 리스트를 따로 추출하여 Matrix로 구성합니다. 종속변수는 단일벡터이기에 그냥 리스트로 추출합니다.\n",
    "columns = ['g', 'mp', 'fgperc', 'reb', 'ast', 'stl', 'blk', 'tov', 'ptsg']\n",
    "R2_X = df[columns].to_numpy()\n",
    "R2_y = df['sal'].to_numpy()"
   ]
  },
  {
   "cell_type": "code",
   "execution_count": 8,
   "id": "89627a96",
   "metadata": {},
   "outputs": [],
   "source": [
    "# 데이터를 트레이닝셋과 테스트셋으로 나누는데 sklearn의 train_test_split을 사용합니다.\n",
    "from sklearn.model_selection import train_test_split\n",
    "R1_X_train, R1_X_test, R1_y_train, R1_y_test = train_test_split(R1_X, R1_y, test_size=0.2, random_state=42)\n",
    "R2_X_train, R2_X_test, R2_y_train, R2_y_test = train_test_split(R2_X, R2_y, test_size=0.2, random_state=42)"
   ]
  },
  {
   "cell_type": "code",
   "execution_count": 9,
   "id": "26d30619",
   "metadata": {},
   "outputs": [],
   "source": [
    "# LinearRegression 모델을 사용하여 회귀분석을 합니다.\n",
    "from sklearn.linear_model import LinearRegression\n",
    "R1_model = LinearRegression().fit(R1_X_train, R1_y_train)\n",
    "R2_model = LinearRegression().fit(R2_X_train, R2_y_train)\n"
   ]
  },
  {
   "cell_type": "code",
   "execution_count": 10,
   "id": "9a410a93",
   "metadata": {},
   "outputs": [
    {
     "name": "stdout",
     "output_type": "stream",
     "text": [
      "[0.05325748 0.03907562 0.27605618]\n"
     ]
    }
   ],
   "source": [
    "# 회귀모형1의 .coef_옵션을 통해 계수추정값이 얼마인지 확인합니다.\n",
    "print(R1_model.coef_)"
   ]
  },
  {
   "cell_type": "code",
   "execution_count": 11,
   "id": "d0d0a1dd",
   "metadata": {},
   "outputs": [
    {
     "name": "stdout",
     "output_type": "stream",
     "text": [
      "[-0.02103562 -0.02080877 -1.60191885  0.4952436   0.68070378 -1.33861069\n",
      "  0.67884647 -0.95596933  0.39956084]\n"
     ]
    }
   ],
   "source": [
    "# 회귀모형2의 .coef_옵션을 통해 계수추정값이 얼마인지 확인합니다.\n",
    "print(R2_model.coef_)"
   ]
  },
  {
   "cell_type": "code",
   "execution_count": 12,
   "id": "72ef4d11",
   "metadata": {},
   "outputs": [],
   "source": [
    "# 회귀모형1의 y값을 예측합니다.\n",
    "R1_y_pred = R1_model.predict(R1_X_test)\n",
    "# 회귀모형2의 y값을 예측합니다.\n",
    "R2_y_pred = R2_model.predict(R2_X_test)"
   ]
  },
  {
   "cell_type": "code",
   "execution_count": 13,
   "id": "90eac47d",
   "metadata": {},
   "outputs": [
    {
     "data": {
      "image/png": "[encoded data removed]",
      "text/plain": [
       "<Figure size 640x480 with 1 Axes>"
      ]
     },
     "metadata": {},
     "output_type": "display_data"
    }
   ],
   "source": [
    "# 회귀모형1의 실제 테스트 값과 예측값 사이의 관계를 알아보겠습니다.\n",
    "import matplotlib.pyplot as plt\n",
    "plt.scatter(R1_y_test, R1_y_pred)\n",
    "plt.xlabel(\"Actual\")\n",
    "plt.ylabel(\"Predicted\")\n",
    "plt.title(\"Actual vs Predicted\")\n",
    "plt.show()"
   ]
  },
  {
   "cell_type": "code",
   "execution_count": 15,
   "id": "112c2cb4",
   "metadata": {},
   "outputs": [
    {
     "name": "stdout",
     "output_type": "stream",
     "text": [
      "R1_r2:  0.6842923166469245\n",
      "R1_adj_r2:  0.6836497636957309\n",
      "R1_mse:  3.306236905253909\n",
      "R1_rmse:  1.81830605379125\n",
      "R1_mae:  1.3500360247541447\n",
      "R1_mape:  115881026746256.72\n",
      "R2_r2:  0.3770840241309733\n",
      "R2_adj_r2:  0.37326505697646295\n",
      "R2_mse:  12.451244352455351\n",
      "R2_rmse:  3.528632079497004\n",
      "R2_mae:  2.5511065722776483\n",
      "R2_mape:  2.2481940398387823\n"
     ]
    }
   ],
   "source": [
    "# 모형의 적합도 및 성능을 알아보기 위해 R2, Adj-R2, MSE, RMSE, MAE, MAPE를 구합니다.\n",
    "# R2와 Adj-R2은 0에서 1사이의 값을 갖는데, 1에 가까울수록 설명력이 높습니다.\\\n",
    "# MSE, RMSE, MAE, MAPE는 낮을수록 좋습니다.\n",
    "# 회귀모형1의 R2, Adj-R2, MSE, RMSE, MAE, MAPE를 구합니다.\n",
    "from sklearn.metrics import r2_score\n",
    "from sklearn.metrics import mean_squared_error\n",
    "from sklearn.metrics import mean_absolute_error\n",
    "from sklearn.metrics import mean_absolute_percentage_error\n",
    "from sklearn.metrics import mean_squared_log_error\n",
    "from math import sqrt\n",
    "\n",
    "R1_mse = mean_squared_error(R1_y_test, R1_y_pred)\n",
    "R1_rmse = sqrt(R1_mse)\n",
    "R1_mae = mean_absolute_error(R1_y_test, R1_y_pred)\n",
    "R1_r2 = r2_score(R1_y_test, R1_y_pred)\n",
    "R1_adj_r2 = 1 - (1-R1_r2)*(len(R1_y_test)-1)/(len(R1_y_test)-R1_X_test.shape[1]-1)\n",
    "R1_mape = mean_absolute_percentage_error(R1_y_test, R1_y_pred)\n",
    "\n",
    "R2_mse = mean_squared_error(R2_y_test, R2_y_pred)\n",
    "R2_rmse = sqrt(R2_mse)\n",
    "R2_mae = mean_absolute_error(R2_y_test, R2_y_pred)\n",
    "R2_r2 = r2_score(R2_y_test, R2_y_pred)\n",
    "R2_adj_r2 = 1 - (1-R2_r2)*(len(R2_y_test)-1)/(len(R2_y_test)-R2_X_test.shape[1]-1)\n",
    "R2_mape = mean_absolute_percentage_error(R2_y_test, R2_y_pred)\n",
    "\n",
    "print(\"R1_r2: \", R1_r2)\n",
    "print(\"R1_adj_r2: \", R1_adj_r2)\n",
    "print(\"R1_mse: \", R1_mse)\n",
    "print(\"R1_rmse: \", R1_rmse)\n",
    "print(\"R1_mae: \", R1_mae)\n",
    "print(\"R1_mape: \", R1_mape)\n",
    "\n",
    "print(\"R2_r2: \", R2_r2)\n",
    "print(\"R2_adj_r2: \", R2_adj_r2)\n",
    "print(\"R2_mse: \", R2_mse)\n",
    "print(\"R2_rmse: \", R2_rmse)\n",
    "print(\"R2_mae: \", R2_mae)\n",
    "print(\"R2_mape: \", R2_mape)\n",
    "\n"
   ]
  },
  {
   "cell_type": "markdown",
   "id": "20953dd0",
   "metadata": {},
   "source": [
    "#### 모형의 적합도 및 성능을 알아보기 위해 R2, Adj-R2, MSE, RMSE, MAE, MAPE를 확인해본바에 따르면,\n",
    "\n",
    "- 회귀모형1의 R2, Adj-R2가 0.68로 높은 설명력을 보이고, MSE, RMSE, MAE, MAPE가 낮은 수치를 보이고 있습니다.\n",
    "- 반면 회귀모형2는 R2, Adj-R2가 0.37로 낮은 설명력을 보이고, MSE, RMSE, MAE, MAPE가 높은 수치를 보이고 있습니다."
   ]
  },
  {
   "cell_type": "markdown",
   "id": "669f5e48",
   "metadata": {},
   "source": [
    "# 과제 2\n",
    "\n",
    "같은 데이터를 75%는 트레이닝 데이터, 25%는 테스트 데이터로 구분하여 머신러닝 후 각각 모형을 평가하시오."
   ]
  },
  {
   "cell_type": "code",
   "execution_count": 16,
   "id": "998ca166",
   "metadata": {},
   "outputs": [],
   "source": [
    "# 같은 데이터를 75%는 트레이닝 데이터, 25%는 테스트 데이터로 구분하여 머신러닝 후 각각 모형을 평가합니다.\n",
    "# 데이터를 트레이닝셋과 테스트셋으로 나누는데 sklearn의 train_test_split을 사용합니다.\n",
    "from sklearn.model_selection import train_test_split\n",
    "RR1_X_train, RR1_X_test, RR1_y_train, RR1_y_test = train_test_split(R1_X, R1_y, test_size=0.25, random_state=42)\n",
    "RR2_X_train, RR2_X_test, RR2_y_train, RR2_y_test = train_test_split(R2_X, R2_y, test_size=0.25, random_state=42)"
   ]
  },
  {
   "cell_type": "code",
   "execution_count": 17,
   "id": "69789617",
   "metadata": {},
   "outputs": [],
   "source": [
    "# LinearRegression 모델을 사용하여 회귀분석을 합니다.\n",
    "from sklearn.linear_model import LinearRegression\n",
    "RR1_model = LinearRegression().fit(RR1_X_train, RR1_y_train)\n",
    "RR2_model = LinearRegression().fit(RR2_X_train, RR2_y_train)"
   ]
  },
  {
   "cell_type": "code",
   "execution_count": 18,
   "id": "d3c7a220",
   "metadata": {},
   "outputs": [],
   "source": [
    "# 회귀모형1의 y값을 예측합니다.\n",
    "RR1_y_pred = RR1_model.predict(RR1_X_test)\n",
    "# 회귀모형2의 y값을 예측합니다.\n",
    "RR2_y_pred = RR2_model.predict(RR2_X_test)"
   ]
  },
  {
   "cell_type": "code",
   "execution_count": 19,
   "id": "e1b1ac52",
   "metadata": {},
   "outputs": [
    {
     "data": {
      "image/png": "[encoded data removed]",
      "text/plain": [
       "<Figure size 640x480 with 1 Axes>"
      ]
     },
     "metadata": {},
     "output_type": "display_data"
    }
   ],
   "source": [
    "# 회귀모형1의 실제 테스트 값과 예측값 사이의 관계를 알아보겠습니다.\n",
    "import matplotlib.pyplot as plt\n",
    "plt.scatter(RR1_y_test, RR1_y_pred)\n",
    "plt.xlabel(\"Actual\")\n",
    "plt.ylabel(\"Predicted\")\n",
    "plt.title(\"Actual vs Predicted\")\n",
    "plt.show()"
   ]
  },
  {
   "cell_type": "code",
   "execution_count": 20,
   "id": "25b4ad6f",
   "metadata": {},
   "outputs": [
    {
     "data": {
      "image/png": "[encoded data removed]",
      "text/plain": [
       "<Figure size 640x480 with 1 Axes>"
      ]
     },
     "metadata": {},
     "output_type": "display_data"
    }
   ],
   "source": [
    "# 회귀모형2의 실제 테스트 값과 예측값 사이의 관계를 알아보겠습니다.\n",
    "import matplotlib.pyplot as plt\n",
    "plt.scatter(RR2_y_test, RR2_y_pred)\n",
    "plt.xlabel(\"Actual\")\n",
    "plt.ylabel(\"Predicted\")\n",
    "plt.title(\"Actual vs Predicted\")\n",
    "plt.show()"
   ]
  },
  {
   "cell_type": "code",
   "execution_count": 21,
   "id": "f037aa18",
   "metadata": {},
   "outputs": [
    {
     "name": "stdout",
     "output_type": "stream",
     "text": [
      "RR1_r2:  0.6900612252455525\n",
      "RR1_adj_r2:  0.6895567128612533\n",
      "RR1_mse:  3.215000776441884\n",
      "RR1_rmse:  1.7930423242193376\n",
      "RR1_mae:  1.330871994604965\n",
      "RR1_mape:  109881732802052.0\n",
      "RR2_r2:  0.3779022051583826\n",
      "RR2_adj_r2:  0.3748543662070628\n",
      "RR2_mse:  12.562235110342957\n",
      "RR2_rmse:  3.544324351740816\n",
      "RR2_mae:  2.567991844480324\n",
      "RR2_mape:  2.3563603019635364\n"
     ]
    }
   ],
   "source": [
    "# 회귀모형1의 적합도 및 성능을 알아보기 위해 R2, Adj-R2, MSE, RMSE, MAE, MAPE를 구합니다.\n",
    "# R2와 Adj-R2은 0에서 1사이의 값을 갖는데, 1에 가까울수록 설명력이 높습니다.\\\n",
    "# MSE, RMSE, MAE, MAPE는 낮을수록 좋습니다.\n",
    "# 회귀모형1의 R2, Adj-R2, MSE, RMSE, MAE, MAPE를 구합니다.\n",
    "from sklearn.metrics import r2_score\n",
    "from sklearn.metrics import mean_squared_error\n",
    "from sklearn.metrics import mean_absolute_error\n",
    "from sklearn.metrics import mean_absolute_percentage_error\n",
    "from sklearn.metrics import mean_squared_log_error\n",
    "from math import sqrt\n",
    "\n",
    "RR1_mse = mean_squared_error(RR1_y_test, RR1_y_pred)\n",
    "RR1_rmse = sqrt(RR1_mse)\n",
    "RR1_mae = mean_absolute_error(RR1_y_test, RR1_y_pred)\n",
    "RR1_r2 = r2_score(RR1_y_test, RR1_y_pred)\n",
    "RR1_adj_r2 = 1 - (1-RR1_r2)*(len(RR1_y_test)-1)/(len(RR1_y_test)-RR1_X_test.shape[1]-1)\n",
    "RR1_mape = mean_absolute_percentage_error(RR1_y_test, RR1_y_pred)\n",
    "\n",
    "RR2_mse = mean_squared_error(RR2_y_test, RR2_y_pred)\n",
    "RR2_rmse = sqrt(RR2_mse)\n",
    "RR2_mae = mean_absolute_error(RR2_y_test, RR2_y_pred)\n",
    "RR2_r2 = r2_score(RR2_y_test, RR2_y_pred)\n",
    "RR2_adj_r2 = 1 - (1-RR2_r2)*(len(RR2_y_test)-1)/(len(RR2_y_test)-RR2_X_test.shape[1]-1)\n",
    "RR2_mape = mean_absolute_percentage_error(RR2_y_test, RR2_y_pred)\n",
    "\n",
    "print(\"RR1_r2: \", RR1_r2)\n",
    "print(\"RR1_adj_r2: \", RR1_adj_r2)\n",
    "print(\"RR1_mse: \", RR1_mse)\n",
    "print(\"RR1_rmse: \", RR1_rmse)\n",
    "print(\"RR1_mae: \", RR1_mae)\n",
    "print(\"RR1_mape: \", RR1_mape)\n",
    "\n",
    "print(\"RR2_r2: \", RR2_r2)\n",
    "print(\"RR2_adj_r2: \", RR2_adj_r2)\n",
    "print(\"RR2_mse: \", RR2_mse)\n",
    "print(\"RR2_rmse: \", RR2_rmse)\n",
    "print(\"RR2_mae: \", RR2_mae)\n",
    "print(\"RR2_mape: \", RR2_mape)\n"
   ]
  },
  {
   "cell_type": "code",
   "execution_count": 22,
   "id": "e1c529fe",
   "metadata": {},
   "outputs": [],
   "source": [
    "# 회귀모형1과 회귀모형2의 모형의 적합도 및 성능을 알아보기 위해 R2, Adj-R2, MSE, RMSE, MAE, MAPE를 확인 결과,\n",
    "# 회귀모형1의 R2: 0.69, Adj-R2: 0.68, MSE: 3.21, RMSE: 1.79, MAE: 1.33, MAPE: 109881732802052\n",
    "# 회귀모형2의 R2: 0.38, Adj-R2: 0.37, MSE: 12.56, RMSE: 3.54, MAE: 2.57, MAPE: 2.36\n",
    "# 회귀모형1의 R2, Adj-R2, MSE, RMSE, MAE, MAPE가 더 좋은 성능을 보이고 있습니다.\n"
   ]
  },
  {
   "cell_type": "markdown",
   "id": "e31dc2a6",
   "metadata": {},
   "source": [
    "# 과제 3\n",
    "\n",
    "bikeshare.csv는 Kaggle에서 다운로드 받은 데이터로 자전거 대여 서비스에 관한 데이터이다.(https://www.kaggle.com/c/bike-sharing-demand/data)\n",
    "데이터의 설명은 다음과 같다.\n",
    "\n",
    "- datetime: 시간대(시간단위)\n",
    "- season: 계절(1봄, 2여름, 3가을, 4겨울)\n",
    "- holiday: 1은 공휴일\n",
    "- workingday: 1은 주말도 공휴일도 아닌날\n",
    "- weather: 1맑음 2안개 3가벼운비 4폭우\n",
    "- temp: 기온(섭씨)\n",
    "- atemp: 체감온도\n",
    "- humidity: 습도\n",
    "- windspeed: 풍속\n",
    "- casual: 비회원으로 빌려간 유저의 수\n",
    "- registered: 회원으로 빌려간 유저의 수\n",
    "- count: 총 이용자 수\n",
    "\n",
    "이를 활용하여 모형을 세우고 회귀분석 방법을 활용하여 데이터 분석을 해보자."
   ]
  },
  {
   "cell_type": "code",
   "execution_count": 23,
   "id": "18687990",
   "metadata": {},
   "outputs": [
    {
     "name": "stdout",
     "output_type": "stream",
     "text": [
      "                  datetime  season  holiday  workingday  weather   temp  \\\n",
      "0      2011-01-01 00:00:00       1        0           0        1   9.84   \n",
      "1      2011-01-01 01:00:00       1        0           0        1   9.02   \n",
      "2      2011-01-01 02:00:00       1        0           0        1   9.02   \n",
      "3      2011-01-01 03:00:00       1        0           0        1   9.84   \n",
      "4      2011-01-01 04:00:00       1        0           0        1   9.84   \n",
      "...                    ...     ...      ...         ...      ...    ...   \n",
      "10881  2012-12-19 19:00:00       4        0           1        1  15.58   \n",
      "10882  2012-12-19 20:00:00       4        0           1        1  14.76   \n",
      "10883  2012-12-19 21:00:00       4        0           1        1  13.94   \n",
      "10884  2012-12-19 22:00:00       4        0           1        1  13.94   \n",
      "10885  2012-12-19 23:00:00       4        0           1        1  13.12   \n",
      "\n",
      "        atemp  humidity  windspeed  casual  registered  count  \n",
      "0      14.395        81     0.0000       3          13     16  \n",
      "1      13.635        80     0.0000       8          32     40  \n",
      "2      13.635        80     0.0000       5          27     32  \n",
      "3      14.395        75     0.0000       3          10     13  \n",
      "4      14.395        75     0.0000       0           1      1  \n",
      "...       ...       ...        ...     ...         ...    ...  \n",
      "10881  19.695        50    26.0027       7         329    336  \n",
      "10882  17.425        57    15.0013      10         231    241  \n",
      "10883  15.910        61    15.0013       4         164    168  \n",
      "10884  17.425        61     6.0032      12         117    129  \n",
      "10885  16.665        66     8.9981       4          84     88  \n",
      "\n",
      "[10886 rows x 12 columns]\n"
     ]
    }
   ],
   "source": [
    "# bikeshare.csv는 자전거 대여소의 데이터입니다. 이 데이터를 이용하여 회귀분석을 진행합니다.\n",
    "# 데이터를 불러옵니다.\n",
    "df = pd.read_csv('reg_data/bikeshare.csv')\n",
    "print(df)"
   ]
  },
  {
   "cell_type": "code",
   "execution_count": 24,
   "id": "69e5173d",
   "metadata": {},
   "outputs": [
    {
     "name": "stdout",
     "output_type": "stream",
     "text": [
      "datetime       object\n",
      "season          int64\n",
      "holiday         int64\n",
      "workingday      int64\n",
      "weather         int64\n",
      "temp          float64\n",
      "atemp         float64\n",
      "humidity        int64\n",
      "windspeed     float64\n",
      "casual          int64\n",
      "registered      int64\n",
      "count           int64\n",
      "dtype: object\n"
     ]
    }
   ],
   "source": [
    "# df의 각각의 컬럼에 대한 데이터 타입을 확인\n",
    "print(df.dtypes)"
   ]
  },
  {
   "cell_type": "code",
   "execution_count": 25,
   "id": "442dc071",
   "metadata": {},
   "outputs": [
    {
     "name": "stdout",
     "output_type": "stream",
     "text": [
      "datetime      0\n",
      "season        0\n",
      "holiday       0\n",
      "workingday    0\n",
      "weather       0\n",
      "temp          0\n",
      "atemp         0\n",
      "humidity      0\n",
      "windspeed     0\n",
      "casual        0\n",
      "registered    0\n",
      "count         0\n",
      "dtype: int64\n"
     ]
    }
   ],
   "source": [
    "# df의 데이터에 널값이 있는지 확인하고, 널값이 있다면 해당 행을 삭제\n",
    "print(df.isnull().sum())"
   ]
  },
  {
   "cell_type": "code",
   "execution_count": 27,
   "id": "14ccd5b0",
   "metadata": {},
   "outputs": [],
   "source": [
    "# 널값이 없으므로 널값 제거는 생략하고, 회귀모형을 만들기 위해 상관계수를 확인하는데, datetime의 컬럼이 오브젝트 타입이어서 데이트타입 타입으로 변환.\n",
    "df['datetime'] = pd.to_datetime(df['datetime'])\n",
    "# df['datetime']을 연도, 월, 일, 요일, 시간 정보로 파생 변수를 생성.\n",
    "df['year'] = df['datetime'].dt.year\n",
    "df['month'] = df['datetime'].dt.month\n",
    "df['day'] = df['datetime'].dt.day\n",
    "df['hour'] = df['datetime'].dt.hour\n",
    "df['weekday'] = df['datetime'].dt.weekday \n"
   ]
  },
  {
   "cell_type": "code",
   "execution_count": 29,
   "id": "23cc7a38",
   "metadata": {},
   "outputs": [
    {
     "name": "stdout",
     "output_type": "stream",
     "text": [
      "                 datetime  holiday  workingday   temp   atemp  humidity  \\\n",
      "0     2011-01-01 00:00:00        0           0   9.84  14.395        81   \n",
      "1     2011-01-01 01:00:00        0           0   9.02  13.635        80   \n",
      "2     2011-01-01 02:00:00        0           0   9.02  13.635        80   \n",
      "3     2011-01-01 03:00:00        0           0   9.84  14.395        75   \n",
      "4     2011-01-01 04:00:00        0           0   9.84  14.395        75   \n",
      "...                   ...      ...         ...    ...     ...       ...   \n",
      "10881 2012-12-19 19:00:00        0           1  15.58  19.695        50   \n",
      "10882 2012-12-19 20:00:00        0           1  14.76  17.425        57   \n",
      "10883 2012-12-19 21:00:00        0           1  13.94  15.910        61   \n",
      "10884 2012-12-19 22:00:00        0           1  13.94  17.425        61   \n",
      "10885 2012-12-19 23:00:00        0           1  13.12  16.665        66   \n",
      "\n",
      "       windspeed  casual  registered  count  ...  hour  weekday  season_1  \\\n",
      "0         0.0000       3          13     16  ...     0        5      True   \n",
      "1         0.0000       8          32     40  ...     1        5      True   \n",
      "2         0.0000       5          27     32  ...     2        5      True   \n",
      "3         0.0000       3          10     13  ...     3        5      True   \n",
      "4         0.0000       0           1      1  ...     4        5      True   \n",
      "...          ...     ...         ...    ...  ...   ...      ...       ...   \n",
      "10881    26.0027       7         329    336  ...    19        2     False   \n",
      "10882    15.0013      10         231    241  ...    20        2     False   \n",
      "10883    15.0013       4         164    168  ...    21        2     False   \n",
      "10884     6.0032      12         117    129  ...    22        2     False   \n",
      "10885     8.9981       4          84     88  ...    23        2     False   \n",
      "\n",
      "       season_2  season_3  season_4  weather_1  weather_2  weather_3  \\\n",
      "0         False     False     False       True      False      False   \n",
      "1         False     False     False       True      False      False   \n",
      "2         False     False     False       True      False      False   \n",
      "3         False     False     False       True      False      False   \n",
      "4         False     False     False       True      False      False   \n",
      "...         ...       ...       ...        ...        ...        ...   \n",
      "10881     False     False      True       True      False      False   \n",
      "10882     False     False      True       True      False      False   \n",
      "10883     False     False      True       True      False      False   \n",
      "10884     False     False      True       True      False      False   \n",
      "10885     False     False      True       True      False      False   \n",
      "\n",
      "       weather_4  \n",
      "0          False  \n",
      "1          False  \n",
      "2          False  \n",
      "3          False  \n",
      "4          False  \n",
      "...          ...  \n",
      "10881      False  \n",
      "10882      False  \n",
      "10883      False  \n",
      "10884      False  \n",
      "10885      False  \n",
      "\n",
      "[10886 rows x 23 columns]\n"
     ]
    }
   ],
   "source": [
    "# 여기서 season과 weather는 범주형 변수이므로 원-핫 인코딩을 통해 처리됩니다.\n",
    "df = pd.get_dummies(df, columns=['season', 'weather'])\n",
    "print(df)"
   ]
  },
  {
   "cell_type": "code",
   "execution_count": 39,
   "id": "81302db5",
   "metadata": {},
   "outputs": [
    {
     "name": "stdout",
     "output_type": "stream",
     "text": [
      "                            datetime       holiday    workingday         temp  \\\n",
      "count                          10886  10886.000000  10886.000000  10886.00000   \n",
      "mean   2011-12-27 05:56:22.399411968      0.028569      0.680875     20.23086   \n",
      "min              2011-01-01 00:00:00      0.000000      0.000000      0.82000   \n",
      "25%              2011-07-02 07:15:00      0.000000      0.000000     13.94000   \n",
      "50%              2012-01-01 20:30:00      0.000000      1.000000     20.50000   \n",
      "75%              2012-07-01 12:45:00      0.000000      1.000000     26.24000   \n",
      "max              2012-12-19 23:00:00      1.000000      1.000000     41.00000   \n",
      "std                              NaN      0.166599      0.466159      7.79159   \n",
      "\n",
      "              atemp      humidity     windspeed        casual    registered  \\\n",
      "count  10886.000000  10886.000000  10886.000000  10886.000000  10886.000000   \n",
      "mean      23.655084     61.886460     12.799395     36.021955    155.552177   \n",
      "min        0.760000      0.000000      0.000000      0.000000      0.000000   \n",
      "25%       16.665000     47.000000      7.001500      4.000000     36.000000   \n",
      "50%       24.240000     62.000000     12.998000     17.000000    118.000000   \n",
      "75%       31.060000     77.000000     16.997900     49.000000    222.000000   \n",
      "max       45.455000    100.000000     56.996900    367.000000    886.000000   \n",
      "std        8.474601     19.245033      8.164537     49.960477    151.039033   \n",
      "\n",
      "              count          year         month           day          hour  \\\n",
      "count  10886.000000  10886.000000  10886.000000  10886.000000  10886.000000   \n",
      "mean     191.574132   2011.501929      6.521495      9.992559     11.541613   \n",
      "min        1.000000   2011.000000      1.000000      1.000000      0.000000   \n",
      "25%       42.000000   2011.000000      4.000000      5.000000      6.000000   \n",
      "50%      145.000000   2012.000000      7.000000     10.000000     12.000000   \n",
      "75%      284.000000   2012.000000     10.000000     15.000000     18.000000   \n",
      "max      977.000000   2012.000000     12.000000     19.000000     23.000000   \n",
      "std      181.144454      0.500019      3.444373      5.476608      6.915838   \n",
      "\n",
      "            weekday  \n",
      "count  10886.000000  \n",
      "mean       3.013963  \n",
      "min        0.000000  \n",
      "25%        1.000000  \n",
      "50%        3.000000  \n",
      "75%        5.000000  \n",
      "max        6.000000  \n",
      "std        2.004585  \n"
     ]
    }
   ],
   "source": [
    "# 데이터의 통계적 정보를 확인합니다.\n",
    "print(df.describe())"
   ]
  },
  {
   "cell_type": "code",
   "execution_count": 30,
   "id": "b2bb442e",
   "metadata": {},
   "outputs": [
    {
     "name": "stdout",
     "output_type": "stream",
     "text": [
      "            datetime   holiday  workingday      temp     atemp  humidity  \\\n",
      "datetime    1.000000  0.010988   -0.003658  0.180986  0.181823  0.032856   \n",
      "holiday     0.010988  1.000000   -0.250491  0.000295 -0.005215  0.001929   \n",
      "workingday -0.003658 -0.250491    1.000000  0.029966  0.024660 -0.010880   \n",
      "temp        0.180986  0.000295    0.029966  1.000000  0.984948 -0.064949   \n",
      "atemp       0.181823 -0.005215    0.024660  0.984948  1.000000 -0.043536   \n",
      "humidity    0.032856  0.001929   -0.010880 -0.064949 -0.043536  1.000000   \n",
      "windspeed  -0.086888  0.008409    0.013373 -0.017852 -0.057473 -0.318607   \n",
      "casual      0.172728  0.043799   -0.319111  0.467097  0.462067 -0.348187   \n",
      "registered  0.314879 -0.020956    0.119460  0.318571  0.314635 -0.265458   \n",
      "count       0.310187 -0.005393    0.011594  0.394454  0.389784 -0.317371   \n",
      "year        0.866570  0.012021   -0.002482  0.061226  0.058540 -0.078606   \n",
      "month       0.494087  0.001731   -0.003394  0.257589  0.264173  0.204537   \n",
      "day         0.028563 -0.015877    0.009829  0.015551  0.011866 -0.011335   \n",
      "hour       -0.005663 -0.000354    0.002780  0.145430  0.140343 -0.278011   \n",
      "weekday    -0.004676 -0.191832   -0.704267 -0.038466 -0.040235 -0.026507   \n",
      "season_1   -0.367648 -0.007336   -0.000379 -0.565655 -0.569082 -0.166208   \n",
      "season_2   -0.130557 -0.038250    0.014620  0.192661  0.204421 -0.031095   \n",
      "season_3    0.122125  0.022790   -0.007194  0.635975  0.607090  0.067308   \n",
      "season_4    0.373909  0.022751   -0.007048 -0.266220 -0.245690  0.129018   \n",
      "weather_1  -0.008822 -0.001708   -0.024078  0.058430  0.055825 -0.374837   \n",
      "weather_2   0.026342  0.013868    0.003324 -0.046925 -0.040792  0.222398   \n",
      "weather_3  -0.027404 -0.019514    0.036643 -0.025715 -0.031154  0.295894   \n",
      "weather_4   0.000615 -0.001644    0.006562 -0.014800 -0.013901  0.012010   \n",
      "\n",
      "            windspeed    casual  registered     count  ...      hour  \\\n",
      "datetime    -0.086888  0.172728    0.314879  0.310187  ... -0.005663   \n",
      "holiday      0.008409  0.043799   -0.020956 -0.005393  ... -0.000354   \n",
      "workingday   0.013373 -0.319111    0.119460  0.011594  ...  0.002780   \n",
      "temp        -0.017852  0.467097    0.318571  0.394454  ...  0.145430   \n",
      "atemp       -0.057473  0.462067    0.314635  0.389784  ...  0.140343   \n",
      "humidity    -0.318607 -0.348187   -0.265458 -0.317371  ... -0.278011   \n",
      "windspeed    1.000000  0.092276    0.091052  0.101369  ...  0.146631   \n",
      "casual       0.092276  1.000000    0.497250  0.690414  ...  0.302045   \n",
      "registered   0.091052  0.497250    1.000000  0.970948  ...  0.380540   \n",
      "count        0.101369  0.690414    0.970948  1.000000  ...  0.400601   \n",
      "year        -0.015221  0.145241    0.264265  0.260403  ... -0.004234   \n",
      "month       -0.150192  0.092722    0.169451  0.166862  ... -0.006818   \n",
      "day          0.036157  0.014109    0.019111  0.019826  ...  0.001132   \n",
      "hour         0.146631  0.302045    0.380540  0.400601  ...  1.000000   \n",
      "weekday     -0.024804  0.246959   -0.084427 -0.002283  ... -0.002925   \n",
      "season_1     0.128819 -0.235222   -0.207278 -0.237704  ...  0.008357   \n",
      "season_2     0.042991  0.132405    0.046969  0.075681  ... -0.002733   \n",
      "season_3    -0.091521  0.187726    0.102142  0.136942  ... -0.002611   \n",
      "season_4    -0.079535 -0.086258    0.056961  0.023704  ... -0.002964   \n",
      "weather_1    0.015920  0.119728    0.086621  0.105246  ...  0.038791   \n",
      "weather_2   -0.045016 -0.062184   -0.028997 -0.041329  ... -0.050671   \n",
      "weather_3    0.045597 -0.108853   -0.104936 -0.117519  ...  0.014030   \n",
      "weather_4   -0.007979 -0.005760    0.000155 -0.001459  ...  0.008951   \n",
      "\n",
      "             weekday  season_1  season_2  season_3  season_4  weather_1  \\\n",
      "datetime   -0.004676 -0.367648 -0.130557  0.122125  0.373909  -0.008822   \n",
      "holiday    -0.191832 -0.007336 -0.038250  0.022790  0.022751  -0.001708   \n",
      "workingday -0.704267 -0.000379  0.014620 -0.007194 -0.007048  -0.024078   \n",
      "temp       -0.038466 -0.565655  0.192661  0.635975 -0.266220   0.058430   \n",
      "atemp      -0.040235 -0.569082  0.204421  0.607090 -0.245690   0.055825   \n",
      "humidity   -0.026507 -0.166208 -0.031095  0.067308  0.129018  -0.374837   \n",
      "windspeed  -0.024804  0.128819  0.042991 -0.091521 -0.079535   0.015920   \n",
      "casual      0.246959 -0.235222  0.132405  0.187726 -0.086258   0.119728   \n",
      "registered -0.084427 -0.207278  0.046969  0.102142  0.056961   0.086621   \n",
      "count      -0.002283 -0.237704  0.075681  0.136942  0.023704   0.105246   \n",
      "year       -0.003785  0.006315 -0.002446 -0.001598 -0.002234  -0.000339   \n",
      "month      -0.002266 -0.750291 -0.255581  0.248354  0.753087  -0.017101   \n",
      "day        -0.011070 -0.002491  0.001019  0.000941  0.000516  -0.000301   \n",
      "hour       -0.002925  0.008357 -0.002733 -0.002611 -0.002964   0.038791   \n",
      "weekday     1.000000  0.010789 -0.000757 -0.003505 -0.006464   0.048353   \n",
      "season_1    0.010789  1.000000 -0.331365 -0.331365 -0.331446  -0.006996   \n",
      "season_2   -0.000757 -0.331365  1.000000 -0.335214 -0.335296  -0.002057   \n",
      "season_3   -0.003505 -0.331365 -0.335214  1.000000 -0.335296   0.055660   \n",
      "season_4   -0.006464 -0.331446 -0.335296 -0.335296  1.000000  -0.046642   \n",
      "weather_1   0.048353 -0.006996 -0.002057  0.055660 -0.046642   1.000000   \n",
      "weather_2  -0.035776  0.007644 -0.001687 -0.051895  0.045976  -0.827798   \n",
      "weather_3  -0.026177 -0.000750  0.006556 -0.013089  0.007278  -0.408402   \n",
      "weather_4  -0.014412  0.016747 -0.005549 -0.005549 -0.005551  -0.013374   \n",
      "\n",
      "            weather_2  weather_3  weather_4  \n",
      "datetime     0.026342  -0.027404   0.000615  \n",
      "holiday      0.013868  -0.019514  -0.001644  \n",
      "workingday   0.003324   0.036643   0.006562  \n",
      "temp        -0.046925  -0.025715  -0.014800  \n",
      "atemp       -0.040792  -0.031154  -0.013901  \n",
      "humidity     0.222398   0.295894   0.012010  \n",
      "windspeed   -0.045016   0.045597  -0.007979  \n",
      "casual      -0.062184  -0.108853  -0.005760  \n",
      "registered  -0.028997  -0.104936   0.000155  \n",
      "count       -0.041329  -0.117519  -0.001459  \n",
      "year         0.019064  -0.030774   0.009548  \n",
      "month        0.019029  -0.000392  -0.015366  \n",
      "day          0.012006  -0.018953  -0.001737  \n",
      "hour        -0.050671   0.014030   0.008951  \n",
      "weekday     -0.035776  -0.026177  -0.014412  \n",
      "season_1     0.007644  -0.000750   0.016747  \n",
      "season_2    -0.001687   0.006556  -0.005549  \n",
      "season_3    -0.051895  -0.013089  -0.005549  \n",
      "season_4     0.045976   0.007278  -0.005551  \n",
      "weather_1   -0.827798  -0.408402  -0.013374  \n",
      "weather_2    1.000000  -0.173644  -0.005686  \n",
      "weather_3   -0.173644   1.000000  -0.002805  \n",
      "weather_4   -0.005686  -0.002805   1.000000  \n",
      "\n",
      "[23 rows x 23 columns]\n"
     ]
    }
   ],
   "source": [
    "# 회귀모형을 만들기 위해 상관계수를 확인합니다.\n",
    "print(df.corr())"
   ]
  },
  {
   "cell_type": "markdown",
   "id": "483772ea",
   "metadata": {},
   "source": [
    "### 1. 선택된 변수들:\n",
    "\n",
    "- hour는 하루 중 시간과 count의 상관계수가 높으므로, 시간대별 대여 수 변화를 포착하는 데 중요한 변수입니다.\n",
    "- temp는 기온이 count에 미치는 영향을 나타내며, atemp와 매우 높은 상관관계가 있기 때문에 둘 중 하나만 모델에 포함하는 것이 좋습니다.\n",
    "- humidity는 count와 음의 상관관계를 보여줍니다. 습도가 높을수록 자전거 이용률이 낮을 수 있음을 의미합니다.\n",
    "- season_1, season_2, season_3, season_4, weather_1, weather_2, weather_3, weather_4는 계절과 날씨 조건이 원-핫 인코딩으로 처리되었으며, 각각의 카테고리는 count와 다른 상관관계를 가지고 있습니다.\n",
    "\n",
    "### 2. 회귀 모델의 구성:\n",
    "\n",
    "- **종속 변수:** count - 총 자전거 대여 수\n",
    "- **독립 변수:** 모델에 포함할 수 있는 주요 변수는 hour, temp (또는 atemp), humidity, season_1, season_2, season_3, season_4, weather_1, weather_2, weather_3 입니다. 이 변수들은 각각 시간, 온도, 습도, 계절, 날씨와 같은 요소가 자전거 대여 수에 미치는 영향을 포착합니다.\n",
    "- holiday와 workingday는 모델에 포함할 수 있지만, 이 둘은 서로 반대 개념이므로 함께 포함시키는 것은 적절하지 않을 수 있습니다.\n",
    "\n",
    "### 3. 모델의 해석:\n",
    "\n",
    "- 'hour'와 temp의 양의 상관관계는 자전거 대여 수가 하루 중 특정 시간에 높으며, 기온이 온화할 때 더 많이 대여됨을 나타냅니다.\n",
    "- humidity의 음의 상관관계는 습도가 높을 때 자전거 대여 수가 감소할 수 있음을 의미합니다.\n",
    "- 계절과 날씨 관련 더미 변수들은 특정 계절이나 날씨 상태에서 자전거 대여 수의 변화를 포착할 수 있습니다."
   ]
  },
  {
   "cell_type": "code",
   "execution_count": 32,
   "id": "708af2ec",
   "metadata": {},
   "outputs": [],
   "source": [
    "# 회귀모형을 만들기 위해 종속변수와 독립변수를 설정합니다.\n",
    "# 종속 변수: count - 총 자전거 대여 수\n",
    "# 독립 변수: 모델에 포함할 수 있는 주요 변수는 \n",
    "# hour, temp (또는 atemp), humidity, season_1, season_2, season_3, season_4, weather_1, weather_2, weather_3 입니다. \n",
    "# 이 변수들은 각각 시간, 온도, 습도, 계절, 날씨와 같은 요소가 자전거 대여 수에 미치는 영향을 포착합니다.\n",
    "columns = ['hour', 'temp', 'humidity', 'season_1', 'season_2', 'season_3', 'season_4', 'weather_1', 'weather_2', 'weather_3']\n",
    "X = df[columns].to_numpy()\n",
    "y = df['count'].to_numpy()"
   ]
  },
  {
   "cell_type": "code",
   "execution_count": 33,
   "id": "12cf037f",
   "metadata": {},
   "outputs": [],
   "source": [
    "# 데이터를 트레이닝셋과 테스트셋으로 나누는데 sklearn의 train_test_split을 사용합니다.\n",
    "from sklearn.model_selection import train_test_split\n",
    "X_train, X_test, y_train, y_test = train_test_split(X, y, test_size=0.2, random_state=42)"
   ]
  },
  {
   "cell_type": "code",
   "execution_count": 34,
   "id": "84a5c958",
   "metadata": {},
   "outputs": [],
   "source": [
    "# LinearRegression 모델을 사용하여 회귀분석을 합니다.\n",
    "from sklearn.linear_model import LinearRegression\n",
    "model = LinearRegression().fit(X_train, y_train)"
   ]
  },
  {
   "cell_type": "code",
   "execution_count": 35,
   "id": "6d854925",
   "metadata": {},
   "outputs": [
    {
     "name": "stdout",
     "output_type": "stream",
     "text": [
      "[   7.5014403     9.20755488   -2.0669948   -15.98473551   -2.2878976\n",
      "  -32.97380142   51.24643453 -101.31127658  -91.9973653  -130.54144163]\n"
     ]
    }
   ],
   "source": [
    "# 회귀모형의 .coef_옵션을 통해 계수추정값이 얼마인지 확인합니다.\n",
    "print(model.coef_)"
   ]
  },
  {
   "cell_type": "code",
   "execution_count": 36,
   "id": "6bebf31c",
   "metadata": {},
   "outputs": [],
   "source": [
    "# 회귀모형의 y값을 예측합니다.\n",
    "y_pred = model.predict(X_test)"
   ]
  },
  {
   "cell_type": "code",
   "execution_count": 37,
   "id": "72bee857",
   "metadata": {},
   "outputs": [
    {
     "data": {
      "image/png": "[encoded data removed]",
      "text/plain": [
       "<Figure size 640x480 with 1 Axes>"
      ]
     },
     "metadata": {},
     "output_type": "display_data"
    }
   ],
   "source": [
    "# 회귀모형의 실제 테스트 값과 예측값 사이의 관계를 알아보겠습니다.\n",
    "import matplotlib.pyplot as plt\n",
    "plt.scatter(y_test, y_pred)\n",
    "plt.xlabel(\"Actual\")\n",
    "plt.ylabel(\"Predicted\")\n",
    "plt.title(\"Actual vs Predicted\")\n",
    "plt.show()"
   ]
  },
  {
   "cell_type": "code",
   "execution_count": 38,
   "id": "0ef06e9c",
   "metadata": {},
   "outputs": [
    {
     "name": "stdout",
     "output_type": "stream",
     "text": [
      "r2:  0.3488811691622168\n",
      "adj_r2:  0.3458764675893613\n",
      "mse:  21491.437489980293\n",
      "rmse:  146.59958216168386\n",
      "mae:  107.58636237605774\n",
      "mape:  3.1984441188562345\n"
     ]
    }
   ],
   "source": [
    "# 모형의 적합도 및 성능을 알아보기 위해 R2, Adj-R2, MSE, RMSE, MAE, MAPE를 구합니다.\n",
    "# R2와 Adj-R2은 0에서 1사이의 값을 갖는데, 1에 가까울수록 설명력이 높습니다.\\\n",
    "# MSE, RMSE, MAE, MAPE는 낮을수록 좋습니다.\n",
    "from sklearn.metrics import r2_score\n",
    "from sklearn.metrics import mean_squared_error\n",
    "from sklearn.metrics import mean_absolute_error \n",
    "from sklearn.metrics import mean_absolute_percentage_error\n",
    "from math import sqrt\n",
    "\n",
    "mse = mean_squared_error(y_test, y_pred)\n",
    "rmse = sqrt(mse)\n",
    "mae = mean_absolute_error(y_test, y_pred)\n",
    "r2 = r2_score(y_test, y_pred)\n",
    "adj_r2 = 1 - (1-r2)*(len(y_test)-1)/(len(y_test)-X_test.shape[1]-1)\n",
    "mape = mean_absolute_percentage_error(y_test, y_pred)\n",
    "\n",
    "print(\"r2: \", r2)\n",
    "print(\"adj_r2: \", adj_r2)\n",
    "print(\"mse: \", mse)\n",
    "print(\"rmse: \", rmse)\n",
    "print(\"mae: \", mae)\n",
    "print(\"mape: \", mape)\n"
   ]
  },
  {
   "cell_type": "code",
   "execution_count": null,
   "id": "74f60927",
   "metadata": {},
   "outputs": [],
   "source": [
    "# 모형의 적합도 및 성능을 알아보기 위해 R2, Adj-R2, MSE, RMSE, MAE, MAPE를 확인 결과,\n",
    "# R2: 0.35, Adj-R2: 0.35, MSE: 21491.43, RMSE: 146.60, MAE: 107.59, MAPE: 3.2 입니다."
   ]
  },
  {
   "cell_type": "markdown",
   "id": "e91e5588",
   "metadata": {},
   "source": [
    "### 모형설명\n",
    "- **결정 계수(R²):** 이 값은 모형이 데이터의 변동성을 얼마나 잘 설명하는지를 나타내는 지표입니다. 0.35의 R² 값은 모형이 데이터의 약 35%만 설명하고 있음을 의미하며, 이는 상대적으로 낮은 수치로, 모델이 데이터에 대해 상당 부분 설명하지 못하고 있다는 것을 나타냅니다.\n",
    "\n",
    "- **평균 제곱 오차(MSE):** 이 값은 모델의 예측값과 실제값의 차이를 제곱한 후 평균을 낸 것입니다. MSE가 21491.43이라는 것은 예측 오류가 상당히 크다는 것을 의미합니다."
   ]
  }
 ],
 "metadata": {
  "kernelspec": {
   "display_name": "Python 3 (ipykernel)",
   "language": "python",
   "name": "python3"
  },
  "language_info": {
   "codemirror_mode": {
    "name": "ipython",
    "version": 3
   },
   "file_extension": ".py",
   "mimetype": "text/x-python",
   "name": "python",
   "nbconvert_exporter": "python",
   "pygments_lexer": "ipython3",
   "version": "3.11.5"
  }
 },
 "nbformat": 4,
 "nbformat_minor": 5
}
